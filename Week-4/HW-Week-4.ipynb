{
 "cells": [
  {
   "cell_type": "markdown",
   "id": "e780f6c0-99f1-446e-a8f0-eaded82bab17",
   "metadata": {},
   "source": [
    "**Question 1**\n",
    "\n",
    "* Install Pipenv\n",
    "* What's the version of pipenv you installed?\n",
    "* Use --version to find out\n"
   ]
  },
  {
   "cell_type": "markdown",
   "id": "290bcec4-17ea-4f5d-b7ce-dd6f020d51af",
   "metadata": {},
   "source": [
    "```bash\n",
    "pip install pipenv\n",
    "```"
   ]
  },
  {
   "cell_type": "code",
   "execution_count": 1,
   "id": "4d32ad80-3f35-4121-97a0-6f27ad3d429e",
   "metadata": {},
   "outputs": [
    {
     "name": "stdout",
     "output_type": "stream",
     "text": [
      "\u001b[1mpipenv\u001b[0m, version 2023.6.12\n"
     ]
    }
   ],
   "source": [
    "!pipenv --version"
   ]
  },
  {
   "cell_type": "markdown",
   "id": "21d24fa7-d382-4e5c-af53-953c8d529cfa",
   "metadata": {},
   "source": [
    "**Question 2**\n",
    "* Use Pipenv to install Scikit-Learn version 1.3.1\n",
    "* What's the first hash for scikit-learn you get in Pipfile.lock?\n",
    "> Note: you should create an empty folder for homework and do it there."
   ]
  },
  {
   "cell_type": "markdown",
   "id": "15b6c298-d5d4-47c9-b035-6b74d286b6e0",
   "metadata": {},
   "source": [
    "```bash\n",
    "pipenv install scikit-learn==1.3.1\n",
    "```"
   ]
  },
  {
   "cell_type": "code",
   "execution_count": 5,
   "id": "6500b2fa-1614-4e84-83a1-11057d51092e",
   "metadata": {},
   "outputs": [
    {
     "name": "stdout",
     "output_type": "stream",
     "text": [
      "        \"scikit-learn\": {\n",
      "            \"hashes\": [\n",
      "                \"sha256:0c275a06c5190c5ce00af0acbb61c06374087949f643ef32d355ece12c4db043\",\n"
     ]
    }
   ],
   "source": [
    "!grep -A2 \"scikit-learn\"  Pipfile.lock"
   ]
  },
  {
   "cell_type": "markdown",
   "id": "d004d7bf-2603-4980-8b01-645320b4fa89",
   "metadata": {},
   "source": [
    "Answer: 0c275a06c5190c5ce00af0acbb61c06374087949f643ef32d355ece12c4db043"
   ]
  },
  {
   "cell_type": "markdown",
   "id": "a07496c3-5eae-4f28-8066-d0291329eb6e",
   "metadata": {},
   "source": [
    "**Models**\n",
    "\n",
    "We've prepared a dictionary vectorizer and a model.\n",
    "\n",
    "They were trained (roughly) using this code:\n",
    "```bash\n",
    "features = ['job','duration', 'poutcome']\n",
    "dicts = df[features].to_dict(orient='records')\n",
    "\n",
    "dv = DictVectorizer(sparse=False)\n",
    "X = dv.fit_transform(dicts)\n",
    "\n",
    "model = LogisticRegression().fit(X, y)\n",
    "```\n",
    "\n",
    "_Note_: You don't need to train the model. This code is just for your reference.\n",
    "\n",
    "And then saved with Pickle. Download them:\n",
    "```bash\n",
    "DictVectorizer\n",
    "LogisticRegression\n",
    "```\n",
    "\n",
    "With wget:\n",
    "```bash\n",
    "PREFIX=https://raw.githubusercontent.com/DataTalksClub/machine-learning-zoomcamp/master/cohorts/2023/05-deployment/homework\n",
    "wget $PREFIX/model1.bin\n",
    "wget $PREFIX/dv.bin\n",
    "```"
   ]
  },
  {
   "cell_type": "code",
   "execution_count": 15,
   "id": "abff833b-f580-4791-bf26-24c0b4953135",
   "metadata": {},
   "outputs": [
    {
     "name": "stdout",
     "output_type": "stream",
     "text": [
      "--2023-10-15 15:00:55--  https://raw.githubusercontent.com/DataTalksClub/machine-learning-zoomcamp/master/cohorts/2023/05-deployment/homework/model1.bin\n",
      "Resolving raw.githubusercontent.com (raw.githubusercontent.com)... 2606:50c0:8003::154, 2606:50c0:8000::154, 2606:50c0:8001::154, ...\n",
      "Connecting to raw.githubusercontent.com (raw.githubusercontent.com)|2606:50c0:8003::154|:443... connected.\n",
      "HTTP request sent, awaiting response... 200 OK\n",
      "Length: 842 [application/octet-stream]\n",
      "Saving to: ‘model1.bin’\n",
      "\n",
      "model1.bin          100%[===================>]     842  --.-KB/s    in 0s      \n",
      "\n",
      "2023-10-15 15:00:55 (9,93 MB/s) - ‘model1.bin’ saved [842/842]\n",
      "\n",
      "--2023-10-15 15:00:55--  https://raw.githubusercontent.com/DataTalksClub/machine-learning-zoomcamp/master/cohorts/2023/05-deployment/homework/dv.bin\n",
      "Resolving raw.githubusercontent.com (raw.githubusercontent.com)... 2606:50c0:8003::154, 2606:50c0:8000::154, 2606:50c0:8001::154, ...\n",
      "Connecting to raw.githubusercontent.com (raw.githubusercontent.com)|2606:50c0:8003::154|:443... connected.\n",
      "HTTP request sent, awaiting response... 200 OK\n",
      "Length: 560 [application/octet-stream]\n",
      "Saving to: ‘dv.bin’\n",
      "\n",
      "dv.bin              100%[===================>]     560  --.-KB/s    in 0s      \n",
      "\n",
      "2023-10-15 15:00:55 (7,39 MB/s) - ‘dv.bin’ saved [560/560]\n",
      "\n"
     ]
    }
   ],
   "source": [
    "!PREFIX=https://raw.githubusercontent.com/DataTalksClub/machine-learning-zoomcamp/master/cohorts/2023/05-deployment/homework && wget $PREFIX/model1.bin\n",
    "!PREFIX=https://raw.githubusercontent.com/DataTalksClub/machine-learning-zoomcamp/master/cohorts/2023/05-deployment/homework && wget $PREFIX/dv.bin"
   ]
  },
  {
   "cell_type": "markdown",
   "id": "8f5a13a7-8306-46c8-a5ea-e8c5e4ced474",
   "metadata": {},
   "source": [
    "**Question 3**\n",
    "  \n",
    "Let's use these models!\n",
    "\n",
    "Write a script for loading these models with _pickle_.\n",
    "Score this client:\n",
    "```json\n",
    "{\"job\": \"retired\", \"duration\": 445, \"poutcome\": \"success\"}\n",
    "```\n",
    "\n",
    "What's the probability that this client will get a credit?\n",
    "\n",
    "* 0.162\n",
    "* 0.392\n",
    "* 0.652\n",
    "* 0.902 <--- this"
   ]
  },
  {
   "cell_type": "code",
   "execution_count": 11,
   "id": "4b05fcf6-2f05-45ed-9db7-6dd7938a03ae",
   "metadata": {},
   "outputs": [],
   "source": [
    "from sklearn.pipeline import Pipeline\n",
    "import pickle"
   ]
  },
  {
   "cell_type": "code",
   "execution_count": 31,
   "id": "0a40550f-66f4-478a-9f22-f636a596ec86",
   "metadata": {},
   "outputs": [],
   "source": [
    "def score_new_client(model: Pipeline, client_information: dict):\n",
    "    return model.predict_proba(client_information)"
   ]
  },
  {
   "cell_type": "code",
   "execution_count": 32,
   "id": "048ed28d-5700-460d-bb42-970a268e9274",
   "metadata": {},
   "outputs": [],
   "source": [
    "def get_model_pipeline():\n",
    "    with open('dv.bin', 'rb') as f_in:\n",
    "        dict_vectorizer = pickle.load(f_in)\n",
    "    \n",
    "    with open('model1.bin', 'rb') as f_in:\n",
    "        model = pickle.load(f_in) \n",
    "    \n",
    "    model_pipeline = Pipeline([('dv', dict_vectorizer), ('model', model)])\n",
    "    return model_pipeline"
   ]
  },
  {
   "cell_type": "code",
   "execution_count": 33,
   "id": "282249f9-d511-4e2d-8589-dfbbb040f3e1",
   "metadata": {},
   "outputs": [],
   "source": [
    "model_pipeline = get_model_pipeline()"
   ]
  },
  {
   "cell_type": "code",
   "execution_count": 34,
   "id": "369f32b4-b521-49fa-8435-6106e8032bbd",
   "metadata": {},
   "outputs": [],
   "source": [
    "new_client = {\"job\": \"retired\", \"duration\": 445, \"poutcome\": \"success\"}"
   ]
  },
  {
   "cell_type": "code",
   "execution_count": 35,
   "id": "266f969b-aad5-41ea-a3e4-a390df87a950",
   "metadata": {},
   "outputs": [
    {
     "data": {
      "text/plain": [
       "array([[0.09806907, 0.90193093]])"
      ]
     },
     "execution_count": 35,
     "metadata": {},
     "output_type": "execute_result"
    }
   ],
   "source": [
    "score_new_client(model_pipeline, new_client)"
   ]
  },
  {
   "cell_type": "code",
   "execution_count": 30,
   "id": "0065faec-1fb1-448f-9e00-02edcd3d4a9b",
   "metadata": {},
   "outputs": [
    {
     "data": {
      "text/html": [
       "<style>#sk-container-id-1 {color: black;}#sk-container-id-1 pre{padding: 0;}#sk-container-id-1 div.sk-toggleable {background-color: white;}#sk-container-id-1 label.sk-toggleable__label {cursor: pointer;display: block;width: 100%;margin-bottom: 0;padding: 0.3em;box-sizing: border-box;text-align: center;}#sk-container-id-1 label.sk-toggleable__label-arrow:before {content: \"▸\";float: left;margin-right: 0.25em;color: #696969;}#sk-container-id-1 label.sk-toggleable__label-arrow:hover:before {color: black;}#sk-container-id-1 div.sk-estimator:hover label.sk-toggleable__label-arrow:before {color: black;}#sk-container-id-1 div.sk-toggleable__content {max-height: 0;max-width: 0;overflow: hidden;text-align: left;background-color: #f0f8ff;}#sk-container-id-1 div.sk-toggleable__content pre {margin: 0.2em;color: black;border-radius: 0.25em;background-color: #f0f8ff;}#sk-container-id-1 input.sk-toggleable__control:checked~div.sk-toggleable__content {max-height: 200px;max-width: 100%;overflow: auto;}#sk-container-id-1 input.sk-toggleable__control:checked~label.sk-toggleable__label-arrow:before {content: \"▾\";}#sk-container-id-1 div.sk-estimator input.sk-toggleable__control:checked~label.sk-toggleable__label {background-color: #d4ebff;}#sk-container-id-1 div.sk-label input.sk-toggleable__control:checked~label.sk-toggleable__label {background-color: #d4ebff;}#sk-container-id-1 input.sk-hidden--visually {border: 0;clip: rect(1px 1px 1px 1px);clip: rect(1px, 1px, 1px, 1px);height: 1px;margin: -1px;overflow: hidden;padding: 0;position: absolute;width: 1px;}#sk-container-id-1 div.sk-estimator {font-family: monospace;background-color: #f0f8ff;border: 1px dotted black;border-radius: 0.25em;box-sizing: border-box;margin-bottom: 0.5em;}#sk-container-id-1 div.sk-estimator:hover {background-color: #d4ebff;}#sk-container-id-1 div.sk-parallel-item::after {content: \"\";width: 100%;border-bottom: 1px solid gray;flex-grow: 1;}#sk-container-id-1 div.sk-label:hover label.sk-toggleable__label {background-color: #d4ebff;}#sk-container-id-1 div.sk-serial::before {content: \"\";position: absolute;border-left: 1px solid gray;box-sizing: border-box;top: 0;bottom: 0;left: 50%;z-index: 0;}#sk-container-id-1 div.sk-serial {display: flex;flex-direction: column;align-items: center;background-color: white;padding-right: 0.2em;padding-left: 0.2em;position: relative;}#sk-container-id-1 div.sk-item {position: relative;z-index: 1;}#sk-container-id-1 div.sk-parallel {display: flex;align-items: stretch;justify-content: center;background-color: white;position: relative;}#sk-container-id-1 div.sk-item::before, #sk-container-id-1 div.sk-parallel-item::before {content: \"\";position: absolute;border-left: 1px solid gray;box-sizing: border-box;top: 0;bottom: 0;left: 50%;z-index: -1;}#sk-container-id-1 div.sk-parallel-item {display: flex;flex-direction: column;z-index: 1;position: relative;background-color: white;}#sk-container-id-1 div.sk-parallel-item:first-child::after {align-self: flex-end;width: 50%;}#sk-container-id-1 div.sk-parallel-item:last-child::after {align-self: flex-start;width: 50%;}#sk-container-id-1 div.sk-parallel-item:only-child::after {width: 0;}#sk-container-id-1 div.sk-dashed-wrapped {border: 1px dashed gray;margin: 0 0.4em 0.5em 0.4em;box-sizing: border-box;padding-bottom: 0.4em;background-color: white;}#sk-container-id-1 div.sk-label label {font-family: monospace;font-weight: bold;display: inline-block;line-height: 1.2em;}#sk-container-id-1 div.sk-label-container {text-align: center;}#sk-container-id-1 div.sk-container {/* jupyter's `normalize.less` sets `[hidden] { display: none; }` but bootstrap.min.css set `[hidden] { display: none !important; }` so we also need the `!important` here to be able to override the default hidden behavior on the sphinx rendered scikit-learn.org. See: https://github.com/scikit-learn/scikit-learn/issues/21755 */display: inline-block !important;position: relative;}#sk-container-id-1 div.sk-text-repr-fallback {display: none;}</style><div id=\"sk-container-id-1\" class=\"sk-top-container\"><div class=\"sk-text-repr-fallback\"><pre>Pipeline(steps=[(&#x27;dv&#x27;, DictVectorizer(sparse=False)),\n",
       "                (&#x27;model&#x27;, LogisticRegression())])</pre><b>In a Jupyter environment, please rerun this cell to show the HTML representation or trust the notebook. <br />On GitHub, the HTML representation is unable to render, please try loading this page with nbviewer.org.</b></div><div class=\"sk-container\" hidden><div class=\"sk-item sk-dashed-wrapped\"><div class=\"sk-label-container\"><div class=\"sk-label sk-toggleable\"><input class=\"sk-toggleable__control sk-hidden--visually\" id=\"sk-estimator-id-1\" type=\"checkbox\" ><label for=\"sk-estimator-id-1\" class=\"sk-toggleable__label sk-toggleable__label-arrow\">Pipeline</label><div class=\"sk-toggleable__content\"><pre>Pipeline(steps=[(&#x27;dv&#x27;, DictVectorizer(sparse=False)),\n",
       "                (&#x27;model&#x27;, LogisticRegression())])</pre></div></div></div><div class=\"sk-serial\"><div class=\"sk-item\"><div class=\"sk-estimator sk-toggleable\"><input class=\"sk-toggleable__control sk-hidden--visually\" id=\"sk-estimator-id-2\" type=\"checkbox\" ><label for=\"sk-estimator-id-2\" class=\"sk-toggleable__label sk-toggleable__label-arrow\">DictVectorizer</label><div class=\"sk-toggleable__content\"><pre>DictVectorizer(sparse=False)</pre></div></div></div><div class=\"sk-item\"><div class=\"sk-estimator sk-toggleable\"><input class=\"sk-toggleable__control sk-hidden--visually\" id=\"sk-estimator-id-3\" type=\"checkbox\" ><label for=\"sk-estimator-id-3\" class=\"sk-toggleable__label sk-toggleable__label-arrow\">LogisticRegression</label><div class=\"sk-toggleable__content\"><pre>LogisticRegression()</pre></div></div></div></div></div></div></div>"
      ],
      "text/plain": [
       "Pipeline(steps=[('dv', DictVectorizer(sparse=False)),\n",
       "                ('model', LogisticRegression())])"
      ]
     },
     "execution_count": 30,
     "metadata": {},
     "output_type": "execute_result"
    }
   ],
   "source": [
    "model_pipeline"
   ]
  },
  {
   "cell_type": "markdown",
   "id": "43722642-e331-4d92-80ec-1d92f00a3411",
   "metadata": {},
   "source": [
    "**Question 4**\n",
    "\n",
    "Now let's serve this model as a web service\n",
    "\n",
    "* Install Flask and gunicorn (or waitress, if you're on Windows)\n",
    "* Write Flask code for serving the model\n",
    "* Now score this client using requests:\n",
    "```bash\n",
    "url = \"YOUR_URL\"\n",
    "client = {\"job\": \"unknown\", \"duration\": 270, \"poutcome\": \"failure\"}\n",
    "requests.post(url, json=client).json()\n",
    "```\n",
    "\n",
    "What's the probability that this client will get a credit?\n",
    "\n",
    "* 0.140 <--- this\n",
    "* 0.440\n",
    "* 0.645\n",
    "* 0.845"
   ]
  },
  {
   "cell_type": "markdown",
   "id": "f852db40-daea-474a-be3b-c8467a668253",
   "metadata": {},
   "source": [
    "**Docker**\n",
    "\n",
    "Install Docker. We will use it for the next two questions.\n",
    "\n",
    "For these questions, we prepared a base image: svizor/zoomcamp-model:3.10.12-slim. You'll need to use it (see Question 5 for an example).\n",
    "\n",
    "This image is based on python:3.10.12-slim and has a logistic regression model (a different one) as well a dictionary vectorizer inside.\n",
    "\n",
    "This is how the Dockerfile for this image looks like:\n",
    "```bash\n",
    "FROM python:3.10.12-slim\n",
    "WORKDIR /app\n",
    "COPY [\"model2.bin\", \"dv.bin\", \"./\"]\n",
    "```\n",
    "We already built it and then pushed it to svizor/zoomcamp-model:3.10.12-slim.\n"
   ]
  },
  {
   "cell_type": "markdown",
   "id": "808ed7f2-aff1-4001-9c6c-2e1076ce89b3",
   "metadata": {},
   "source": [
    "**Question 5**\n",
    "\n",
    "Download the base image svizor/zoomcamp-model:3.10.12-slim. You can easily make it by using docker pull command.\n",
    "\n",
    "So what's the size of this base image?\n",
    "\n",
    "* 47 MB\n",
    "* 147 MB <-- this\n",
    "* 374 MB\n",
    "* 574 MB\n",
    "* \n",
    "You can get this information when running docker images - it'll be in the \"SIZE\" column."
   ]
  },
  {
   "cell_type": "code",
   "execution_count": 37,
   "id": "ecf16720-01ac-4f92-844c-3a24035ed38a",
   "metadata": {},
   "outputs": [
    {
     "name": "stdout",
     "output_type": "stream",
     "text": [
      "REPOSITORY                                                    TAG                 IMAGE ID       CREATED         SIZE\n",
      "svizor/zoomcamp-model                                         3.10.12-slim        08266c8f0c4b   6 days ago      147MB\n",
      "predict_lambda_function                                       v1                  53cc51131204   7 weeks ago     2.8GB\n",
      "<none>                                                        <none>              a2be8880efbf   7 weeks ago     2.8GB\n",
      "<none>                                                        <none>              37fd9ba5042c   7 weeks ago     2.8GB\n",
      "heart-stroke-prediction-service                               v1                  980b1f755bf4   7 weeks ago     1.52GB\n",
      "prefect_development_environment                               v1                  b502788f8e08   8 weeks ago     1.84GB\n",
      "<none>                                                        <none>              ab30eb5771e1   2 months ago    1.84GB\n",
      "<none>                                                        <none>              9da5f309754a   2 months ago    1.52GB\n",
      "<none>                                                        <none>              bd1136502173   2 months ago    1.52GB\n",
      "<none>                                                        <none>              84addd1f537b   2 months ago    1.52GB\n",
      "<none>                                                        <none>              3c890a15ee4e   2 months ago    1.84GB\n",
      "prefect_execution_environment                                 v1                  d9db5adf7659   2 months ago    1.84GB\n",
      "<none>                                                        <none>              e5fd556cd90d   2 months ago    1.52GB\n",
      "mlflow_service                                                v1                  8e310bcb0284   2 months ago    1.52GB\n",
      "<none>                                                        <none>              a90459216fbb   2 months ago    1.83GB\n",
      "<none>                                                        <none>              c1563fbb85ab   2 months ago    1.5GB\n",
      "<none>                                                        <none>              1e721555bd0d   2 months ago    1.5GB\n",
      "<none>                                                        <none>              e2a91cf00eda   2 months ago    1.83GB\n",
      "<none>                                                        <none>              c56d13df6709   2 months ago    1.83GB\n",
      "<none>                                                        <none>              b4e607dcf0c8   2 months ago    2.02GB\n",
      "<none>                                                        <none>              c5e70bd31385   2 months ago    2.02GB\n",
      "<none>                                                        <none>              f475e08b7cd0   2 months ago    2.02GB\n",
      "<none>                                                        <none>              4c8ca867d439   2 months ago    2.02GB\n",
      "<none>                                                        <none>              c6dd5e5e038e   2 months ago    1.7GB\n",
      "<none>                                                        <none>              f2d671c1b1a8   2 months ago    1.7GB\n",
      "<none>                                                        <none>              264d97e73bba   2 months ago    1.7GB\n",
      "prefect_development                                           v1                  fbd2b1ea35d1   2 months ago    2.02GB\n",
      "<none>                                                        <none>              a560a3169c80   2 months ago    2.02GB\n",
      "prefect_flows                                                 v1                  b382dc80249f   2 months ago    1.62GB\n",
      "prefecthq/prefect                                             2.11.3-python3.9    8a4cf4775b37   2 months ago    617MB\n",
      "localstack/localstack                                         latest              a7fb5a2461b8   3 months ago    1.13GB\n",
      "grafana/grafana                                               latest              d7a5fb570941   3 months ago    328MB\n",
      "340951083884.dkr.ecr.us-east-1.amazonaws.com/duration-model   v1                  7f67ccef8432   3 months ago    1.53GB\n",
      "stream-model-duration                                         v1                  7f67ccef8432   3 months ago    1.53GB\n",
      "yellow-taxi-prediction-tax                                    latest              b0160a4436b9   4 months ago    870MB\n",
      "postgres                                                      latest              1921dda0e2c5   4 months ago    412MB\n",
      "adminer                                                       latest              8e4345c1c3dc   4 months ago    250MB\n",
      "svizor/zoomcamp-model                                         mlops-3.10.0-slim   9c46916c0687   4 months ago    123MB\n",
      "atkrad/wait4x                                                 latest              3ff9c725e954   5 months ago    36.7MB\n",
      "postgres                                                      15.2-alpine         ddc12ac7fa27   6 months ago    243MB\n",
      "dpage/pgadmin4                                                latest              4d5afde0a02e   10 months ago   361MB\n",
      "ubuntu                                                        latest              a8780b506fa4   11 months ago   77.8MB\n",
      "redis                                                         latest              2460522297a1   13 months ago   117MB\n",
      "redislabs/redisinsight                                        latest              671987a1c3f4   13 months ago   1.47GB\n",
      "hello-world                                                   latest              feb5d9fea6a5   2 years ago     13.3kB\n",
      "example/docker-mode-hello                                     latest              921e35919944   2 years ago     928MB\n",
      "example/docker-node-hello                                     latest              921e35919944   2 years ago     928MB\n",
      "postgres                                                      13.2                82b8b88e26bc   2 years ago     314MB\n",
      "jpetazzo/nsenter                                              latest              427d3ddc6f9d   3 years ago     377MB\n",
      "node                                                          11.11.0             9ff38e3a6d9d   4 years ago     904MB\n",
      "redis                                                         2.8                 481995377a04   7 years ago     186MB\n"
     ]
    }
   ],
   "source": [
    "!docker images"
   ]
  },
  {
   "cell_type": "markdown",
   "id": "60700c78-90f2-44f8-bb05-6185b4408f83",
   "metadata": {},
   "source": [
    "**Dockerfile**\n",
    "\n",
    "Now create your own Dockerfile based on the image we prepared.\n",
    "\n",
    "It should start like that:\n",
    "```bash\n",
    "FROM svizor/zoomcamp-model:3.10.12-slim\n",
    "add your stuff here\n",
    "```\n",
    "Now complete it:\n",
    "\n",
    "* Install all the dependencies form the Pipenv file\n",
    "* Copy your Flask script\n",
    "* Run it with Gunicorn\n",
    "After that, you can build your docker image."
   ]
  },
  {
   "cell_type": "markdown",
   "id": "0a85ffac-79fd-48cb-a8e6-4f0e5b8fd154",
   "metadata": {},
   "source": [
    "**Question 6**\n",
    "\n",
    "Let's run your docker container!\n",
    "\n",
    "After running it, score this client once again:\n",
    "```bash\n",
    "url = \"YOUR_URL\"\n",
    "client = {\"job\": \"retired\", \"duration\": 445, \"poutcome\": \"success\"}\n",
    "requests.post(url, json=client).json()\n",
    "```\n",
    "\n",
    "What's the probability that this client will get a credit now?\n",
    "\n",
    "* 0.168\n",
    "* 0.530\n",
    "* 0.730 <-- this\n",
    "* 0.968 "
   ]
  },
  {
   "cell_type": "code",
   "execution_count": null,
   "id": "059687b2-d5ad-4d58-b843-2947c4e91dd4",
   "metadata": {},
   "outputs": [],
   "source": []
  }
 ],
 "metadata": {
  "kernelspec": {
   "display_name": "week4",
   "language": "python",
   "name": "week4"
  },
  "language_info": {
   "codemirror_mode": {
    "name": "ipython",
    "version": 3
   },
   "file_extension": ".py",
   "mimetype": "text/x-python",
   "name": "python",
   "nbconvert_exporter": "python",
   "pygments_lexer": "ipython3",
   "version": "3.10.13"
  }
 },
 "nbformat": 4,
 "nbformat_minor": 5
}
