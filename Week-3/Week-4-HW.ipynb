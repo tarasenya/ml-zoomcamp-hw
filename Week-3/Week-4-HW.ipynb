{
 "cells": [
  {
   "cell_type": "markdown",
   "id": "7bd92f53",
   "metadata": {},
   "source": [
    "In this homework, we will use the Car price dataset like last week. Download it from here.\n",
    "\n",
    "Or you can do it with wget:\n",
    "```bash\n",
    "wget https://raw.githubusercontent.com/alexeygrigorev/mlbookcamp-code/master/chapter-02-car-price/data.csv\n",
    "```\n",
    "We'll work with the MSRP variable, and we'll transform it to a classification task.\n",
    "\n",
    "For the rest of the homework, you'll need to use only these columns:\n",
    "* Make,\n",
    "* Model,\n",
    "* Year,\n",
    "* Engine HP,\n",
    "* Engine Cylinders,\n",
    "* Transmission Type,\n",
    "* Vehicle Style,\n",
    "* highway MPG,\n",
    "* city mpg\n",
    "* MSRP\n",
    "\n",
    "**Data preparation**\n",
    "\n",
    "* Keep only the columns above\n",
    "* Lowercase the column names and replace spaces with underscores\n",
    "* Fill the missing values with 0\n",
    "* Make the price binary (1 if above the average, 0 otherwise) - this will be our target variable above_average\n",
    "* Split the data into 3 parts: train/validation/test with 60%/20%/20% distribution. Use train_test_split function for that with random_state=1"
   ]
  },
  {
   "cell_type": "code",
   "execution_count": 1,
   "id": "3c7c94e4",
   "metadata": {},
   "outputs": [
    {
     "name": "stdout",
     "output_type": "stream",
     "text": [
      "--2023-10-08 17:02:03--  https://raw.githubusercontent.com/alexeygrigorev/mlbookcamp-code/master/chapter-02-car-price/data.csv\n",
      "Resolving raw.githubusercontent.com (raw.githubusercontent.com)... 2606:50c0:8000::154, 2606:50c0:8001::154, 2606:50c0:8002::154, ...\n",
      "Connecting to raw.githubusercontent.com (raw.githubusercontent.com)|2606:50c0:8000::154|:443... connected.\n",
      "HTTP request sent, awaiting response... 200 OK\n",
      "Length: 1475504 (1,4M) [text/plain]\n",
      "Saving to: ‘data.csv’\n",
      "\n",
      "data.csv            100%[===================>]   1,41M  --.-KB/s    in 0,09s   \n",
      "\n",
      "2023-10-08 17:02:03 (14,9 MB/s) - ‘data.csv’ saved [1475504/1475504]\n",
      "\n"
     ]
    }
   ],
   "source": [
    "!wget https://raw.githubusercontent.com/alexeygrigorev/mlbookcamp-code/master/chapter-02-car-price/data.csv\n"
   ]
  },
  {
   "cell_type": "code",
   "execution_count": 92,
   "id": "9859c265",
   "metadata": {},
   "outputs": [],
   "source": [
    "import pandas as pd\n",
    "from typing import List\n",
    "from sklearn.model_selection import train_test_split, KFold\n",
    "from sklearn.metrics import roc_auc_score, precision_score, recall_score, f1_score\n",
    "from sklearn.linear_model import LogisticRegression\n",
    "from sklearn.feature_extraction import DictVectorizer\n",
    "import numpy as np\n",
    "import matplotlib.pyplot as plt\n",
    "import operator\n"
   ]
  },
  {
   "cell_type": "code",
   "execution_count": 3,
   "id": "6be8e2cc",
   "metadata": {},
   "outputs": [],
   "source": [
    "data = pd.read_csv('data.csv')"
   ]
  },
  {
   "cell_type": "code",
   "execution_count": 4,
   "id": "9a10ca88",
   "metadata": {},
   "outputs": [
    {
     "data": {
      "text/html": [
       "<div>\n",
       "<style scoped>\n",
       "    .dataframe tbody tr th:only-of-type {\n",
       "        vertical-align: middle;\n",
       "    }\n",
       "\n",
       "    .dataframe tbody tr th {\n",
       "        vertical-align: top;\n",
       "    }\n",
       "\n",
       "    .dataframe thead th {\n",
       "        text-align: right;\n",
       "    }\n",
       "</style>\n",
       "<table border=\"1\" class=\"dataframe\">\n",
       "  <thead>\n",
       "    <tr style=\"text-align: right;\">\n",
       "      <th></th>\n",
       "      <th>Make</th>\n",
       "      <th>Model</th>\n",
       "      <th>Year</th>\n",
       "      <th>Engine Fuel Type</th>\n",
       "      <th>Engine HP</th>\n",
       "      <th>Engine Cylinders</th>\n",
       "      <th>Transmission Type</th>\n",
       "      <th>Driven_Wheels</th>\n",
       "      <th>Number of Doors</th>\n",
       "      <th>Market Category</th>\n",
       "      <th>Vehicle Size</th>\n",
       "      <th>Vehicle Style</th>\n",
       "      <th>highway MPG</th>\n",
       "      <th>city mpg</th>\n",
       "      <th>Popularity</th>\n",
       "      <th>MSRP</th>\n",
       "    </tr>\n",
       "  </thead>\n",
       "  <tbody>\n",
       "    <tr>\n",
       "      <th>0</th>\n",
       "      <td>BMW</td>\n",
       "      <td>1 Series M</td>\n",
       "      <td>2011</td>\n",
       "      <td>premium unleaded (required)</td>\n",
       "      <td>335.0</td>\n",
       "      <td>6.0</td>\n",
       "      <td>MANUAL</td>\n",
       "      <td>rear wheel drive</td>\n",
       "      <td>2.0</td>\n",
       "      <td>Factory Tuner,Luxury,High-Performance</td>\n",
       "      <td>Compact</td>\n",
       "      <td>Coupe</td>\n",
       "      <td>26</td>\n",
       "      <td>19</td>\n",
       "      <td>3916</td>\n",
       "      <td>46135</td>\n",
       "    </tr>\n",
       "    <tr>\n",
       "      <th>1</th>\n",
       "      <td>BMW</td>\n",
       "      <td>1 Series</td>\n",
       "      <td>2011</td>\n",
       "      <td>premium unleaded (required)</td>\n",
       "      <td>300.0</td>\n",
       "      <td>6.0</td>\n",
       "      <td>MANUAL</td>\n",
       "      <td>rear wheel drive</td>\n",
       "      <td>2.0</td>\n",
       "      <td>Luxury,Performance</td>\n",
       "      <td>Compact</td>\n",
       "      <td>Convertible</td>\n",
       "      <td>28</td>\n",
       "      <td>19</td>\n",
       "      <td>3916</td>\n",
       "      <td>40650</td>\n",
       "    </tr>\n",
       "    <tr>\n",
       "      <th>2</th>\n",
       "      <td>BMW</td>\n",
       "      <td>1 Series</td>\n",
       "      <td>2011</td>\n",
       "      <td>premium unleaded (required)</td>\n",
       "      <td>300.0</td>\n",
       "      <td>6.0</td>\n",
       "      <td>MANUAL</td>\n",
       "      <td>rear wheel drive</td>\n",
       "      <td>2.0</td>\n",
       "      <td>Luxury,High-Performance</td>\n",
       "      <td>Compact</td>\n",
       "      <td>Coupe</td>\n",
       "      <td>28</td>\n",
       "      <td>20</td>\n",
       "      <td>3916</td>\n",
       "      <td>36350</td>\n",
       "    </tr>\n",
       "    <tr>\n",
       "      <th>3</th>\n",
       "      <td>BMW</td>\n",
       "      <td>1 Series</td>\n",
       "      <td>2011</td>\n",
       "      <td>premium unleaded (required)</td>\n",
       "      <td>230.0</td>\n",
       "      <td>6.0</td>\n",
       "      <td>MANUAL</td>\n",
       "      <td>rear wheel drive</td>\n",
       "      <td>2.0</td>\n",
       "      <td>Luxury,Performance</td>\n",
       "      <td>Compact</td>\n",
       "      <td>Coupe</td>\n",
       "      <td>28</td>\n",
       "      <td>18</td>\n",
       "      <td>3916</td>\n",
       "      <td>29450</td>\n",
       "    </tr>\n",
       "    <tr>\n",
       "      <th>4</th>\n",
       "      <td>BMW</td>\n",
       "      <td>1 Series</td>\n",
       "      <td>2011</td>\n",
       "      <td>premium unleaded (required)</td>\n",
       "      <td>230.0</td>\n",
       "      <td>6.0</td>\n",
       "      <td>MANUAL</td>\n",
       "      <td>rear wheel drive</td>\n",
       "      <td>2.0</td>\n",
       "      <td>Luxury</td>\n",
       "      <td>Compact</td>\n",
       "      <td>Convertible</td>\n",
       "      <td>28</td>\n",
       "      <td>18</td>\n",
       "      <td>3916</td>\n",
       "      <td>34500</td>\n",
       "    </tr>\n",
       "  </tbody>\n",
       "</table>\n",
       "</div>"
      ],
      "text/plain": [
       "  Make       Model  Year             Engine Fuel Type  Engine HP  \\\n",
       "0  BMW  1 Series M  2011  premium unleaded (required)      335.0   \n",
       "1  BMW    1 Series  2011  premium unleaded (required)      300.0   \n",
       "2  BMW    1 Series  2011  premium unleaded (required)      300.0   \n",
       "3  BMW    1 Series  2011  premium unleaded (required)      230.0   \n",
       "4  BMW    1 Series  2011  premium unleaded (required)      230.0   \n",
       "\n",
       "   Engine Cylinders Transmission Type     Driven_Wheels  Number of Doors  \\\n",
       "0               6.0            MANUAL  rear wheel drive              2.0   \n",
       "1               6.0            MANUAL  rear wheel drive              2.0   \n",
       "2               6.0            MANUAL  rear wheel drive              2.0   \n",
       "3               6.0            MANUAL  rear wheel drive              2.0   \n",
       "4               6.0            MANUAL  rear wheel drive              2.0   \n",
       "\n",
       "                         Market Category Vehicle Size Vehicle Style  \\\n",
       "0  Factory Tuner,Luxury,High-Performance      Compact         Coupe   \n",
       "1                     Luxury,Performance      Compact   Convertible   \n",
       "2                Luxury,High-Performance      Compact         Coupe   \n",
       "3                     Luxury,Performance      Compact         Coupe   \n",
       "4                                 Luxury      Compact   Convertible   \n",
       "\n",
       "   highway MPG  city mpg  Popularity   MSRP  \n",
       "0           26        19        3916  46135  \n",
       "1           28        19        3916  40650  \n",
       "2           28        20        3916  36350  \n",
       "3           28        18        3916  29450  \n",
       "4           28        18        3916  34500  "
      ]
     },
     "execution_count": 4,
     "metadata": {},
     "output_type": "execute_result"
    }
   ],
   "source": [
    "data.head()"
   ]
  },
  {
   "cell_type": "code",
   "execution_count": 5,
   "id": "ef61d097",
   "metadata": {},
   "outputs": [],
   "source": [
    "columns_to_use = ['Make', 'Model', 'Year','Engine HP','Engine Cylinders','Transmission Type','Vehicle Style',\n",
    "'highway MPG', 'city mpg', 'MSRP']"
   ]
  },
  {
   "cell_type": "code",
   "execution_count": 6,
   "id": "9d6bed99",
   "metadata": {},
   "outputs": [],
   "source": [
    "# Keep only the columns above\n",
    "data = data[columns_to_use]"
   ]
  },
  {
   "cell_type": "code",
   "execution_count": 11,
   "id": "a735f574",
   "metadata": {},
   "outputs": [],
   "source": [
    "def rename_columns(l: List[str]):\n",
    "    return [s.lower().replace(' ', '_') for s in l]"
   ]
  },
  {
   "cell_type": "code",
   "execution_count": 12,
   "id": "eb630e9f",
   "metadata": {},
   "outputs": [],
   "source": [
    "# Lowercase the column names and replace spaces with underscores\n",
    "data.columns = rename_columns(data.columns)"
   ]
  },
  {
   "cell_type": "code",
   "execution_count": 14,
   "id": "1bd8b74d",
   "metadata": {},
   "outputs": [
    {
     "name": "stdout",
     "output_type": "stream",
     "text": [
      "<class 'pandas.core.frame.DataFrame'>\n",
      "RangeIndex: 11914 entries, 0 to 11913\n",
      "Data columns (total 10 columns):\n",
      " #   Column             Non-Null Count  Dtype  \n",
      "---  ------             --------------  -----  \n",
      " 0   make               11914 non-null  object \n",
      " 1   model              11914 non-null  object \n",
      " 2   year               11914 non-null  int64  \n",
      " 3   engine_hp          11845 non-null  float64\n",
      " 4   engine_cylinders   11884 non-null  float64\n",
      " 5   transmission_type  11914 non-null  object \n",
      " 6   vehicle_style      11914 non-null  object \n",
      " 7   highway_mpg        11914 non-null  int64  \n",
      " 8   city_mpg           11914 non-null  int64  \n",
      " 9   msrp               11914 non-null  int64  \n",
      "dtypes: float64(2), int64(4), object(4)\n",
      "memory usage: 930.9+ KB\n"
     ]
    }
   ],
   "source": [
    "# Fill the missing values with 0\n",
    "data.info()"
   ]
  },
  {
   "cell_type": "code",
   "execution_count": 15,
   "id": "1e4bf1ed",
   "metadata": {},
   "outputs": [],
   "source": [
    "data.fillna(0, inplace=True)"
   ]
  },
  {
   "cell_type": "code",
   "execution_count": 21,
   "id": "915afb28",
   "metadata": {},
   "outputs": [],
   "source": [
    "# Make the price binary (1 if above the average, 0 otherwise) - this will be our target variable above_average\n",
    "data['above_average'] = (data.msrp > data.msrp.mean()).apply(int)"
   ]
  },
  {
   "cell_type": "code",
   "execution_count": 23,
   "id": "640af07a",
   "metadata": {},
   "outputs": [],
   "source": [
    "#  Split the data into 3 parts: train/validation/test with 60%/20%/20% distribution. Use train_test_split function for that with random_state=1"
   ]
  },
  {
   "cell_type": "code",
   "execution_count": 27,
   "id": "85d634fa",
   "metadata": {},
   "outputs": [],
   "source": [
    "train_full, test = train_test_split(data, test_size=0.2, random_state=1)"
   ]
  },
  {
   "cell_type": "code",
   "execution_count": 29,
   "id": "95e0d5d3",
   "metadata": {},
   "outputs": [],
   "source": [
    "train, val = train_test_split(train_full, test_size=0.25, random_state=1)"
   ]
  },
  {
   "cell_type": "markdown",
   "id": "fb23210c",
   "metadata": {},
   "source": [
    "**Question 1: ROC AUC feature importance**\n",
    "\n",
    "ROC AUC could also be used to evaluate feature importance of numerical variables.\n",
    "Let's do that\n",
    "\n",
    "* For each numerical variable, use it as score and compute AUC with the above_average variable\n",
    "* Use the training dataset for that\n",
    "If your AUC is < 0.5, invert this variable by putting \"-\" in front\n",
    "\n",
    "(e.g. -df_train['engine_hp'])\n",
    "\n",
    "AUC can go below 0.5 if the variable is negatively correlated with the target varialble. You can change the direction of the correlation by negating this variable - then negative correlation becomes positive.\n",
    "\n",
    "* Which numerical variable (among the following 4) has the highest AUC?\n",
    "\n",
    " * engine_hp <--- this\n",
    " * engine_cylinders\n",
    " * highway_mpg\n",
    " * city_mpg"
   ]
  },
  {
   "cell_type": "code",
   "execution_count": 33,
   "id": "91c97e39",
   "metadata": {},
   "outputs": [],
   "source": [
    "numerical_cols = ['engine_hp', 'engine_cylinders', 'highway_mpg', 'city_mpg']"
   ]
  },
  {
   "cell_type": "code",
   "execution_count": 37,
   "id": "1f1d6678",
   "metadata": {},
   "outputs": [],
   "source": [
    "res_dict = dict.fromkeys(numerical_cols)\n",
    "for num_col in numerical_cols:\n",
    "    _auc = roc_auc_score(y_score=train[num_col], y_true=train.above_average)\n",
    "    if _auc < 0.5:\n",
    "        _auc = roc_auc_score(y_score=-train[num_col], y_true=train.above_average)        \n",
    "    res_dict[num_col] = _auc"
   ]
  },
  {
   "cell_type": "code",
   "execution_count": 38,
   "id": "f6cedd31",
   "metadata": {},
   "outputs": [
    {
     "data": {
      "text/plain": [
       "{'engine_hp': 0.9171031265539011,\n",
       " 'engine_cylinders': 0.766116490165669,\n",
       " 'highway_mpg': 0.6330587871772013,\n",
       " 'city_mpg': 0.6734244643245233}"
      ]
     },
     "execution_count": 38,
     "metadata": {},
     "output_type": "execute_result"
    }
   ],
   "source": [
    "res_dict"
   ]
  },
  {
   "cell_type": "markdown",
   "id": "cc6c7ae7",
   "metadata": {},
   "source": [
    "**Question 2: Training the model**\n",
    "* Apply one-hot-encoding using DictVectorizer and train the logistic regression with these parameters:\n",
    "```python\n",
    "LogisticRegression(solver='liblinear', C=1.0, max_iter=1000)\n",
    "```\n",
    "* What's the AUC of this model on the validation dataset? (round to 3 digits)\n",
    "\n",
    " * 0.678\n",
    " * 0.779\n",
    " * 0.878\n",
    " * 0.979 <--- this"
   ]
  },
  {
   "cell_type": "code",
   "execution_count": 41,
   "id": "578fa80e",
   "metadata": {},
   "outputs": [],
   "source": [
    "log_reg = LogisticRegression(solver='liblinear', C=1.0, max_iter=1000)\n",
    "dv = DictVectorizer()"
   ]
  },
  {
   "cell_type": "code",
   "execution_count": 43,
   "id": "6e02529d",
   "metadata": {},
   "outputs": [],
   "source": [
    "X_train = train.drop(columns=['msrp', 'above_average'])"
   ]
  },
  {
   "cell_type": "code",
   "execution_count": 52,
   "id": "2cce623b",
   "metadata": {},
   "outputs": [],
   "source": [
    "X_val = val.drop(columns=['msrp', 'above_average'])"
   ]
  },
  {
   "cell_type": "code",
   "execution_count": 53,
   "id": "35306b59",
   "metadata": {},
   "outputs": [],
   "source": [
    "y_val = val['above_average']"
   ]
  },
  {
   "cell_type": "code",
   "execution_count": 44,
   "id": "ffbe2961",
   "metadata": {},
   "outputs": [],
   "source": [
    "y_train = train['above_average']"
   ]
  },
  {
   "cell_type": "code",
   "execution_count": 48,
   "id": "115ae473",
   "metadata": {},
   "outputs": [],
   "source": [
    "dict_train = dv.fit_transform(X_train.to_dict(orient='records'))"
   ]
  },
  {
   "cell_type": "code",
   "execution_count": 49,
   "id": "21531c79",
   "metadata": {},
   "outputs": [
    {
     "data": {
      "text/html": [
       "<style>#sk-container-id-2 {color: black;}#sk-container-id-2 pre{padding: 0;}#sk-container-id-2 div.sk-toggleable {background-color: white;}#sk-container-id-2 label.sk-toggleable__label {cursor: pointer;display: block;width: 100%;margin-bottom: 0;padding: 0.3em;box-sizing: border-box;text-align: center;}#sk-container-id-2 label.sk-toggleable__label-arrow:before {content: \"▸\";float: left;margin-right: 0.25em;color: #696969;}#sk-container-id-2 label.sk-toggleable__label-arrow:hover:before {color: black;}#sk-container-id-2 div.sk-estimator:hover label.sk-toggleable__label-arrow:before {color: black;}#sk-container-id-2 div.sk-toggleable__content {max-height: 0;max-width: 0;overflow: hidden;text-align: left;background-color: #f0f8ff;}#sk-container-id-2 div.sk-toggleable__content pre {margin: 0.2em;color: black;border-radius: 0.25em;background-color: #f0f8ff;}#sk-container-id-2 input.sk-toggleable__control:checked~div.sk-toggleable__content {max-height: 200px;max-width: 100%;overflow: auto;}#sk-container-id-2 input.sk-toggleable__control:checked~label.sk-toggleable__label-arrow:before {content: \"▾\";}#sk-container-id-2 div.sk-estimator input.sk-toggleable__control:checked~label.sk-toggleable__label {background-color: #d4ebff;}#sk-container-id-2 div.sk-label input.sk-toggleable__control:checked~label.sk-toggleable__label {background-color: #d4ebff;}#sk-container-id-2 input.sk-hidden--visually {border: 0;clip: rect(1px 1px 1px 1px);clip: rect(1px, 1px, 1px, 1px);height: 1px;margin: -1px;overflow: hidden;padding: 0;position: absolute;width: 1px;}#sk-container-id-2 div.sk-estimator {font-family: monospace;background-color: #f0f8ff;border: 1px dotted black;border-radius: 0.25em;box-sizing: border-box;margin-bottom: 0.5em;}#sk-container-id-2 div.sk-estimator:hover {background-color: #d4ebff;}#sk-container-id-2 div.sk-parallel-item::after {content: \"\";width: 100%;border-bottom: 1px solid gray;flex-grow: 1;}#sk-container-id-2 div.sk-label:hover label.sk-toggleable__label {background-color: #d4ebff;}#sk-container-id-2 div.sk-serial::before {content: \"\";position: absolute;border-left: 1px solid gray;box-sizing: border-box;top: 0;bottom: 0;left: 50%;z-index: 0;}#sk-container-id-2 div.sk-serial {display: flex;flex-direction: column;align-items: center;background-color: white;padding-right: 0.2em;padding-left: 0.2em;position: relative;}#sk-container-id-2 div.sk-item {position: relative;z-index: 1;}#sk-container-id-2 div.sk-parallel {display: flex;align-items: stretch;justify-content: center;background-color: white;position: relative;}#sk-container-id-2 div.sk-item::before, #sk-container-id-2 div.sk-parallel-item::before {content: \"\";position: absolute;border-left: 1px solid gray;box-sizing: border-box;top: 0;bottom: 0;left: 50%;z-index: -1;}#sk-container-id-2 div.sk-parallel-item {display: flex;flex-direction: column;z-index: 1;position: relative;background-color: white;}#sk-container-id-2 div.sk-parallel-item:first-child::after {align-self: flex-end;width: 50%;}#sk-container-id-2 div.sk-parallel-item:last-child::after {align-self: flex-start;width: 50%;}#sk-container-id-2 div.sk-parallel-item:only-child::after {width: 0;}#sk-container-id-2 div.sk-dashed-wrapped {border: 1px dashed gray;margin: 0 0.4em 0.5em 0.4em;box-sizing: border-box;padding-bottom: 0.4em;background-color: white;}#sk-container-id-2 div.sk-label label {font-family: monospace;font-weight: bold;display: inline-block;line-height: 1.2em;}#sk-container-id-2 div.sk-label-container {text-align: center;}#sk-container-id-2 div.sk-container {/* jupyter's `normalize.less` sets `[hidden] { display: none; }` but bootstrap.min.css set `[hidden] { display: none !important; }` so we also need the `!important` here to be able to override the default hidden behavior on the sphinx rendered scikit-learn.org. See: https://github.com/scikit-learn/scikit-learn/issues/21755 */display: inline-block !important;position: relative;}#sk-container-id-2 div.sk-text-repr-fallback {display: none;}</style><div id=\"sk-container-id-2\" class=\"sk-top-container\"><div class=\"sk-text-repr-fallback\"><pre>LogisticRegression(max_iter=1000, solver=&#x27;liblinear&#x27;)</pre><b>In a Jupyter environment, please rerun this cell to show the HTML representation or trust the notebook. <br />On GitHub, the HTML representation is unable to render, please try loading this page with nbviewer.org.</b></div><div class=\"sk-container\" hidden><div class=\"sk-item\"><div class=\"sk-estimator sk-toggleable\"><input class=\"sk-toggleable__control sk-hidden--visually\" id=\"sk-estimator-id-2\" type=\"checkbox\" checked><label for=\"sk-estimator-id-2\" class=\"sk-toggleable__label sk-toggleable__label-arrow\">LogisticRegression</label><div class=\"sk-toggleable__content\"><pre>LogisticRegression(max_iter=1000, solver=&#x27;liblinear&#x27;)</pre></div></div></div></div></div>"
      ],
      "text/plain": [
       "LogisticRegression(max_iter=1000, solver='liblinear')"
      ]
     },
     "execution_count": 49,
     "metadata": {},
     "output_type": "execute_result"
    }
   ],
   "source": [
    "log_reg.fit(dict_train, y_train)"
   ]
  },
  {
   "cell_type": "code",
   "execution_count": 50,
   "id": "5fa6a0ad",
   "metadata": {},
   "outputs": [],
   "source": [
    "y_train_predicted = log_reg.predict(dict_train)"
   ]
  },
  {
   "cell_type": "code",
   "execution_count": 55,
   "id": "dd569fbd",
   "metadata": {},
   "outputs": [],
   "source": [
    "y_val_predicted = log_reg.predict(dv.transform(X_val.to_dict(orient='records')))\n",
    "y_val_score = log_reg.predict_proba(dv.transform(X_val.to_dict(orient='records')))"
   ]
  },
  {
   "cell_type": "code",
   "execution_count": 64,
   "id": "127911ab",
   "metadata": {},
   "outputs": [
    {
     "name": "stdout",
     "output_type": "stream",
     "text": [
      "ROC AUC score is 0.9765698650295463\n"
     ]
    }
   ],
   "source": [
    "print(f'ROC AUC score is {roc_auc_score(y_val, y_val_score[:,1])}')"
   ]
  },
  {
   "cell_type": "markdown",
   "id": "443fe30d",
   "metadata": {},
   "source": [
    "**Question 3: Precision and Recall**\n",
    "\n",
    "Now let's compute precision and recall for our model.\n",
    "\n",
    "* Evaluate the model on all thresholds from 0.0 to 1.0 with step 0.01\n",
    "* For each threshold, compute precision and recall\n",
    "* Plot them\n",
    "* At which threshold precision and recall curves intersect?\n",
    "\n",
    " * 0.28\n",
    " * 0.48 <--- this\n",
    " * 0.68\n",
    " * 0.88"
   ]
  },
  {
   "cell_type": "code",
   "execution_count": 71,
   "id": "c9d0598a",
   "metadata": {},
   "outputs": [],
   "source": [
    "steps = np.arange(0, 1.01, 0.01)"
   ]
  },
  {
   "cell_type": "code",
   "execution_count": 74,
   "id": "807f5062",
   "metadata": {},
   "outputs": [
    {
     "name": "stderr",
     "output_type": "stream",
     "text": [
      "/home/taras/anaconda3/envs/ml-zoomcamp/lib/python3.9/site-packages/sklearn/metrics/_classification.py:1469: UndefinedMetricWarning: Precision is ill-defined and being set to 0.0 due to no predicted samples. Use `zero_division` parameter to control this behavior.\n",
      "  _warn_prf(average, modifier, msg_start, len(result))\n"
     ]
    }
   ],
   "source": [
    "precision = []\n",
    "recall = []\n",
    "\n",
    "for step in steps:\n",
    "    y_predicted = (y_val_score[:, 1]>step).astype(int)\n",
    "    precision.append(precision_score(y_true=y_val, y_pred=y_predicted))\n",
    "    recall.append(recall_score(y_true=y_val, y_pred=y_predicted))"
   ]
  },
  {
   "cell_type": "code",
   "execution_count": 79,
   "id": "9257d949",
   "metadata": {},
   "outputs": [
    {
     "data": {
      "text/plain": [
       "Text(0, 0.5, 'Value')"
      ]
     },
     "execution_count": 79,
     "metadata": {},
     "output_type": "execute_result"
    },
    {
     "data": {
      "image/png": "[encoded data removed]",
      "text/plain": [
       "<Figure size 640x480 with 1 Axes>"
      ]
     },
     "metadata": {},
     "output_type": "display_data"
    }
   ],
   "source": [
    "plt.plot(steps, precision, label='Precision')\n",
    "plt.plot(steps, recall, label='Recall')\n",
    "plt.xlabel('Step')\n",
    "plt.ylabel('Value')"
   ]
  },
  {
   "cell_type": "markdown",
   "id": "5915b8ca",
   "metadata": {},
   "source": [
    "**Question 4: F1 score**\n",
    "\n",
    "Precision and recall are conflicting - when one grows, the other goes down. That's why they are often combined into the F1 score - a metrics that takes into account both\n",
    "\n",
    "This is the formula for computing F1:\n",
    "$$F1 = \\frac{P\\cdot Q}{P+Q}$$\n",
    " \n",
    "Where $P$ is precision and $Q$ is recall.\n",
    "\n",
    "Let's compute F1 for all thresholds from 0.0 to 1.0 with increment 0.01\n",
    "\n",
    "At which threshold F1 is maximal?\n",
    "* 0.12\n",
    "* 0.32\n",
    "* 0.52 <---this\n",
    "* 0.72"
   ]
  },
  {
   "cell_type": "code",
   "execution_count": 82,
   "id": "43bcb856",
   "metadata": {},
   "outputs": [],
   "source": [
    "f1_vals = dict.fromkeys(steps)\n",
    "for step in steps:\n",
    "    y_predicted = (y_val_score[:, 1]>step).astype(int)\n",
    "    f1_vals[step]=f1_score(y_true=y_val, y_pred=y_predicted)"
   ]
  },
  {
   "cell_type": "code",
   "execution_count": 90,
   "id": "2039675b",
   "metadata": {},
   "outputs": [
    {
     "name": "stdout",
     "output_type": "stream",
     "text": [
      "The key for max 0.5\n"
     ]
    }
   ],
   "source": [
    "print(f'The key for max {max(f1_vals.items(), key=operator.itemgetter(1))[0]}')"
   ]
  },
  {
   "cell_type": "code",
   "execution_count": 89,
   "id": "fb5e9259",
   "metadata": {},
   "outputs": [
    {
     "data": {
      "text/plain": [
       "(0.8719937936384793, 0.7992518703241895, 0.8579586009992862, 0.824232081911263)"
      ]
     },
     "execution_count": 89,
     "metadata": {},
     "output_type": "execute_result"
    }
   ],
   "source": [
    "f1_vals[0.52], f1_vals[0.12], f1_vals[0.32], f1_vals[0.72]"
   ]
  },
  {
   "cell_type": "markdown",
   "id": "d98f1fdf",
   "metadata": {},
   "source": [
    "**Question 5: 5-Fold CV**\n",
    "* Use the KFold class from Scikit-Learn to evaluate our model on 5 different folds:\n",
    "```python\n",
    "KFold(n_splits=5, shuffle=True, random_state=1)\n",
    "```\n",
    "* Iterate over different folds of df_full_train\n",
    "* Split the data into train and validation\n",
    "* Train the model on train with these parameters: LogisticRegression(solver='liblinear', C=1.0, max_iter=1000)\n",
    "* Use AUC to evaluate the model on validation\n",
    "* How large is standard devidation of the scores across different folds?\n",
    "\n",
    " * 0.003 <--this\n",
    " * 0.030\n",
    " * 0.090\n",
    " * 0.140"
   ]
  },
  {
   "cell_type": "code",
   "execution_count": 93,
   "id": "971e5812",
   "metadata": {},
   "outputs": [],
   "source": [
    "kfold = KFold(n_splits=5, shuffle=True, random_state=1)"
   ]
  },
  {
   "cell_type": "code",
   "execution_count": 100,
   "id": "dff56c2f",
   "metadata": {},
   "outputs": [],
   "source": [
    "auc_score  = []\n",
    "for train_index, test_index in kfold.split(train_full):\n",
    "    log_reg = LogisticRegression(solver='liblinear', C=1.0, max_iter=1000)\n",
    "    \n",
    "    X_train = train_full.iloc[train_index].drop(columns=['msrp', 'above_average'])\n",
    "    y_train = train_full.iloc[train_index]['above_average']\n",
    "    \n",
    "    X_test = train_full.iloc[test_index].drop(columns=['msrp', 'above_average'])\n",
    "    y_test = train_full.iloc[test_index]['above_average']\n",
    "    \n",
    "    dv = DictVectorizer()\n",
    "    \n",
    "    log_reg.fit(dv.fit_transform(X_train.to_dict(orient='records')), y_train)\n",
    "    \n",
    "    auc_score.append(roc_auc_score(y_score=log_reg.predict_proba(dv.transform(X_test.to_dict(orient='records')))[:,1],y_true= y_test))"
   ]
  },
  {
   "cell_type": "code",
   "execution_count": 104,
   "id": "9559b3ea",
   "metadata": {},
   "outputs": [
    {
     "name": "stdout",
     "output_type": "stream",
     "text": [
      "Standard deviation 0.003\n"
     ]
    }
   ],
   "source": [
    "print(f'Standard deviation {round(np.std(auc_score), 3)}')"
   ]
  },
  {
   "cell_type": "markdown",
   "id": "f7690e0e",
   "metadata": {},
   "source": [
    "**Question 6: Hyperparemeter Tuning**\n",
    "* Now let's use 5-Fold cross-validation to find the best parameter C\n",
    "* Iterate over the following C values: [0.01, 0.1, 0.5, 10]\n",
    "* Initialize KFold with the same parameters as previously\n",
    "* Use these parametes for the model: \n",
    "```python\n",
    "LogisticRegression(solver='liblinear', C=C, max_iter=1000)\n",
    "```\n",
    "* Compute the mean score as well as the std (round the mean and std to 3 decimal digits)\n",
    "* Which C leads to the best mean score?\n",
    "\n",
    " * 0.01\n",
    " * 0.1\n",
    " * 0.5\n",
    " * 10 <--- this\n",
    "* If you have ties, select the score with the lowest std. If you still have ties, select the smallest C."
   ]
  },
  {
   "cell_type": "code",
   "execution_count": 111,
   "id": "2b7071ac",
   "metadata": {},
   "outputs": [],
   "source": [
    "c_values = [0.01, 0.1, 0.5, 10]\n",
    "\n",
    "res = dict.fromkeys(c_values)\n",
    "res_std = dict.fromkeys(c_values)\n",
    "\n",
    "for _c in c_values:\n",
    "    m = []\n",
    "    for train_index, test_index in kfold.split(train_full):\n",
    "        log_reg = LogisticRegression(solver='liblinear', C=_c, max_iter=1000)\n",
    "\n",
    "        X_train = train_full.iloc[train_index].drop(columns=['msrp', 'above_average'])\n",
    "        y_train = train_full.iloc[train_index]['above_average']\n",
    "\n",
    "        X_test = train_full.iloc[test_index].drop(columns=['msrp', 'above_average'])\n",
    "        y_test = train_full.iloc[test_index]['above_average']\n",
    "\n",
    "        dv = DictVectorizer()\n",
    "\n",
    "        log_reg.fit(dv.fit_transform(X_train.to_dict(orient='records')), y_train)\n",
    "\n",
    "        m.append(roc_auc_score(y_score=log_reg.predict_proba(dv.transform(X_test.to_dict(orient='records')))[:,1],\n",
    "                               y_true= y_test))\n",
    "    res[_c] = round(np.mean(m), 3)        \n",
    "    res_std[_c] = round(np.std(m), 3)"
   ]
  },
  {
   "cell_type": "code",
   "execution_count": 112,
   "id": "f4b0b361",
   "metadata": {},
   "outputs": [
    {
     "data": {
      "text/plain": [
       "{0.01: 0.952, 0.1: 0.972, 0.5: 0.979, 10: 0.981}"
      ]
     },
     "execution_count": 112,
     "metadata": {},
     "output_type": "execute_result"
    }
   ],
   "source": [
    "res"
   ]
  },
  {
   "cell_type": "code",
   "execution_count": 113,
   "id": "ef61e2f2",
   "metadata": {},
   "outputs": [
    {
     "data": {
      "text/plain": [
       "{0.01: 0.002, 0.1: 0.002, 0.5: 0.001, 10: 0.003}"
      ]
     },
     "execution_count": 113,
     "metadata": {},
     "output_type": "execute_result"
    }
   ],
   "source": [
    "res_std"
   ]
  },
  {
   "cell_type": "code",
   "execution_count": null,
   "id": "4ec5ac0f",
   "metadata": {},
   "outputs": [],
   "source": []
  }
 ],
 "metadata": {
  "kernelspec": {
   "display_name": "ml-zoomcamp",
   "language": "python",
   "name": "ml-zoomcamp"
  },
  "language_info": {
   "codemirror_mode": {
    "name": "ipython",
    "version": 3
   },
   "file_extension": ".py",
   "mimetype": "text/x-python",
   "name": "python",
   "nbconvert_exporter": "python",
   "pygments_lexer": "ipython3",
   "version": "3.9.18"
  }
 },
 "nbformat": 4,
 "nbformat_minor": 5
}
