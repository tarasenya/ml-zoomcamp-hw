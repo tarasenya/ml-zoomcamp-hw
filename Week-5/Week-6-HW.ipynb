{
 "cells": [
  {
   "cell_type": "markdown",
   "id": "41e3b28f-eb19-4ac5-882f-fef6a5d81496",
   "metadata": {},
   "source": [
    "## Homework\n",
    "\n",
    "> Note: sometimes your answer doesn't match one of \n",
    "> the options exactly. That's fine. \n",
    "> Select the option that's closest to your solution.\n",
    "\n",
    "\n",
    "\n",
    "### Dataset\n",
    "\n",
    "In this homework, we will use the California Housing Prices from [Kaggle](https://www.kaggle.com/datasets/camnugent/california-housing-prices).\n",
    "\n",
    "Here's a wget-able [link](https://raw.githubusercontent.com/alexeygrigorev/datasets/master/housing.csv):\n",
    "\n",
    "```bash\n",
    "wget https://raw.githubusercontent.com/alexeygrigorev/datasets/master/housing.csv\n",
    "```\n",
    "\n",
    "The goal of this homework is to create a regression model for predicting housing prices (column `'median_house_value'`).\n",
    "\n",
    "\n",
    "### Preparing the dataset \n",
    "\n",
    "For this homework, we only want to use a subset of data. This is the same subset we used in homework #2.\n",
    "But in contrast to homework #2 we are going to use all columns of the dataset.\n",
    "\n",
    "First, keep only the records where `ocean_proximity` is either `'<1H OCEAN'` or `'INLAND'`\n",
    "\n",
    "Preparation:\n",
    "\n",
    "* Fill missing values with zeros.\n",
    "* Apply the log tranform to `median_house_value`.\n",
    "* Do train/validation/test split with 60%/20%/20% distribution. \n",
    "* Use the `train_test_split` function and set the `random_state` parameter to 1.\n",
    "* Use `DictVectorizer(sparse=True)` to turn the dataframes into matrices."
   ]
  },
  {
   "cell_type": "code",
   "execution_count": 1,
   "id": "5e465dcf-a304-4433-9d98-252ed4a13fe7",
   "metadata": {},
   "outputs": [
    {
     "name": "stdout",
     "output_type": "stream",
     "text": [
      "--2023-10-22 16:02:34--  https://raw.githubusercontent.com/alexeygrigorev/datasets/master/housing.csv\n",
      "Resolving raw.githubusercontent.com (raw.githubusercontent.com)... 2606:50c0:8002::154, 2606:50c0:8000::154, 2606:50c0:8003::154, ...\n",
      "Connecting to raw.githubusercontent.com (raw.githubusercontent.com)|2606:50c0:8002::154|:443... connected.\n",
      "HTTP request sent, awaiting response... 200 OK\n",
      "Length: 1423529 (1,4M) [text/plain]\n",
      "Saving to: ‘housing.csv’\n",
      "\n",
      "housing.csv         100%[===================>]   1,36M  3,52MB/s    in 0,4s    \n",
      "\n",
      "2023-10-22 16:02:34 (3,52 MB/s) - ‘housing.csv’ saved [1423529/1423529]\n",
      "\n"
     ]
    }
   ],
   "source": [
    "!wget https://raw.githubusercontent.com/alexeygrigorev/datasets/master/housing.csv"
   ]
  },
  {
   "cell_type": "code",
   "execution_count": 3,
   "id": "b4894e2e-003a-4143-973b-bb3fad9a56ba",
   "metadata": {},
   "outputs": [],
   "source": [
    "import pandas as pd\n",
    "import numpy as np\n",
    "from sklearn.model_selection import train_test_split\n",
    "from sklearn.feature_extraction import DictVectorizer\n",
    "from sklearn.tree import DecisionTreeRegressor, export_text\n",
    "from sklearn.ensemble import RandomForestRegressor\n",
    "from sklearn.metrics import mean_squared_error\n",
    "import matplotlib.pyplot as plt\n",
    "import xgboost as xgb"
   ]
  },
  {
   "cell_type": "code",
   "execution_count": 4,
   "id": "be5d823f-172a-4c5d-80af-1ff7b673118c",
   "metadata": {},
   "outputs": [],
   "source": [
    "data = pd.read_csv('housing.csv')"
   ]
  },
  {
   "cell_type": "code",
   "execution_count": 5,
   "id": "ba17fe11-b54f-4062-a275-f19c5c77cdce",
   "metadata": {},
   "outputs": [
    {
     "data": {
      "text/plain": [
       "array(['NEAR BAY', '<1H OCEAN', 'INLAND', 'NEAR OCEAN', 'ISLAND'],\n",
       "      dtype=object)"
      ]
     },
     "execution_count": 5,
     "metadata": {},
     "output_type": "execute_result"
    }
   ],
   "source": [
    "data.ocean_proximity.unique()"
   ]
  },
  {
   "cell_type": "code",
   "execution_count": 6,
   "id": "9212bea6-2e1a-4fc0-be54-e4d0f566ada7",
   "metadata": {},
   "outputs": [],
   "source": [
    "ocean_proximity_to_take = ['<1H OCEAN', 'INLAND']"
   ]
  },
  {
   "cell_type": "code",
   "execution_count": 7,
   "id": "85bb2e82-4b4d-4ae5-981c-7a760c955e64",
   "metadata": {},
   "outputs": [
    {
     "data": {
      "text/plain": [
       "array(['<1H OCEAN', 'INLAND'], dtype=object)"
      ]
     },
     "execution_count": 7,
     "metadata": {},
     "output_type": "execute_result"
    }
   ],
   "source": [
    "data_filtered = data[data.ocean_proximity.isin(ocean_proximity_to_take)]\n",
    "data_filtered.ocean_proximity.unique()"
   ]
  },
  {
   "cell_type": "code",
   "execution_count": 8,
   "id": "14fc84f1-f9a4-43c7-bd00-a7517e30715f",
   "metadata": {},
   "outputs": [
    {
     "name": "stdout",
     "output_type": "stream",
     "text": [
      "<class 'pandas.core.frame.DataFrame'>\n",
      "Index: 15687 entries, 701 to 20639\n",
      "Data columns (total 10 columns):\n",
      " #   Column              Non-Null Count  Dtype  \n",
      "---  ------              --------------  -----  \n",
      " 0   longitude           15687 non-null  float64\n",
      " 1   latitude            15687 non-null  float64\n",
      " 2   housing_median_age  15687 non-null  float64\n",
      " 3   total_rooms         15687 non-null  float64\n",
      " 4   total_bedrooms      15530 non-null  float64\n",
      " 5   population          15687 non-null  float64\n",
      " 6   households          15687 non-null  float64\n",
      " 7   median_income       15687 non-null  float64\n",
      " 8   median_house_value  15687 non-null  float64\n",
      " 9   ocean_proximity     15687 non-null  object \n",
      "dtypes: float64(9), object(1)\n",
      "memory usage: 1.3+ MB\n"
     ]
    }
   ],
   "source": [
    "data_filtered.info()\n"
   ]
  },
  {
   "cell_type": "code",
   "execution_count": 9,
   "id": "7554565d-b06f-46de-968c-94b470955095",
   "metadata": {},
   "outputs": [
    {
     "name": "stderr",
     "output_type": "stream",
     "text": [
      "/tmp/ipykernel_11587/2621379255.py:1: SettingWithCopyWarning: \n",
      "A value is trying to be set on a copy of a slice from a DataFrame\n",
      "\n",
      "See the caveats in the documentation: https://pandas.pydata.org/pandas-docs/stable/user_guide/indexing.html#returning-a-view-versus-a-copy\n",
      "  data_filtered.ocean_proximity.replace('<1H OCEAN', '1H OCEAN', inplace=True)\n"
     ]
    }
   ],
   "source": [
    "data_filtered.ocean_proximity.replace('<1H OCEAN', '1H OCEAN', inplace=True)"
   ]
  },
  {
   "cell_type": "code",
   "execution_count": 10,
   "id": "8b96b3cc-5479-4c4d-846e-4873c7cee5e5",
   "metadata": {},
   "outputs": [
    {
     "name": "stderr",
     "output_type": "stream",
     "text": [
      "/tmp/ipykernel_11587/2757967836.py:1: SettingWithCopyWarning: \n",
      "A value is trying to be set on a copy of a slice from a DataFrame\n",
      "\n",
      "See the caveats in the documentation: https://pandas.pydata.org/pandas-docs/stable/user_guide/indexing.html#returning-a-view-versus-a-copy\n",
      "  data_filtered.fillna(0, inplace=True)\n"
     ]
    }
   ],
   "source": [
    "data_filtered.fillna(0, inplace=True)"
   ]
  },
  {
   "cell_type": "code",
   "execution_count": 11,
   "id": "f0cc3d6e-eb23-4881-a181-b19962fe53e2",
   "metadata": {},
   "outputs": [
    {
     "name": "stderr",
     "output_type": "stream",
     "text": [
      "/tmp/ipykernel_11587/1161080476.py:1: SettingWithCopyWarning: \n",
      "A value is trying to be set on a copy of a slice from a DataFrame.\n",
      "Try using .loc[row_indexer,col_indexer] = value instead\n",
      "\n",
      "See the caveats in the documentation: https://pandas.pydata.org/pandas-docs/stable/user_guide/indexing.html#returning-a-view-versus-a-copy\n",
      "  data_filtered['median_house_value_log'] = data_filtered['median_house_value'].apply(np.log)\n"
     ]
    }
   ],
   "source": [
    "data_filtered['median_house_value_log'] = data_filtered['median_house_value'].apply(np.log)"
   ]
  },
  {
   "cell_type": "code",
   "execution_count": 12,
   "id": "c1a2eba6-7227-416a-a7ca-787ed012cc22",
   "metadata": {},
   "outputs": [],
   "source": [
    "data_train_full, data_test = train_test_split(data_filtered, test_size=0.2, random_state=1)"
   ]
  },
  {
   "cell_type": "code",
   "execution_count": 13,
   "id": "6bf4fad5-704c-4e03-9556-928e859896d4",
   "metadata": {},
   "outputs": [],
   "source": [
    "data_train, data_val = train_test_split(data_train_full, test_size=0.25, random_state=1)"
   ]
  },
  {
   "cell_type": "code",
   "execution_count": 14,
   "id": "569a5303-a64e-4773-a493-420aa3ce5a12",
   "metadata": {},
   "outputs": [],
   "source": [
    "y_train = data_train['median_house_value_log']\n",
    "y_val = data_val['median_house_value_log']\n",
    "y_test = data_test['median_house_value_log']"
   ]
  },
  {
   "cell_type": "code",
   "execution_count": 15,
   "id": "a63a2918-7574-4a28-bae8-669b705e8352",
   "metadata": {},
   "outputs": [],
   "source": [
    "del data_train['median_house_value_log']\n",
    "del data_val['median_house_value_log']\n",
    "del data_test['median_house_value_log']\n",
    "\n",
    "del data_train['median_house_value']\n",
    "del data_val['median_house_value']\n",
    "del data_test['median_house_value']"
   ]
  },
  {
   "cell_type": "code",
   "execution_count": 16,
   "id": "3c113fc7-0265-46e4-9223-0037995a5b38",
   "metadata": {},
   "outputs": [],
   "source": [
    "dv = DictVectorizer()"
   ]
  },
  {
   "cell_type": "code",
   "execution_count": 17,
   "id": "6cc1f3fc-d6e8-40d5-9f63-c154b8562ab9",
   "metadata": {},
   "outputs": [],
   "source": [
    "train = dv.fit_transform(data_train.to_dict(orient='records'))"
   ]
  },
  {
   "cell_type": "code",
   "execution_count": 18,
   "id": "1007bcde-1699-4b32-953b-547da4cf8c2b",
   "metadata": {},
   "outputs": [],
   "source": [
    "val = dv.transform(data_val.to_dict(orient='records'))"
   ]
  },
  {
   "cell_type": "markdown",
   "id": "4b992e11-908d-4db8-9d31-d6873aa2af5e",
   "metadata": {},
   "source": [
    "## Question 1\n",
    "\n",
    "Let's train a decision tree regressor to predict the `median_house_value` variable. \n",
    "\n",
    "* Train a model with `max_depth=1`.\n",
    "\n",
    "\n",
    "Which feature is used for splitting the data?\n",
    "\n",
    "* `ocean_proximity` <--- this\n",
    "* `total_rooms`\n",
    "* `latitude`\n",
    "* `population`\n"
   ]
  },
  {
   "cell_type": "code",
   "execution_count": 19,
   "id": "288b2a0d-0de0-41be-b27c-fa409e721b55",
   "metadata": {},
   "outputs": [],
   "source": [
    "dt = DecisionTreeRegressor(max_depth=1)"
   ]
  },
  {
   "cell_type": "code",
   "execution_count": 20,
   "id": "e500710e-17c5-42d7-815d-cd39ac281228",
   "metadata": {},
   "outputs": [
    {
     "data": {
      "text/html": [
       "<style>#sk-container-id-1 {color: black;}#sk-container-id-1 pre{padding: 0;}#sk-container-id-1 div.sk-toggleable {background-color: white;}#sk-container-id-1 label.sk-toggleable__label {cursor: pointer;display: block;width: 100%;margin-bottom: 0;padding: 0.3em;box-sizing: border-box;text-align: center;}#sk-container-id-1 label.sk-toggleable__label-arrow:before {content: \"▸\";float: left;margin-right: 0.25em;color: #696969;}#sk-container-id-1 label.sk-toggleable__label-arrow:hover:before {color: black;}#sk-container-id-1 div.sk-estimator:hover label.sk-toggleable__label-arrow:before {color: black;}#sk-container-id-1 div.sk-toggleable__content {max-height: 0;max-width: 0;overflow: hidden;text-align: left;background-color: #f0f8ff;}#sk-container-id-1 div.sk-toggleable__content pre {margin: 0.2em;color: black;border-radius: 0.25em;background-color: #f0f8ff;}#sk-container-id-1 input.sk-toggleable__control:checked~div.sk-toggleable__content {max-height: 200px;max-width: 100%;overflow: auto;}#sk-container-id-1 input.sk-toggleable__control:checked~label.sk-toggleable__label-arrow:before {content: \"▾\";}#sk-container-id-1 div.sk-estimator input.sk-toggleable__control:checked~label.sk-toggleable__label {background-color: #d4ebff;}#sk-container-id-1 div.sk-label input.sk-toggleable__control:checked~label.sk-toggleable__label {background-color: #d4ebff;}#sk-container-id-1 input.sk-hidden--visually {border: 0;clip: rect(1px 1px 1px 1px);clip: rect(1px, 1px, 1px, 1px);height: 1px;margin: -1px;overflow: hidden;padding: 0;position: absolute;width: 1px;}#sk-container-id-1 div.sk-estimator {font-family: monospace;background-color: #f0f8ff;border: 1px dotted black;border-radius: 0.25em;box-sizing: border-box;margin-bottom: 0.5em;}#sk-container-id-1 div.sk-estimator:hover {background-color: #d4ebff;}#sk-container-id-1 div.sk-parallel-item::after {content: \"\";width: 100%;border-bottom: 1px solid gray;flex-grow: 1;}#sk-container-id-1 div.sk-label:hover label.sk-toggleable__label {background-color: #d4ebff;}#sk-container-id-1 div.sk-serial::before {content: \"\";position: absolute;border-left: 1px solid gray;box-sizing: border-box;top: 0;bottom: 0;left: 50%;z-index: 0;}#sk-container-id-1 div.sk-serial {display: flex;flex-direction: column;align-items: center;background-color: white;padding-right: 0.2em;padding-left: 0.2em;position: relative;}#sk-container-id-1 div.sk-item {position: relative;z-index: 1;}#sk-container-id-1 div.sk-parallel {display: flex;align-items: stretch;justify-content: center;background-color: white;position: relative;}#sk-container-id-1 div.sk-item::before, #sk-container-id-1 div.sk-parallel-item::before {content: \"\";position: absolute;border-left: 1px solid gray;box-sizing: border-box;top: 0;bottom: 0;left: 50%;z-index: -1;}#sk-container-id-1 div.sk-parallel-item {display: flex;flex-direction: column;z-index: 1;position: relative;background-color: white;}#sk-container-id-1 div.sk-parallel-item:first-child::after {align-self: flex-end;width: 50%;}#sk-container-id-1 div.sk-parallel-item:last-child::after {align-self: flex-start;width: 50%;}#sk-container-id-1 div.sk-parallel-item:only-child::after {width: 0;}#sk-container-id-1 div.sk-dashed-wrapped {border: 1px dashed gray;margin: 0 0.4em 0.5em 0.4em;box-sizing: border-box;padding-bottom: 0.4em;background-color: white;}#sk-container-id-1 div.sk-label label {font-family: monospace;font-weight: bold;display: inline-block;line-height: 1.2em;}#sk-container-id-1 div.sk-label-container {text-align: center;}#sk-container-id-1 div.sk-container {/* jupyter's `normalize.less` sets `[hidden] { display: none; }` but bootstrap.min.css set `[hidden] { display: none !important; }` so we also need the `!important` here to be able to override the default hidden behavior on the sphinx rendered scikit-learn.org. See: https://github.com/scikit-learn/scikit-learn/issues/21755 */display: inline-block !important;position: relative;}#sk-container-id-1 div.sk-text-repr-fallback {display: none;}</style><div id=\"sk-container-id-1\" class=\"sk-top-container\"><div class=\"sk-text-repr-fallback\"><pre>DecisionTreeRegressor(max_depth=1)</pre><b>In a Jupyter environment, please rerun this cell to show the HTML representation or trust the notebook. <br />On GitHub, the HTML representation is unable to render, please try loading this page with nbviewer.org.</b></div><div class=\"sk-container\" hidden><div class=\"sk-item\"><div class=\"sk-estimator sk-toggleable\"><input class=\"sk-toggleable__control sk-hidden--visually\" id=\"sk-estimator-id-1\" type=\"checkbox\" checked><label for=\"sk-estimator-id-1\" class=\"sk-toggleable__label sk-toggleable__label-arrow\">DecisionTreeRegressor</label><div class=\"sk-toggleable__content\"><pre>DecisionTreeRegressor(max_depth=1)</pre></div></div></div></div></div>"
      ],
      "text/plain": [
       "DecisionTreeRegressor(max_depth=1)"
      ]
     },
     "execution_count": 20,
     "metadata": {},
     "output_type": "execute_result"
    }
   ],
   "source": [
    "dt.fit(train, y_train.values)"
   ]
  },
  {
   "cell_type": "code",
   "execution_count": 21,
   "id": "fd69509b-f00b-4df3-b474-1ec3a18cd7f4",
   "metadata": {},
   "outputs": [
    {
     "data": {
      "text/plain": [
       "'|--- ocean_proximity=INLAND <= 0.50\\n|   |--- value: [12.30]\\n|--- ocean_proximity=INLAND >  0.50\\n|   |--- value: [11.61]\\n'"
      ]
     },
     "execution_count": 21,
     "metadata": {},
     "output_type": "execute_result"
    }
   ],
   "source": [
    "export_text(dt, feature_names=list(dv.get_feature_names_out()))"
   ]
  },
  {
   "cell_type": "markdown",
   "id": "bad5e2f4-2b21-4d66-9e01-83d8fd46ee20",
   "metadata": {},
   "source": [
    "## Question 2\n",
    "\n",
    "Train a random forest model with these parameters:\n",
    "\n",
    "* `n_estimators=10`\n",
    "* `random_state=1`\n",
    "* `n_jobs=-1` (optional - to make training faster)\n",
    "\n",
    "\n",
    "What's the RMSE of this model on validation?\n",
    "\n",
    "* 0.045\n",
    "* 0.245 <--- this\n",
    "* 0.545\n",
    "* 0.845"
   ]
  },
  {
   "cell_type": "code",
   "execution_count": 22,
   "id": "e8bf9e47-22ee-4e0c-8aa5-10729800b3ca",
   "metadata": {},
   "outputs": [],
   "source": [
    "rf = RandomForestRegressor(n_estimators=10, random_state=1, n_jobs=-1)"
   ]
  },
  {
   "cell_type": "code",
   "execution_count": 23,
   "id": "66773415-61ed-495a-b7da-6217d574ce0e",
   "metadata": {},
   "outputs": [
    {
     "data": {
      "text/html": [
       "<style>#sk-container-id-2 {color: black;}#sk-container-id-2 pre{padding: 0;}#sk-container-id-2 div.sk-toggleable {background-color: white;}#sk-container-id-2 label.sk-toggleable__label {cursor: pointer;display: block;width: 100%;margin-bottom: 0;padding: 0.3em;box-sizing: border-box;text-align: center;}#sk-container-id-2 label.sk-toggleable__label-arrow:before {content: \"▸\";float: left;margin-right: 0.25em;color: #696969;}#sk-container-id-2 label.sk-toggleable__label-arrow:hover:before {color: black;}#sk-container-id-2 div.sk-estimator:hover label.sk-toggleable__label-arrow:before {color: black;}#sk-container-id-2 div.sk-toggleable__content {max-height: 0;max-width: 0;overflow: hidden;text-align: left;background-color: #f0f8ff;}#sk-container-id-2 div.sk-toggleable__content pre {margin: 0.2em;color: black;border-radius: 0.25em;background-color: #f0f8ff;}#sk-container-id-2 input.sk-toggleable__control:checked~div.sk-toggleable__content {max-height: 200px;max-width: 100%;overflow: auto;}#sk-container-id-2 input.sk-toggleable__control:checked~label.sk-toggleable__label-arrow:before {content: \"▾\";}#sk-container-id-2 div.sk-estimator input.sk-toggleable__control:checked~label.sk-toggleable__label {background-color: #d4ebff;}#sk-container-id-2 div.sk-label input.sk-toggleable__control:checked~label.sk-toggleable__label {background-color: #d4ebff;}#sk-container-id-2 input.sk-hidden--visually {border: 0;clip: rect(1px 1px 1px 1px);clip: rect(1px, 1px, 1px, 1px);height: 1px;margin: -1px;overflow: hidden;padding: 0;position: absolute;width: 1px;}#sk-container-id-2 div.sk-estimator {font-family: monospace;background-color: #f0f8ff;border: 1px dotted black;border-radius: 0.25em;box-sizing: border-box;margin-bottom: 0.5em;}#sk-container-id-2 div.sk-estimator:hover {background-color: #d4ebff;}#sk-container-id-2 div.sk-parallel-item::after {content: \"\";width: 100%;border-bottom: 1px solid gray;flex-grow: 1;}#sk-container-id-2 div.sk-label:hover label.sk-toggleable__label {background-color: #d4ebff;}#sk-container-id-2 div.sk-serial::before {content: \"\";position: absolute;border-left: 1px solid gray;box-sizing: border-box;top: 0;bottom: 0;left: 50%;z-index: 0;}#sk-container-id-2 div.sk-serial {display: flex;flex-direction: column;align-items: center;background-color: white;padding-right: 0.2em;padding-left: 0.2em;position: relative;}#sk-container-id-2 div.sk-item {position: relative;z-index: 1;}#sk-container-id-2 div.sk-parallel {display: flex;align-items: stretch;justify-content: center;background-color: white;position: relative;}#sk-container-id-2 div.sk-item::before, #sk-container-id-2 div.sk-parallel-item::before {content: \"\";position: absolute;border-left: 1px solid gray;box-sizing: border-box;top: 0;bottom: 0;left: 50%;z-index: -1;}#sk-container-id-2 div.sk-parallel-item {display: flex;flex-direction: column;z-index: 1;position: relative;background-color: white;}#sk-container-id-2 div.sk-parallel-item:first-child::after {align-self: flex-end;width: 50%;}#sk-container-id-2 div.sk-parallel-item:last-child::after {align-self: flex-start;width: 50%;}#sk-container-id-2 div.sk-parallel-item:only-child::after {width: 0;}#sk-container-id-2 div.sk-dashed-wrapped {border: 1px dashed gray;margin: 0 0.4em 0.5em 0.4em;box-sizing: border-box;padding-bottom: 0.4em;background-color: white;}#sk-container-id-2 div.sk-label label {font-family: monospace;font-weight: bold;display: inline-block;line-height: 1.2em;}#sk-container-id-2 div.sk-label-container {text-align: center;}#sk-container-id-2 div.sk-container {/* jupyter's `normalize.less` sets `[hidden] { display: none; }` but bootstrap.min.css set `[hidden] { display: none !important; }` so we also need the `!important` here to be able to override the default hidden behavior on the sphinx rendered scikit-learn.org. See: https://github.com/scikit-learn/scikit-learn/issues/21755 */display: inline-block !important;position: relative;}#sk-container-id-2 div.sk-text-repr-fallback {display: none;}</style><div id=\"sk-container-id-2\" class=\"sk-top-container\"><div class=\"sk-text-repr-fallback\"><pre>RandomForestRegressor(n_estimators=10, n_jobs=-1, random_state=1)</pre><b>In a Jupyter environment, please rerun this cell to show the HTML representation or trust the notebook. <br />On GitHub, the HTML representation is unable to render, please try loading this page with nbviewer.org.</b></div><div class=\"sk-container\" hidden><div class=\"sk-item\"><div class=\"sk-estimator sk-toggleable\"><input class=\"sk-toggleable__control sk-hidden--visually\" id=\"sk-estimator-id-2\" type=\"checkbox\" checked><label for=\"sk-estimator-id-2\" class=\"sk-toggleable__label sk-toggleable__label-arrow\">RandomForestRegressor</label><div class=\"sk-toggleable__content\"><pre>RandomForestRegressor(n_estimators=10, n_jobs=-1, random_state=1)</pre></div></div></div></div></div>"
      ],
      "text/plain": [
       "RandomForestRegressor(n_estimators=10, n_jobs=-1, random_state=1)"
      ]
     },
     "execution_count": 23,
     "metadata": {},
     "output_type": "execute_result"
    }
   ],
   "source": [
    "rf.fit(train, y_train)"
   ]
  },
  {
   "cell_type": "code",
   "execution_count": 24,
   "id": "302cd19f-b76e-46eb-bc7a-4fed479a6713",
   "metadata": {},
   "outputs": [],
   "source": [
    "y_val_predicted = rf.predict(val)"
   ]
  },
  {
   "cell_type": "code",
   "execution_count": 25,
   "id": "c6520ddf-371d-4276-a7f6-94ddc2ff4012",
   "metadata": {},
   "outputs": [
    {
     "name": "stdout",
     "output_type": "stream",
     "text": [
      "RMSE equals 0.24543369440125373\n"
     ]
    }
   ],
   "source": [
    "print(f'RMSE equals {mean_squared_error(y_val, y_val_predicted, squared=False)}')"
   ]
  },
  {
   "cell_type": "markdown",
   "id": "0b9b4ca6-8a3c-4f90-a865-6f235e44dcad",
   "metadata": {},
   "source": [
    "## Question 3\n",
    "\n",
    "Now let's experiment with the `n_estimators` parameter\n",
    "\n",
    "* Try different values of this parameter from 10 to 200 with step 10.\n",
    "* Set `random_state` to `1`.\n",
    "* Evaluate the model on the validation dataset.\n",
    "\n",
    "\n",
    "After which value of `n_estimators` does RMSE stop improving?\n",
    "\n",
    "- 10\n",
    "- 25\n",
    "- 50\n",
    "- 160 <--- this\n"
   ]
  },
  {
   "cell_type": "code",
   "execution_count": 27,
   "id": "bb093c7b-101e-4dfa-8049-8d760d335abe",
   "metadata": {},
   "outputs": [
    {
     "name": "stdout",
     "output_type": "stream",
     "text": [
      "For n_estimator 10\n",
      "RMSE 0.245\n",
      "For n_estimator 20\n",
      "RMSE 0.239\n",
      "For n_estimator 30\n",
      "RMSE 0.237\n",
      "For n_estimator 40\n",
      "RMSE 0.236\n",
      "For n_estimator 50\n",
      "RMSE 0.236\n",
      "For n_estimator 60\n",
      "RMSE 0.235\n",
      "For n_estimator 70\n",
      "RMSE 0.235\n",
      "For n_estimator 80\n",
      "RMSE 0.235\n",
      "For n_estimator 90\n",
      "RMSE 0.235\n",
      "For n_estimator 100\n",
      "RMSE 0.234\n",
      "For n_estimator 110\n",
      "RMSE 0.234\n",
      "For n_estimator 120\n",
      "RMSE 0.234\n",
      "For n_estimator 130\n",
      "RMSE 0.234\n",
      "For n_estimator 140\n",
      "RMSE 0.234\n",
      "For n_estimator 150\n",
      "RMSE 0.233\n",
      "For n_estimator 160\n",
      "RMSE 0.233\n",
      "For n_estimator 170\n",
      "RMSE 0.233\n",
      "For n_estimator 180\n",
      "RMSE 0.233\n",
      "For n_estimator 190\n",
      "RMSE 0.234\n"
     ]
    }
   ],
   "source": [
    "rmse_results = []\n",
    "for n_estimators in range(10, 200, 10):\n",
    "    print(f'For n_estimator {n_estimators}')\n",
    "    rf = RandomForestRegressor(n_estimators=n_estimators, random_state=1, n_jobs=-1)\n",
    "    rf.fit(train, y_train)\n",
    "    y_val_predicted = rf.predict(val)\n",
    "    _rmse = round(mean_squared_error(y_val, y_val_predicted, squared=False),3)\n",
    "    print(f'RMSE {_rmse}')\n",
    "    rmse_results.append(_rmse)"
   ]
  },
  {
   "cell_type": "code",
   "execution_count": 28,
   "id": "9f2c3caf-ae4e-4c7b-b84f-84dc65435cea",
   "metadata": {},
   "outputs": [
    {
     "data": {
      "text/plain": [
       "Text(0.5, 1.0, 'Results')"
      ]
     },
     "execution_count": 28,
     "metadata": {},
     "output_type": "execute_result"
    },
    {
     "data": {
      "image/png": "[encoded data removed]",
      "text/plain": [
       "<Figure size 640x480 with 1 Axes>"
      ]
     },
     "metadata": {},
     "output_type": "display_data"
    }
   ],
   "source": [
    "plt.plot(range(10, 200, 10), rmse_results)\n",
    "plt.xlabel('n_estimators')\n",
    "plt.ylabel('rmse')\n",
    "plt.title('Results')"
   ]
  },
  {
   "cell_type": "markdown",
   "id": "e5ccd6ae-3740-45a4-9573-ec59891bb2bd",
   "metadata": {},
   "source": [
    "## Question 4\n",
    "\n",
    "Let's select the best `max_depth`:\n",
    "\n",
    "* Try different values of `max_depth`: `[10, 15, 20, 25]`\n",
    "* For each of these values, try different values of `n_estimators` from 10 till 200 (with step 10)\n",
    "* Fix the random seed: `random_state=1`\n",
    "\n",
    "\n",
    "What's the best `max_depth`:\n",
    "\n",
    "* 10\n",
    "* 15\n",
    "* 20 <--- this\n",
    "* 25"
   ]
  },
  {
   "cell_type": "code",
   "execution_count": 29,
   "id": "0b84cab8-db51-4bf5-ba75-a01558a0b897",
   "metadata": {},
   "outputs": [
    {
     "name": "stdout",
     "output_type": "stream",
     "text": [
      "For n_estimator 10, max_depth 10\n",
      "RMSE 0.25038171755221517\n",
      "For n_estimator 20, max_depth 10\n",
      "RMSE 0.24732043978848206\n",
      "For n_estimator 30, max_depth 10\n",
      "RMSE 0.24607880553877165\n",
      "For n_estimator 40, max_depth 10\n",
      "RMSE 0.24474669658557988\n",
      "For n_estimator 50, max_depth 10\n",
      "RMSE 0.2452890101179066\n",
      "For n_estimator 60, max_depth 10\n",
      "RMSE 0.24525877056149717\n",
      "For n_estimator 70, max_depth 10\n",
      "RMSE 0.2452396473311947\n",
      "For n_estimator 80, max_depth 10\n",
      "RMSE 0.24537927953557825\n",
      "For n_estimator 90, max_depth 10\n",
      "RMSE 0.24522860692889978\n",
      "For n_estimator 100, max_depth 10\n",
      "RMSE 0.24503559627175484\n",
      "For n_estimator 110, max_depth 10\n",
      "RMSE 0.24508975484608705\n",
      "For n_estimator 120, max_depth 10\n",
      "RMSE 0.2448403036960314\n",
      "For n_estimator 130, max_depth 10\n",
      "RMSE 0.2446503446449854\n",
      "For n_estimator 140, max_depth 10\n",
      "RMSE 0.24433344916271185\n",
      "For n_estimator 150, max_depth 10\n",
      "RMSE 0.24431468797708408\n",
      "For n_estimator 160, max_depth 10\n",
      "RMSE 0.24423250414485997\n",
      "For n_estimator 170, max_depth 10\n",
      "RMSE 0.24417521621225255\n",
      "For n_estimator 180, max_depth 10\n",
      "RMSE 0.24432010488499464\n",
      "For n_estimator 190, max_depth 10\n",
      "RMSE 0.2444743491234717\n",
      "For n_estimator 10, max_depth 15\n",
      "RMSE 0.24487212360551128\n",
      "For n_estimator 20, max_depth 15\n",
      "RMSE 0.23878636513691615\n",
      "For n_estimator 30, max_depth 15\n",
      "RMSE 0.23760638835165343\n",
      "For n_estimator 40, max_depth 15\n",
      "RMSE 0.23591279810921267\n",
      "For n_estimator 50, max_depth 15\n",
      "RMSE 0.23596137544752466\n",
      "For n_estimator 60, max_depth 15\n",
      "RMSE 0.23590417187978602\n",
      "For n_estimator 70, max_depth 15\n",
      "RMSE 0.23569039746107012\n",
      "For n_estimator 80, max_depth 15\n",
      "RMSE 0.23606290577866043\n",
      "For n_estimator 90, max_depth 15\n",
      "RMSE 0.23576339248980316\n",
      "For n_estimator 100, max_depth 15\n",
      "RMSE 0.23542240316910382\n",
      "For n_estimator 110, max_depth 15\n",
      "RMSE 0.23534274651537157\n",
      "For n_estimator 120, max_depth 15\n",
      "RMSE 0.23516229937731453\n",
      "For n_estimator 130, max_depth 15\n",
      "RMSE 0.23496539434490804\n",
      "For n_estimator 140, max_depth 15\n",
      "RMSE 0.2346902627935336\n",
      "For n_estimator 150, max_depth 15\n",
      "RMSE 0.23455971322749675\n",
      "For n_estimator 160, max_depth 15\n",
      "RMSE 0.23442019059533667\n",
      "For n_estimator 170, max_depth 15\n",
      "RMSE 0.23440307736752009\n",
      "For n_estimator 180, max_depth 15\n",
      "RMSE 0.2345799987158931\n",
      "For n_estimator 190, max_depth 15\n",
      "RMSE 0.2347551333127433\n",
      "For n_estimator 10, max_depth 20\n",
      "RMSE 0.24384125453740926\n",
      "For n_estimator 20, max_depth 20\n",
      "RMSE 0.23792026038244574\n",
      "For n_estimator 30, max_depth 20\n",
      "RMSE 0.23605243980194876\n",
      "For n_estimator 40, max_depth 20\n",
      "RMSE 0.23448352192168992\n",
      "For n_estimator 50, max_depth 20\n",
      "RMSE 0.234710573651395\n",
      "For n_estimator 60, max_depth 20\n",
      "RMSE 0.23442793094831307\n",
      "For n_estimator 70, max_depth 20\n",
      "RMSE 0.23440541249639224\n",
      "For n_estimator 80, max_depth 20\n",
      "RMSE 0.23454348498815417\n",
      "For n_estimator 90, max_depth 20\n",
      "RMSE 0.23435385850638515\n",
      "For n_estimator 100, max_depth 20\n",
      "RMSE 0.23420119625002533\n",
      "For n_estimator 110, max_depth 20\n",
      "RMSE 0.2343343502156319\n",
      "For n_estimator 120, max_depth 20\n",
      "RMSE 0.23419873996155927\n",
      "For n_estimator 130, max_depth 20\n",
      "RMSE 0.23398129120777228\n",
      "For n_estimator 140, max_depth 20\n",
      "RMSE 0.23358851428145183\n",
      "For n_estimator 150, max_depth 20\n",
      "RMSE 0.23351043077435027\n",
      "For n_estimator 160, max_depth 20\n",
      "RMSE 0.23336914359208077\n",
      "For n_estimator 170, max_depth 20\n",
      "RMSE 0.23331005792402795\n",
      "For n_estimator 180, max_depth 20\n",
      "RMSE 0.2335060023045144\n",
      "For n_estimator 190, max_depth 20\n",
      "RMSE 0.2337649879845059\n",
      "For n_estimator 10, max_depth 25\n",
      "RMSE 0.24423071840409813\n",
      "For n_estimator 20, max_depth 25\n",
      "RMSE 0.23832748981322563\n",
      "For n_estimator 30, max_depth 25\n",
      "RMSE 0.23722030709834643\n",
      "For n_estimator 40, max_depth 25\n",
      "RMSE 0.23534391612675304\n",
      "For n_estimator 50, max_depth 25\n",
      "RMSE 0.23512542430540595\n",
      "For n_estimator 60, max_depth 25\n",
      "RMSE 0.23481135748215787\n",
      "For n_estimator 70, max_depth 25\n",
      "RMSE 0.23474715222422024\n",
      "For n_estimator 80, max_depth 25\n",
      "RMSE 0.2348403407893017\n",
      "For n_estimator 90, max_depth 25\n",
      "RMSE 0.23451423723942874\n",
      "For n_estimator 100, max_depth 25\n",
      "RMSE 0.23442802860642298\n",
      "For n_estimator 110, max_depth 25\n",
      "RMSE 0.234443869051685\n",
      "For n_estimator 120, max_depth 25\n",
      "RMSE 0.23421010855704535\n",
      "For n_estimator 130, max_depth 25\n",
      "RMSE 0.23398565201121838\n",
      "For n_estimator 140, max_depth 25\n",
      "RMSE 0.23365749646780656\n",
      "For n_estimator 150, max_depth 25\n",
      "RMSE 0.23357483800893095\n",
      "For n_estimator 160, max_depth 25\n",
      "RMSE 0.23340752511501803\n",
      "For n_estimator 170, max_depth 25\n",
      "RMSE 0.2334062999460951\n",
      "For n_estimator 180, max_depth 25\n",
      "RMSE 0.23355347775117766\n",
      "For n_estimator 190, max_depth 25\n",
      "RMSE 0.2337854536491656\n"
     ]
    }
   ],
   "source": [
    "results = []\n",
    "for max_depth in [10, 15, 20,25]:\n",
    "    for n_estimators in range(10, 200, 10):\n",
    "        print(f'For n_estimator {n_estimators}, max_depth {max_depth}')\n",
    "        rf = RandomForestRegressor(n_estimators=n_estimators, max_depth=max_depth, random_state=1, n_jobs=-1)\n",
    "        rf.fit(train, y_train)\n",
    "        y_val_predicted = rf.predict(val)\n",
    "        _rmse = mean_squared_error(y_val, y_val_predicted, squared=False)\n",
    "        print(f'RMSE {_rmse}')\n",
    "        results.append({'rmse': _rmse, 'max_depth': max_depth, 'n_estimators': n_estimators})"
   ]
  },
  {
   "cell_type": "code",
   "execution_count": 30,
   "id": "7b0e2cc7-0cad-42f3-ac1d-04d0fbe62570",
   "metadata": {},
   "outputs": [],
   "source": [
    "df_results = pd.DataFrame(results)"
   ]
  },
  {
   "cell_type": "code",
   "execution_count": 31,
   "id": "5adef0a7-ea75-4aa6-b29e-2fe61fa75d0a",
   "metadata": {},
   "outputs": [
    {
     "data": {
      "text/html": [
       "<div>\n",
       "<style scoped>\n",
       "    .dataframe tbody tr th:only-of-type {\n",
       "        vertical-align: middle;\n",
       "    }\n",
       "\n",
       "    .dataframe tbody tr th {\n",
       "        vertical-align: top;\n",
       "    }\n",
       "\n",
       "    .dataframe thead tr th {\n",
       "        text-align: left;\n",
       "    }\n",
       "\n",
       "    .dataframe thead tr:last-of-type th {\n",
       "        text-align: right;\n",
       "    }\n",
       "</style>\n",
       "<table border=\"1\" class=\"dataframe\">\n",
       "  <thead>\n",
       "    <tr>\n",
       "      <th></th>\n",
       "      <th colspan=\"19\" halign=\"left\">rmse</th>\n",
       "    </tr>\n",
       "    <tr>\n",
       "      <th>n_estimators</th>\n",
       "      <th>10</th>\n",
       "      <th>20</th>\n",
       "      <th>30</th>\n",
       "      <th>40</th>\n",
       "      <th>50</th>\n",
       "      <th>60</th>\n",
       "      <th>70</th>\n",
       "      <th>80</th>\n",
       "      <th>90</th>\n",
       "      <th>100</th>\n",
       "      <th>110</th>\n",
       "      <th>120</th>\n",
       "      <th>130</th>\n",
       "      <th>140</th>\n",
       "      <th>150</th>\n",
       "      <th>160</th>\n",
       "      <th>170</th>\n",
       "      <th>180</th>\n",
       "      <th>190</th>\n",
       "    </tr>\n",
       "    <tr>\n",
       "      <th>max_depth</th>\n",
       "      <th></th>\n",
       "      <th></th>\n",
       "      <th></th>\n",
       "      <th></th>\n",
       "      <th></th>\n",
       "      <th></th>\n",
       "      <th></th>\n",
       "      <th></th>\n",
       "      <th></th>\n",
       "      <th></th>\n",
       "      <th></th>\n",
       "      <th></th>\n",
       "      <th></th>\n",
       "      <th></th>\n",
       "      <th></th>\n",
       "      <th></th>\n",
       "      <th></th>\n",
       "      <th></th>\n",
       "      <th></th>\n",
       "    </tr>\n",
       "  </thead>\n",
       "  <tbody>\n",
       "    <tr>\n",
       "      <th>10</th>\n",
       "      <td>0.2504</td>\n",
       "      <td>0.2473</td>\n",
       "      <td>0.2461</td>\n",
       "      <td>0.2447</td>\n",
       "      <td>0.2453</td>\n",
       "      <td>0.2453</td>\n",
       "      <td>0.2452</td>\n",
       "      <td>0.2454</td>\n",
       "      <td>0.2452</td>\n",
       "      <td>0.2450</td>\n",
       "      <td>0.2451</td>\n",
       "      <td>0.2448</td>\n",
       "      <td>0.2447</td>\n",
       "      <td>0.2443</td>\n",
       "      <td>0.2443</td>\n",
       "      <td>0.2442</td>\n",
       "      <td>0.2442</td>\n",
       "      <td>0.2443</td>\n",
       "      <td>0.2445</td>\n",
       "    </tr>\n",
       "    <tr>\n",
       "      <th>15</th>\n",
       "      <td>0.2449</td>\n",
       "      <td>0.2388</td>\n",
       "      <td>0.2376</td>\n",
       "      <td>0.2359</td>\n",
       "      <td>0.2360</td>\n",
       "      <td>0.2359</td>\n",
       "      <td>0.2357</td>\n",
       "      <td>0.2361</td>\n",
       "      <td>0.2358</td>\n",
       "      <td>0.2354</td>\n",
       "      <td>0.2353</td>\n",
       "      <td>0.2352</td>\n",
       "      <td>0.2350</td>\n",
       "      <td>0.2347</td>\n",
       "      <td>0.2346</td>\n",
       "      <td>0.2344</td>\n",
       "      <td>0.2344</td>\n",
       "      <td>0.2346</td>\n",
       "      <td>0.2348</td>\n",
       "    </tr>\n",
       "    <tr>\n",
       "      <th>20</th>\n",
       "      <td>0.2438</td>\n",
       "      <td>0.2379</td>\n",
       "      <td>0.2361</td>\n",
       "      <td>0.2345</td>\n",
       "      <td>0.2347</td>\n",
       "      <td>0.2344</td>\n",
       "      <td>0.2344</td>\n",
       "      <td>0.2345</td>\n",
       "      <td>0.2344</td>\n",
       "      <td>0.2342</td>\n",
       "      <td>0.2343</td>\n",
       "      <td>0.2342</td>\n",
       "      <td>0.2340</td>\n",
       "      <td>0.2336</td>\n",
       "      <td>0.2335</td>\n",
       "      <td>0.2334</td>\n",
       "      <td>0.2333</td>\n",
       "      <td>0.2335</td>\n",
       "      <td>0.2338</td>\n",
       "    </tr>\n",
       "    <tr>\n",
       "      <th>25</th>\n",
       "      <td>0.2442</td>\n",
       "      <td>0.2383</td>\n",
       "      <td>0.2372</td>\n",
       "      <td>0.2353</td>\n",
       "      <td>0.2351</td>\n",
       "      <td>0.2348</td>\n",
       "      <td>0.2347</td>\n",
       "      <td>0.2348</td>\n",
       "      <td>0.2345</td>\n",
       "      <td>0.2344</td>\n",
       "      <td>0.2344</td>\n",
       "      <td>0.2342</td>\n",
       "      <td>0.2340</td>\n",
       "      <td>0.2337</td>\n",
       "      <td>0.2336</td>\n",
       "      <td>0.2334</td>\n",
       "      <td>0.2334</td>\n",
       "      <td>0.2336</td>\n",
       "      <td>0.2338</td>\n",
       "    </tr>\n",
       "  </tbody>\n",
       "</table>\n",
       "</div>"
      ],
      "text/plain": [
       "                rmse                                                          \\\n",
       "n_estimators     10      20      30      40      50      60      70      80    \n",
       "max_depth                                                                      \n",
       "10            0.2504  0.2473  0.2461  0.2447  0.2453  0.2453  0.2452  0.2454   \n",
       "15            0.2449  0.2388  0.2376  0.2359  0.2360  0.2359  0.2357  0.2361   \n",
       "20            0.2438  0.2379  0.2361  0.2345  0.2347  0.2344  0.2344  0.2345   \n",
       "25            0.2442  0.2383  0.2372  0.2353  0.2351  0.2348  0.2347  0.2348   \n",
       "\n",
       "                                                                              \\\n",
       "n_estimators     90      100     110     120     130     140     150     160   \n",
       "max_depth                                                                      \n",
       "10            0.2452  0.2450  0.2451  0.2448  0.2447  0.2443  0.2443  0.2442   \n",
       "15            0.2358  0.2354  0.2353  0.2352  0.2350  0.2347  0.2346  0.2344   \n",
       "20            0.2344  0.2342  0.2343  0.2342  0.2340  0.2336  0.2335  0.2334   \n",
       "25            0.2345  0.2344  0.2344  0.2342  0.2340  0.2337  0.2336  0.2334   \n",
       "\n",
       "                                      \n",
       "n_estimators     170     180     190  \n",
       "max_depth                             \n",
       "10            0.2442  0.2443  0.2445  \n",
       "15            0.2344  0.2346  0.2348  \n",
       "20            0.2333  0.2335  0.2338  \n",
       "25            0.2334  0.2336  0.2338  "
      ]
     },
     "execution_count": 31,
     "metadata": {},
     "output_type": "execute_result"
    }
   ],
   "source": [
    "df_results_pivot = df_results.pivot(index='max_depth', columns=['n_estimators'], values=['rmse'])\n",
    "df_results_pivot.round(4)"
   ]
  },
  {
   "cell_type": "code",
   "execution_count": 32,
   "id": "f9f4eeb6-df4f-44e0-94c1-f7db37f6de29",
   "metadata": {},
   "outputs": [
    {
     "data": {
      "text/plain": [
       "Text(0.5, 1.0, 'RMSE-Results')"
      ]
     },
     "execution_count": 32,
     "metadata": {},
     "output_type": "execute_result"
    },
    {
     "data": {
      "image/png": "[encoded data removed]",
      "text/plain": [
       "<Figure size 640x480 with 1 Axes>"
      ]
     },
     "metadata": {},
     "output_type": "display_data"
    }
   ],
   "source": [
    "colors = {10: 'red', 15: 'blue', 20: 'green', 25: 'yellow'}\n",
    "for max_depth in [10, 15, 20, 25]:\n",
    "    plt.plot(range(10, 200, 10), df_results_pivot[df_results_pivot.index == max_depth].T.values, color = colors[max_depth], label=max_depth)\n",
    "plt.legend()\n",
    "plt.xlabel('n_estimators')\n",
    "plt.ylabel('RMSE')\n",
    "plt.title('RMSE-Results')"
   ]
  },
  {
   "cell_type": "markdown",
   "id": "423eafda-8327-463c-883e-894325de6c24",
   "metadata": {},
   "source": [
    "# Question 5\n",
    "\n",
    "We can extract feature importance information from tree-based models. \n",
    "\n",
    "At each step of the decision tree learning algorith, it finds the best split. \n",
    "When doint it, we can calculate \"gain\" - the reduction in impurity before and after the split. \n",
    "This gain is quite useful in understanding what are the imporatant features \n",
    "for tree-based models.\n",
    "\n",
    "In Scikit-Learn, tree-based models contain this information in the\n",
    "[`feature_importances_`](https://scikit-learn.org/stable/modules/generated/sklearn.ensemble.RandomForestRegressor.html#sklearn.ensemble.RandomForestRegressor.feature_importances_)\n",
    "field. \n",
    "\n",
    "For this homework question, we'll find the most important feature:\n",
    "\n",
    "* Train the model with these parametes:\n",
    "    * `n_estimators=10`,\n",
    "    * `max_depth=20`,\n",
    "    * `random_state=1`,\n",
    "    * `n_jobs=-1` (optional)\n",
    "* Get the feature importance information from this model\n",
    "\n",
    "\n",
    "What's the most important feature (among these 4)? \n",
    "\n",
    "* `total_rooms`\n",
    "* `median_income` <--- this\n",
    "* `total_bedrooms`\n",
    "* `longitude`"
   ]
  },
  {
   "cell_type": "code",
   "execution_count": 33,
   "id": "0a650361-92d5-433b-81b4-36a9ee9c88a3",
   "metadata": {},
   "outputs": [],
   "source": [
    "rf = RandomForestRegressor(n_estimators=10, max_depth=20, random_state=1, n_jobs=-1)"
   ]
  },
  {
   "cell_type": "code",
   "execution_count": 34,
   "id": "e3cd6063-3d94-4287-b271-afd37acf0f7f",
   "metadata": {},
   "outputs": [
    {
     "data": {
      "text/html": [
       "<style>#sk-container-id-3 {color: black;}#sk-container-id-3 pre{padding: 0;}#sk-container-id-3 div.sk-toggleable {background-color: white;}#sk-container-id-3 label.sk-toggleable__label {cursor: pointer;display: block;width: 100%;margin-bottom: 0;padding: 0.3em;box-sizing: border-box;text-align: center;}#sk-container-id-3 label.sk-toggleable__label-arrow:before {content: \"▸\";float: left;margin-right: 0.25em;color: #696969;}#sk-container-id-3 label.sk-toggleable__label-arrow:hover:before {color: black;}#sk-container-id-3 div.sk-estimator:hover label.sk-toggleable__label-arrow:before {color: black;}#sk-container-id-3 div.sk-toggleable__content {max-height: 0;max-width: 0;overflow: hidden;text-align: left;background-color: #f0f8ff;}#sk-container-id-3 div.sk-toggleable__content pre {margin: 0.2em;color: black;border-radius: 0.25em;background-color: #f0f8ff;}#sk-container-id-3 input.sk-toggleable__control:checked~div.sk-toggleable__content {max-height: 200px;max-width: 100%;overflow: auto;}#sk-container-id-3 input.sk-toggleable__control:checked~label.sk-toggleable__label-arrow:before {content: \"▾\";}#sk-container-id-3 div.sk-estimator input.sk-toggleable__control:checked~label.sk-toggleable__label {background-color: #d4ebff;}#sk-container-id-3 div.sk-label input.sk-toggleable__control:checked~label.sk-toggleable__label {background-color: #d4ebff;}#sk-container-id-3 input.sk-hidden--visually {border: 0;clip: rect(1px 1px 1px 1px);clip: rect(1px, 1px, 1px, 1px);height: 1px;margin: -1px;overflow: hidden;padding: 0;position: absolute;width: 1px;}#sk-container-id-3 div.sk-estimator {font-family: monospace;background-color: #f0f8ff;border: 1px dotted black;border-radius: 0.25em;box-sizing: border-box;margin-bottom: 0.5em;}#sk-container-id-3 div.sk-estimator:hover {background-color: #d4ebff;}#sk-container-id-3 div.sk-parallel-item::after {content: \"\";width: 100%;border-bottom: 1px solid gray;flex-grow: 1;}#sk-container-id-3 div.sk-label:hover label.sk-toggleable__label {background-color: #d4ebff;}#sk-container-id-3 div.sk-serial::before {content: \"\";position: absolute;border-left: 1px solid gray;box-sizing: border-box;top: 0;bottom: 0;left: 50%;z-index: 0;}#sk-container-id-3 div.sk-serial {display: flex;flex-direction: column;align-items: center;background-color: white;padding-right: 0.2em;padding-left: 0.2em;position: relative;}#sk-container-id-3 div.sk-item {position: relative;z-index: 1;}#sk-container-id-3 div.sk-parallel {display: flex;align-items: stretch;justify-content: center;background-color: white;position: relative;}#sk-container-id-3 div.sk-item::before, #sk-container-id-3 div.sk-parallel-item::before {content: \"\";position: absolute;border-left: 1px solid gray;box-sizing: border-box;top: 0;bottom: 0;left: 50%;z-index: -1;}#sk-container-id-3 div.sk-parallel-item {display: flex;flex-direction: column;z-index: 1;position: relative;background-color: white;}#sk-container-id-3 div.sk-parallel-item:first-child::after {align-self: flex-end;width: 50%;}#sk-container-id-3 div.sk-parallel-item:last-child::after {align-self: flex-start;width: 50%;}#sk-container-id-3 div.sk-parallel-item:only-child::after {width: 0;}#sk-container-id-3 div.sk-dashed-wrapped {border: 1px dashed gray;margin: 0 0.4em 0.5em 0.4em;box-sizing: border-box;padding-bottom: 0.4em;background-color: white;}#sk-container-id-3 div.sk-label label {font-family: monospace;font-weight: bold;display: inline-block;line-height: 1.2em;}#sk-container-id-3 div.sk-label-container {text-align: center;}#sk-container-id-3 div.sk-container {/* jupyter's `normalize.less` sets `[hidden] { display: none; }` but bootstrap.min.css set `[hidden] { display: none !important; }` so we also need the `!important` here to be able to override the default hidden behavior on the sphinx rendered scikit-learn.org. See: https://github.com/scikit-learn/scikit-learn/issues/21755 */display: inline-block !important;position: relative;}#sk-container-id-3 div.sk-text-repr-fallback {display: none;}</style><div id=\"sk-container-id-3\" class=\"sk-top-container\"><div class=\"sk-text-repr-fallback\"><pre>RandomForestRegressor(max_depth=20, n_estimators=10, n_jobs=-1, random_state=1)</pre><b>In a Jupyter environment, please rerun this cell to show the HTML representation or trust the notebook. <br />On GitHub, the HTML representation is unable to render, please try loading this page with nbviewer.org.</b></div><div class=\"sk-container\" hidden><div class=\"sk-item\"><div class=\"sk-estimator sk-toggleable\"><input class=\"sk-toggleable__control sk-hidden--visually\" id=\"sk-estimator-id-3\" type=\"checkbox\" checked><label for=\"sk-estimator-id-3\" class=\"sk-toggleable__label sk-toggleable__label-arrow\">RandomForestRegressor</label><div class=\"sk-toggleable__content\"><pre>RandomForestRegressor(max_depth=20, n_estimators=10, n_jobs=-1, random_state=1)</pre></div></div></div></div></div>"
      ],
      "text/plain": [
       "RandomForestRegressor(max_depth=20, n_estimators=10, n_jobs=-1, random_state=1)"
      ]
     },
     "execution_count": 34,
     "metadata": {},
     "output_type": "execute_result"
    }
   ],
   "source": [
    "rf.fit(train, y_train)"
   ]
  },
  {
   "cell_type": "code",
   "execution_count": 35,
   "id": "4a163914-5f55-48ab-b2fc-6f0438e56c94",
   "metadata": {},
   "outputs": [],
   "source": [
    "feature_importance = pd.DataFrame({'feature_importance':rf.feature_importances_, 'features': dv.get_feature_names_out()})"
   ]
  },
  {
   "cell_type": "code",
   "execution_count": 36,
   "id": "9449deab-bed2-43f0-bbb8-39f8d0304587",
   "metadata": {},
   "outputs": [
    {
     "data": {
      "text/html": [
       "<div>\n",
       "<style scoped>\n",
       "    .dataframe tbody tr th:only-of-type {\n",
       "        vertical-align: middle;\n",
       "    }\n",
       "\n",
       "    .dataframe tbody tr th {\n",
       "        vertical-align: top;\n",
       "    }\n",
       "\n",
       "    .dataframe thead th {\n",
       "        text-align: right;\n",
       "    }\n",
       "</style>\n",
       "<table border=\"1\" class=\"dataframe\">\n",
       "  <thead>\n",
       "    <tr style=\"text-align: right;\">\n",
       "      <th></th>\n",
       "      <th>feature_importance</th>\n",
       "      <th>features</th>\n",
       "    </tr>\n",
       "  </thead>\n",
       "  <tbody>\n",
       "    <tr>\n",
       "      <th>6</th>\n",
       "      <td>0.366280</td>\n",
       "      <td>ocean_proximity=INLAND</td>\n",
       "    </tr>\n",
       "    <tr>\n",
       "      <th>4</th>\n",
       "      <td>0.335320</td>\n",
       "      <td>median_income</td>\n",
       "    </tr>\n",
       "    <tr>\n",
       "      <th>2</th>\n",
       "      <td>0.101279</td>\n",
       "      <td>latitude</td>\n",
       "    </tr>\n",
       "    <tr>\n",
       "      <th>3</th>\n",
       "      <td>0.086834</td>\n",
       "      <td>longitude</td>\n",
       "    </tr>\n",
       "    <tr>\n",
       "      <th>1</th>\n",
       "      <td>0.030134</td>\n",
       "      <td>housing_median_age</td>\n",
       "    </tr>\n",
       "    <tr>\n",
       "      <th>7</th>\n",
       "      <td>0.027851</td>\n",
       "      <td>population</td>\n",
       "    </tr>\n",
       "    <tr>\n",
       "      <th>9</th>\n",
       "      <td>0.021493</td>\n",
       "      <td>total_rooms</td>\n",
       "    </tr>\n",
       "    <tr>\n",
       "      <th>8</th>\n",
       "      <td>0.015465</td>\n",
       "      <td>total_bedrooms</td>\n",
       "    </tr>\n",
       "    <tr>\n",
       "      <th>0</th>\n",
       "      <td>0.015343</td>\n",
       "      <td>households</td>\n",
       "    </tr>\n",
       "    <tr>\n",
       "      <th>5</th>\n",
       "      <td>0.000000</td>\n",
       "      <td>ocean_proximity=1H OCEAN</td>\n",
       "    </tr>\n",
       "  </tbody>\n",
       "</table>\n",
       "</div>"
      ],
      "text/plain": [
       "   feature_importance                  features\n",
       "6            0.366280    ocean_proximity=INLAND\n",
       "4            0.335320             median_income\n",
       "2            0.101279                  latitude\n",
       "3            0.086834                 longitude\n",
       "1            0.030134        housing_median_age\n",
       "7            0.027851                population\n",
       "9            0.021493               total_rooms\n",
       "8            0.015465            total_bedrooms\n",
       "0            0.015343                households\n",
       "5            0.000000  ocean_proximity=1H OCEAN"
      ]
     },
     "execution_count": 36,
     "metadata": {},
     "output_type": "execute_result"
    }
   ],
   "source": [
    "feature_importance.sort_values('feature_importance', ascending=False)"
   ]
  },
  {
   "cell_type": "markdown",
   "id": "ef6fb7b7-d25b-4926-b5b0-119c51e156b0",
   "metadata": {},
   "source": [
    "\n",
    "## Question 6\n",
    "\n",
    "Now let's train an XGBoost model! For this question, we'll tune the `eta` parameter:\n",
    "\n",
    "* Install XGBoost\n",
    "* Create DMatrix for train and validation\n",
    "* Create a watchlist\n",
    "* Train a model with these parameters for 100 rounds:\n",
    "\n",
    "```\n",
    "xgb_params = {\n",
    "    'eta': 0.3, \n",
    "    'max_depth': 6,\n",
    "    'min_child_weight': 1,\n",
    "    \n",
    "    'objective': 'reg:squarederror',\n",
    "    'nthread': 8,\n",
    "    \n",
    "    'seed': 1,\n",
    "    'verbosity': 1,\n",
    "}\n",
    "```\n",
    "\n",
    "Now change `eta` from `0.3` to `0.1`.\n",
    "\n",
    "Which eta leads to the best RMSE score on the validation dataset?\n",
    "\n",
    "* 0.3 <---this\n",
    "* 0.1\n",
    "* Both give equal value"
   ]
  },
  {
   "cell_type": "code",
   "execution_count": 37,
   "id": "fb0fc919-6baa-41c3-880c-1d309dff9a06",
   "metadata": {},
   "outputs": [
    {
     "name": "stderr",
     "output_type": "stream",
     "text": [
      "/home/taras/.local/share/virtualenvs/ml-zoomcamp-hw-BtHUIWoS/lib/python3.10/site-packages/xgboost/data.py:520: FutureWarning: is_sparse is deprecated and will be removed in a future version. Check `isinstance(dtype, pd.SparseDtype)` instead.\n",
      "  if is_sparse(data):\n"
     ]
    }
   ],
   "source": [
    "features = dv.get_feature_names_out().tolist()\n",
    "dtrain = xgb.DMatrix(train, label=y_train, feature_names=features)\n",
    "dval = xgb.DMatrix(val, label=y_val, feature_names=features)"
   ]
  },
  {
   "cell_type": "code",
   "execution_count": 38,
   "id": "b8147267-02df-41a3-a606-abaac76f7c97",
   "metadata": {},
   "outputs": [],
   "source": [
    "watchlist = [(dtrain, 'train'), (dval, 'val')]"
   ]
  },
  {
   "cell_type": "code",
   "execution_count": 51,
   "id": "4ff0aae7-7724-4479-8e1e-b0a66c245df5",
   "metadata": {},
   "outputs": [],
   "source": [
    "%%capture output\n",
    "\n",
    "xgb_params = {\n",
    "    'eta': 0.3, \n",
    "    'max_depth': 6,\n",
    "    'min_child_weight': 1,\n",
    "    \n",
    "    'objective': 'reg:squarederror',\n",
    "\n",
    "    'nthread': 8,\n",
    "    'seed': 1,\n",
    "    'verbosity': 1,\n",
    "}\n",
    "\n",
    "model = xgb.train(xgb_params, dtrain, num_boost_round=100,\n",
    "                  verbose_eval=5,\n",
    "                  evals=watchlist)"
   ]
  },
  {
   "cell_type": "code",
   "execution_count": 52,
   "id": "53bb7078-e3fa-4adb-a194-cd5512a4ec3e",
   "metadata": {},
   "outputs": [],
   "source": [
    "def parse_xgb_output(output):\n",
    "    results = []\n",
    "\n",
    "    for line in output.stdout.strip().split('\\n'):\n",
    "        it_line, train_line, val_line = line.split('\\t')\n",
    "\n",
    "        it = int(it_line.strip('[]'))\n",
    "        train = float(train_line.split(':')[1])\n",
    "        val = float(val_line.split(':')[1])\n",
    "\n",
    "        results.append((it, train, val))\n",
    "    \n",
    "    columns = ['num_iter', 'train_rmse', 'val_rmse']\n",
    "    df_results = pd.DataFrame(results, columns=columns)\n",
    "    return df_results"
   ]
  },
  {
   "cell_type": "code",
   "execution_count": 53,
   "id": "eb6786dc-2e89-49d5-9253-b3aa5746b2ff",
   "metadata": {},
   "outputs": [],
   "source": [
    "df_score = parse_xgb_output(output)"
   ]
  },
  {
   "cell_type": "code",
   "execution_count": 54,
   "id": "85bd81e1-ddfb-4b2d-8a56-d1784a9fdf2b",
   "metadata": {},
   "outputs": [
    {
     "data": {
      "text/html": [
       "<div>\n",
       "<style scoped>\n",
       "    .dataframe tbody tr th:only-of-type {\n",
       "        vertical-align: middle;\n",
       "    }\n",
       "\n",
       "    .dataframe tbody tr th {\n",
       "        vertical-align: top;\n",
       "    }\n",
       "\n",
       "    .dataframe thead th {\n",
       "        text-align: right;\n",
       "    }\n",
       "</style>\n",
       "<table border=\"1\" class=\"dataframe\">\n",
       "  <thead>\n",
       "    <tr style=\"text-align: right;\">\n",
       "      <th></th>\n",
       "      <th>num_iter</th>\n",
       "      <th>train_rmse</th>\n",
       "      <th>val_rmse</th>\n",
       "    </tr>\n",
       "  </thead>\n",
       "  <tbody>\n",
       "    <tr>\n",
       "      <th>0</th>\n",
       "      <td>0</td>\n",
       "      <td>0.44351</td>\n",
       "      <td>0.44250</td>\n",
       "    </tr>\n",
       "    <tr>\n",
       "      <th>1</th>\n",
       "      <td>5</td>\n",
       "      <td>0.25338</td>\n",
       "      <td>0.27463</td>\n",
       "    </tr>\n",
       "    <tr>\n",
       "      <th>2</th>\n",
       "      <td>10</td>\n",
       "      <td>0.21445</td>\n",
       "      <td>0.25179</td>\n",
       "    </tr>\n",
       "    <tr>\n",
       "      <th>3</th>\n",
       "      <td>15</td>\n",
       "      <td>0.19858</td>\n",
       "      <td>0.24523</td>\n",
       "    </tr>\n",
       "    <tr>\n",
       "      <th>4</th>\n",
       "      <td>20</td>\n",
       "      <td>0.18524</td>\n",
       "      <td>0.23978</td>\n",
       "    </tr>\n",
       "    <tr>\n",
       "      <th>5</th>\n",
       "      <td>25</td>\n",
       "      <td>0.17757</td>\n",
       "      <td>0.23830</td>\n",
       "    </tr>\n",
       "    <tr>\n",
       "      <th>6</th>\n",
       "      <td>30</td>\n",
       "      <td>0.16888</td>\n",
       "      <td>0.23571</td>\n",
       "    </tr>\n",
       "    <tr>\n",
       "      <th>7</th>\n",
       "      <td>35</td>\n",
       "      <td>0.16113</td>\n",
       "      <td>0.23416</td>\n",
       "    </tr>\n",
       "    <tr>\n",
       "      <th>8</th>\n",
       "      <td>40</td>\n",
       "      <td>0.15542</td>\n",
       "      <td>0.23319</td>\n",
       "    </tr>\n",
       "    <tr>\n",
       "      <th>9</th>\n",
       "      <td>45</td>\n",
       "      <td>0.14941</td>\n",
       "      <td>0.23190</td>\n",
       "    </tr>\n",
       "    <tr>\n",
       "      <th>10</th>\n",
       "      <td>50</td>\n",
       "      <td>0.14536</td>\n",
       "      <td>0.23225</td>\n",
       "    </tr>\n",
       "    <tr>\n",
       "      <th>11</th>\n",
       "      <td>55</td>\n",
       "      <td>0.14150</td>\n",
       "      <td>0.23197</td>\n",
       "    </tr>\n",
       "    <tr>\n",
       "      <th>12</th>\n",
       "      <td>60</td>\n",
       "      <td>0.13719</td>\n",
       "      <td>0.23139</td>\n",
       "    </tr>\n",
       "    <tr>\n",
       "      <th>13</th>\n",
       "      <td>65</td>\n",
       "      <td>0.13260</td>\n",
       "      <td>0.23158</td>\n",
       "    </tr>\n",
       "    <tr>\n",
       "      <th>14</th>\n",
       "      <td>70</td>\n",
       "      <td>0.12943</td>\n",
       "      <td>0.23068</td>\n",
       "    </tr>\n",
       "    <tr>\n",
       "      <th>15</th>\n",
       "      <td>75</td>\n",
       "      <td>0.12555</td>\n",
       "      <td>0.23039</td>\n",
       "    </tr>\n",
       "    <tr>\n",
       "      <th>16</th>\n",
       "      <td>80</td>\n",
       "      <td>0.12192</td>\n",
       "      <td>0.22886</td>\n",
       "    </tr>\n",
       "    <tr>\n",
       "      <th>17</th>\n",
       "      <td>85</td>\n",
       "      <td>0.11854</td>\n",
       "      <td>0.22888</td>\n",
       "    </tr>\n",
       "    <tr>\n",
       "      <th>18</th>\n",
       "      <td>90</td>\n",
       "      <td>0.11504</td>\n",
       "      <td>0.22877</td>\n",
       "    </tr>\n",
       "    <tr>\n",
       "      <th>19</th>\n",
       "      <td>95</td>\n",
       "      <td>0.11266</td>\n",
       "      <td>0.22865</td>\n",
       "    </tr>\n",
       "    <tr>\n",
       "      <th>20</th>\n",
       "      <td>99</td>\n",
       "      <td>0.11043</td>\n",
       "      <td>0.22873</td>\n",
       "    </tr>\n",
       "  </tbody>\n",
       "</table>\n",
       "</div>"
      ],
      "text/plain": [
       "    num_iter  train_rmse  val_rmse\n",
       "0          0     0.44351   0.44250\n",
       "1          5     0.25338   0.27463\n",
       "2         10     0.21445   0.25179\n",
       "3         15     0.19858   0.24523\n",
       "4         20     0.18524   0.23978\n",
       "5         25     0.17757   0.23830\n",
       "6         30     0.16888   0.23571\n",
       "7         35     0.16113   0.23416\n",
       "8         40     0.15542   0.23319\n",
       "9         45     0.14941   0.23190\n",
       "10        50     0.14536   0.23225\n",
       "11        55     0.14150   0.23197\n",
       "12        60     0.13719   0.23139\n",
       "13        65     0.13260   0.23158\n",
       "14        70     0.12943   0.23068\n",
       "15        75     0.12555   0.23039\n",
       "16        80     0.12192   0.22886\n",
       "17        85     0.11854   0.22888\n",
       "18        90     0.11504   0.22877\n",
       "19        95     0.11266   0.22865\n",
       "20        99     0.11043   0.22873"
      ]
     },
     "execution_count": 54,
     "metadata": {},
     "output_type": "execute_result"
    }
   ],
   "source": [
    "df_score"
   ]
  },
  {
   "cell_type": "code",
   "execution_count": 55,
   "id": "85bd6671-8966-4aae-8178-e418d6cb8282",
   "metadata": {},
   "outputs": [
    {
     "data": {
      "text/plain": [
       "0.229"
      ]
     },
     "execution_count": 55,
     "metadata": {},
     "output_type": "execute_result"
    }
   ],
   "source": [
    "round(df_score.val_rmse.min(), 3)"
   ]
  },
  {
   "cell_type": "code",
   "execution_count": 44,
   "id": "20a80e84-8702-45c8-a0ac-a60b8526d6d0",
   "metadata": {},
   "outputs": [
    {
     "data": {
      "text/plain": [
       "<matplotlib.legend.Legend at 0x7f514f939a80>"
      ]
     },
     "execution_count": 44,
     "metadata": {},
     "output_type": "execute_result"
    },
    {
     "data": {
      "image/png": "[encoded data removed]",
      "text/plain": [
       "<Figure size 640x480 with 1 Axes>"
      ]
     },
     "metadata": {},
     "output_type": "display_data"
    }
   ],
   "source": [
    "plt.plot(df_score.num_iter, df_score.train_rmse, label='train')\n",
    "plt.plot(df_score.num_iter, df_score.val_rmse, label='val')\n",
    "plt.title('eta=0.3')\n",
    "plt.legend()"
   ]
  },
  {
   "cell_type": "code",
   "execution_count": 45,
   "id": "b7184c8d-ed66-4405-af2a-5862b6329862",
   "metadata": {},
   "outputs": [],
   "source": [
    "xgb_params = {\n",
    "    'eta': 0.1, \n",
    "    'max_depth': 6,\n",
    "    'min_child_weight': 1,\n",
    "    \n",
    "    'objective': 'reg:squarederror',\n",
    "\n",
    "    'nthread': 8,\n",
    "    'seed': 1,\n",
    "    'verbosity': 1,\n",
    "}"
   ]
  },
  {
   "cell_type": "code",
   "execution_count": 46,
   "id": "461e5ed5-4aed-4425-a594-0d8a4ec81a20",
   "metadata": {},
   "outputs": [],
   "source": [
    "%%capture output\n",
    "\n",
    "model = xgb.train(xgb_params, dtrain, num_boost_round=100,\n",
    "                  verbose_eval=5,\n",
    "                  evals=watchlist)"
   ]
  },
  {
   "cell_type": "code",
   "execution_count": 47,
   "id": "bbc36851-8a89-44a0-9ffd-1f71b981d409",
   "metadata": {},
   "outputs": [],
   "source": [
    "df_score = parse_xgb_output(output)"
   ]
  },
  {
   "cell_type": "code",
   "execution_count": 48,
   "id": "3c3fc634-395d-4f24-a702-803bb7b1c733",
   "metadata": {},
   "outputs": [
    {
     "data": {
      "text/plain": [
       "<matplotlib.legend.Legend at 0x7f514f7523e0>"
      ]
     },
     "execution_count": 48,
     "metadata": {},
     "output_type": "execute_result"
    },
    {
     "data": {
      "image/png": "[encoded data removed]",
      "text/plain": [
       "<Figure size 640x480 with 1 Axes>"
      ]
     },
     "metadata": {},
     "output_type": "display_data"
    }
   ],
   "source": [
    "plt.plot(df_score.num_iter, df_score.train_rmse, label='train')\n",
    "plt.plot(df_score.num_iter, df_score.val_rmse, label='val')\n",
    "plt.title('eta=0.1')\n",
    "plt.legend()"
   ]
  },
  {
   "cell_type": "code",
   "execution_count": 50,
   "id": "e05753d7-ed55-4098-ab29-aa7cc5081cb6",
   "metadata": {},
   "outputs": [
    {
     "data": {
      "text/plain": [
       "0.232"
      ]
     },
     "execution_count": 50,
     "metadata": {},
     "output_type": "execute_result"
    }
   ],
   "source": [
    "round(df_score.val_rmse.min(), 3)"
   ]
  },
  {
   "cell_type": "code",
   "execution_count": null,
   "id": "5f9e50f3",
   "metadata": {},
   "outputs": [],
   "source": []
  }
 ],
 "metadata": {
  "kernelspec": {
   "display_name": "ml-zoomcamp-hw",
   "language": "python",
   "name": "ml-zoomcamp-hw"
  },
  "language_info": {
   "codemirror_mode": {
    "name": "ipython",
    "version": 3
   },
   "file_extension": ".py",
   "mimetype": "text/x-python",
   "name": "python",
   "nbconvert_exporter": "python",
   "pygments_lexer": "ipython3",
   "version": "3.10.13"
  }
 },
 "nbformat": 4,
 "nbformat_minor": 5
}
