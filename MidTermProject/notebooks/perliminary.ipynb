{
 "cells": [
  {
   "cell_type": "code",
   "execution_count": null,
   "id": "8eef4af4-b38d-45cc-b3e5-11276455e52e",
   "metadata": {},
   "outputs": [],
   "source": [
    "# !pip install usaddress\n",
    "# !pip install optuna\n",
    "# !pip install scikit-learn==1.3.1\n",
    "# !pip install lightgbm\n",
    "# !pip install xgboost"
   ]
  },
  {
   "cell_type": "code",
   "execution_count": 76,
   "id": "3014d1a8-b092-496f-98ad-3f48c77c2e44",
   "metadata": {},
   "outputs": [],
   "source": [
    "import pandas as pd\n",
    "import numpy as np\n",
    "import os\n",
    "import math\n",
    "import re\n",
    "import matplotlib.pyplot as plt\n",
    "import usaddress\n",
    "\n",
    "from sklearn.pipeline import Pipeline\n",
    "from sklearn.impute import SimpleImputer\n",
    "from sklearn.preprocessing import StandardScaler, OneHotEncoder, OrdinalEncoder, TargetEncoder\n",
    "from sklearn.feature_selection import SelectPercentile, mutual_info_regression\n",
    "from sklearn.compose import ColumnTransformer\n",
    "from sklearn.linear_model import Lasso, SGDRegressor\n",
    "from sklearn.model_selection import GridSearchCV, cross_val_score, KFold\n",
    "from sklearn.metrics import mean_squared_error, r2_score, mean_absolute_error\n",
    "from sklearn.ensemble import RandomForestRegressor\n",
    "\n",
    "import optuna\n",
    "from optuna.samplers import TPESampler\n",
    "import optuna.integration.lightgbm as lgb\n",
    "from lightgbm import early_stopping\n",
    "from lightgbm import log_evaluation"
   ]
  },
  {
   "cell_type": "code",
   "execution_count": 2,
   "id": "ae7dae62-5de5-438b-ac5d-8bd7e2126a9a",
   "metadata": {},
   "outputs": [],
   "source": [
    "pd.options.mode.chained_assignment = None "
   ]
  },
  {
   "cell_type": "code",
   "execution_count": 3,
   "id": "2d5d7eba-92d4-42e3-ad08-6cab37a3561d",
   "metadata": {},
   "outputs": [],
   "source": [
    "#from google.colab import drive\n",
    "#drive.mount('/content/gdrive')\n",
    "#data = pd.read_excel('/content/gdrive/MyDrive/data/raw/nyc_benchmarking_disclosure_2017_consumption_data.xlsx', sheet_name='Information and Metrics')"
   ]
  },
  {
   "cell_type": "code",
   "execution_count": 4,
   "id": "7fa70c43-dfa9-474c-bd99-9de2f5eb4770",
   "metadata": {},
   "outputs": [],
   "source": [
    "# reading the corresponding sheet from a data excel\n",
    "data = pd.read_excel('../data/raw/nyc_benchmarking_disclosure_2017_consumption_data.xlsx', sheet_name='Information and Metrics')"
   ]
  },
  {
   "cell_type": "markdown",
   "id": "714a9a97-50c4-41d6-8486-498864172eb8",
   "metadata": {},
   "source": [
    "# EAD"
   ]
  },
  {
   "cell_type": "code",
   "execution_count": 5,
   "id": "ba21becc-66e1-478f-a46f-4059551e34b7",
   "metadata": {},
   "outputs": [
    {
     "name": "stdout",
     "output_type": "stream",
     "text": [
      "The original raw dataset has 34355 rows.\n"
     ]
    }
   ],
   "source": [
    "print(f'The original raw dataset has {len(data)} rows.')"
   ]
  },
  {
   "cell_type": "code",
   "execution_count": 6,
   "id": "1a7acc53-c078-423d-8f6c-89fea8fd3395",
   "metadata": {},
   "outputs": [],
   "source": [
    "# uniforming names of the columns\n",
    "data_columns =[col.lower().replace(' ', '_').replace('²', '') for col in data.columns]\n",
    "data.columns = data_columns"
   ]
  },
  {
   "cell_type": "markdown",
   "id": "f8a41708-8742-4209-bd0c-2e4f39411177",
   "metadata": {},
   "source": [
    "### Filtering and basic preprocessing"
   ]
  },
  {
   "cell_type": "code",
   "execution_count": 7,
   "id": "f1273620-753c-4719-9efd-1b013cc2b11b",
   "metadata": {},
   "outputs": [
    {
     "name": "stdout",
     "output_type": "stream",
     "text": [
      "<class 'pandas.core.frame.DataFrame'>\n",
      "RangeIndex: 34355 entries, 0 to 34354\n",
      "Data columns (total 60 columns):\n",
      " #   Column                                                     Non-Null Count  Dtype         \n",
      "---  ------                                                     --------------  -----         \n",
      " 0   order                                                      34355 non-null  int64         \n",
      " 1   property_id                                                34355 non-null  int64         \n",
      " 2   property_name                                              34355 non-null  object        \n",
      " 3   parent_property_id                                         1723 non-null   object        \n",
      " 4   parent_property_name                                       1723 non-null   object        \n",
      " 5   bbl_-_10_digits                                            33625 non-null  float64       \n",
      " 6   nyc_borough,_block_and_lot_(bbl)_self-reported             33626 non-null  object        \n",
      " 7   nyc_building_identification_number_(bin)                   33123 non-null  object        \n",
      " 8   address_1_(self-reported)                                  34355 non-null  object        \n",
      " 9   address_2_(self-reported)                                  427 non-null    object        \n",
      " 10  postal_code                                                34355 non-null  object        \n",
      " 11  street_number                                              34355 non-null  object        \n",
      " 12  street_name                                                34355 non-null  object        \n",
      " 13  borough                                                    34355 non-null  object        \n",
      " 14  dof_gross_floor_area_(ft)                                  34355 non-null  object        \n",
      " 15  self-reported_gross_floor_area_(ft)                        34355 non-null  int64         \n",
      " 16  primary_property_type_-_self_selected                      34355 non-null  object        \n",
      " 17  list_of_all_property_use_types_at_property                 34342 non-null  object        \n",
      " 18  largest_property_use_type                                  34323 non-null  object        \n",
      " 19  largest_property_use_type_-_gross_floor_area_(ft)          34323 non-null  float64       \n",
      " 20  2nd_largest_property_use_type                              7226 non-null   object        \n",
      " 21  2nd_largest_property_use_-_gross_floor_area_(ft)           7226 non-null   float64       \n",
      " 22  3rd_largest_property_use_type                              2450 non-null   object        \n",
      " 23  3rd_largest_property_use_type_-_gross_floor_area_(ft)      2450 non-null   float64       \n",
      " 24  year_built                                                 34355 non-null  int64         \n",
      " 25  number_of_buildings                                        34355 non-null  int64         \n",
      " 26  occupancy                                                  34355 non-null  int64         \n",
      " 27  metered_areas_(energy)                                     31710 non-null  object        \n",
      " 28  metered_areas__(water)                                     14546 non-null  object        \n",
      " 29  energy_star_score                                          25454 non-null  float64       \n",
      " 30  source_eui_(kbtu/ft)                                       31888 non-null  float64       \n",
      " 31  weather_normalized_source_eui_(kbtu/ft)                    28560 non-null  float64       \n",
      " 32  site_eui_(kbtu/ft)                                         31888 non-null  float64       \n",
      " 33  weather_normalized_site_eui_(kbtu/ft)                      28560 non-null  float64       \n",
      " 34  weather_normalized_site_electricity_intensity_(kwh/ft)     31001 non-null  float64       \n",
      " 35  weather_normalized_site_natural_gas_intensity_(therms/ft)  28042 non-null  float64       \n",
      " 36  fuel_oil_#1_use_(kbtu)                                     36 non-null     float64       \n",
      " 37  fuel_oil_#2_use_(kbtu)                                     5664 non-null   float64       \n",
      " 38  fuel_oil_#4_use_(kbtu)                                     2378 non-null   float64       \n",
      " 39  fuel_oil_#5_&_6_use_(kbtu)                                 484 non-null    float64       \n",
      " 40  diesel_#2_use_(kbtu)                                       70 non-null     float64       \n",
      " 41  propane_use_(kbtu)                                         1 non-null      float64       \n",
      " 42  district_steam_use_(kbtu)                                  1568 non-null   float64       \n",
      " 43  district_hot_water_use_(kbtu)                              8 non-null      float64       \n",
      " 44  district_chilled_water_use_(kbtu)                          30 non-null     float64       \n",
      " 45  natural_gas_use_(kbtu)                                     28819 non-null  float64       \n",
      " 46  weather_normalized_site_natural_gas_use_(therms)           28047 non-null  float64       \n",
      " 47  electricity_use_-_grid_purchase_(kbtu)                     31576 non-null  float64       \n",
      " 48  electricity_use_-_grid_purchase_(kwh)                      31576 non-null  float64       \n",
      " 49  weather_normalized_site_electricity_(kwh)                  31013 non-null  float64       \n",
      " 50  annual_maximum_demand_(kw)                                 2383 non-null   float64       \n",
      " 51  annual_maximum_demand_(mm/yyyy)                            2383 non-null   datetime64[ns]\n",
      " 52  total_ghg_emissions_(metric_tons_co2e)                     32957 non-null  float64       \n",
      " 53  direct_ghg_emissions_(metric_tons_co2e)                    33116 non-null  float64       \n",
      " 54  indirect_ghg_emissions_(metric_tons_co2e)                  33088 non-null  float64       \n",
      " 55  water_use_(all_water_sources)_(kgal)                       18280 non-null  float64       \n",
      " 56  water_use_intensity_(all_water_sources)_(gal/ft)           18271 non-null  float64       \n",
      " 57  water_required?                                            34355 non-null  object        \n",
      " 58  generation_date                                            34355 non-null  datetime64[ns]\n",
      " 59  dof_benchmarking_submission_status                         34355 non-null  object        \n",
      "dtypes: datetime64[ns](2), float64(31), int64(6), object(21)\n",
      "memory usage: 15.7+ MB\n"
     ]
    }
   ],
   "source": [
    "# Basic information about types and missing values\n",
    "data.info()"
   ]
  },
  {
   "cell_type": "code",
   "execution_count": 8,
   "id": "28a12eb9-5125-4c08-916b-291d594262e7",
   "metadata": {},
   "outputs": [],
   "source": [
    "# drop colums if they contain more than 70% NAs and rows with NA target variable\n",
    "data_cleaned = data.dropna(thresh=int(0.7*len(data)),axis=1)\n",
    "data_cleaned.dropna(subset=['energy_star_score'], inplace=True)"
   ]
  },
  {
   "cell_type": "code",
   "execution_count": 9,
   "id": "e5317fdf-9372-45a6-a368-71812a07cec0",
   "metadata": {},
   "outputs": [
    {
     "name": "stdout",
     "output_type": "stream",
     "text": [
      "After basic filtering we get 25454 rows.\n"
     ]
    }
   ],
   "source": [
    "print(f'After basic filtering we get {len(data_cleaned)} rows.')"
   ]
  },
  {
   "cell_type": "code",
   "execution_count": 10,
   "id": "6400c0e2",
   "metadata": {},
   "outputs": [
    {
     "name": "stdout",
     "output_type": "stream",
     "text": [
      "One Value street_number-['Not found']\n",
      "One Value street_name-['Not found']\n",
      "One Value dof_gross_floor_area_(ft)-['Not found']\n",
      "One Value water_required?-['Not found']\n",
      "One Value dof_benchmarking_submission_status-['Not found']\n"
     ]
    }
   ],
   "source": [
    "# if a column has one value, we should drop it:\n",
    "for col in data_cleaned.columns:\n",
    "    if len(data_cleaned[col].unique())==1:\n",
    "        print(f'One Value {col}-{data_cleaned[col].unique()}')"
   ]
  },
  {
   "cell_type": "code",
   "execution_count": 11,
   "id": "dfa8f4e0",
   "metadata": {},
   "outputs": [
    {
     "data": {
      "text/html": [
       "<div>\n",
       "<style scoped>\n",
       "    .dataframe tbody tr th:only-of-type {\n",
       "        vertical-align: middle;\n",
       "    }\n",
       "\n",
       "    .dataframe tbody tr th {\n",
       "        vertical-align: top;\n",
       "    }\n",
       "\n",
       "    .dataframe thead th {\n",
       "        text-align: right;\n",
       "    }\n",
       "</style>\n",
       "<table border=\"1\" class=\"dataframe\">\n",
       "  <thead>\n",
       "    <tr style=\"text-align: right;\">\n",
       "      <th></th>\n",
       "      <th>order</th>\n",
       "      <th>property_id</th>\n",
       "      <th>property_name</th>\n",
       "      <th>bbl_-_10_digits</th>\n",
       "      <th>nyc_borough,_block_and_lot_(bbl)_self-reported</th>\n",
       "      <th>nyc_building_identification_number_(bin)</th>\n",
       "      <th>address_1_(self-reported)</th>\n",
       "      <th>postal_code</th>\n",
       "      <th>street_number</th>\n",
       "      <th>street_name</th>\n",
       "      <th>...</th>\n",
       "      <th>weather_normalized_site_natural_gas_use_(therms)</th>\n",
       "      <th>electricity_use_-_grid_purchase_(kbtu)</th>\n",
       "      <th>electricity_use_-_grid_purchase_(kwh)</th>\n",
       "      <th>weather_normalized_site_electricity_(kwh)</th>\n",
       "      <th>total_ghg_emissions_(metric_tons_co2e)</th>\n",
       "      <th>direct_ghg_emissions_(metric_tons_co2e)</th>\n",
       "      <th>indirect_ghg_emissions_(metric_tons_co2e)</th>\n",
       "      <th>water_required?</th>\n",
       "      <th>generation_date</th>\n",
       "      <th>dof_benchmarking_submission_status</th>\n",
       "    </tr>\n",
       "  </thead>\n",
       "  <tbody>\n",
       "    <tr>\n",
       "      <th>39</th>\n",
       "      <td>42</td>\n",
       "      <td>6143730</td>\n",
       "      <td>Jay Cee of New York Corp.</td>\n",
       "      <td>NaN</td>\n",
       "      <td>NaN</td>\n",
       "      <td>NaN</td>\n",
       "      <td>35 WEST 31ST STREET</td>\n",
       "      <td>10001</td>\n",
       "      <td>Not found</td>\n",
       "      <td>Not found</td>\n",
       "      <td>...</td>\n",
       "      <td>NaN</td>\n",
       "      <td>870169.5</td>\n",
       "      <td>255032.1</td>\n",
       "      <td>NaN</td>\n",
       "      <td>160.7</td>\n",
       "      <td>83.5</td>\n",
       "      <td>77.1</td>\n",
       "      <td>Not found</td>\n",
       "      <td>2018-02-20</td>\n",
       "      <td>Not found</td>\n",
       "    </tr>\n",
       "    <tr>\n",
       "      <th>40</th>\n",
       "      <td>43</td>\n",
       "      <td>6143720</td>\n",
       "      <td>New York Midtown Corp</td>\n",
       "      <td>NaN</td>\n",
       "      <td>NaN</td>\n",
       "      <td>NaN</td>\n",
       "      <td>222 West 37th Street</td>\n",
       "      <td>10018</td>\n",
       "      <td>Not found</td>\n",
       "      <td>Not found</td>\n",
       "      <td>...</td>\n",
       "      <td>NaN</td>\n",
       "      <td>NaN</td>\n",
       "      <td>NaN</td>\n",
       "      <td>NaN</td>\n",
       "      <td>185.7</td>\n",
       "      <td>77.8</td>\n",
       "      <td>NaN</td>\n",
       "      <td>Not found</td>\n",
       "      <td>2018-02-20</td>\n",
       "      <td>Not found</td>\n",
       "    </tr>\n",
       "    <tr>\n",
       "      <th>48</th>\n",
       "      <td>51</td>\n",
       "      <td>6182209</td>\n",
       "      <td>Staples</td>\n",
       "      <td>NaN</td>\n",
       "      <td>NaN</td>\n",
       "      <td>NaN</td>\n",
       "      <td>24-41 31st St</td>\n",
       "      <td>11102</td>\n",
       "      <td>Not found</td>\n",
       "      <td>Not found</td>\n",
       "      <td>...</td>\n",
       "      <td>1642.9</td>\n",
       "      <td>1051476.0</td>\n",
       "      <td>308170.0</td>\n",
       "      <td>305505.5</td>\n",
       "      <td>101.0</td>\n",
       "      <td>7.7</td>\n",
       "      <td>93.2</td>\n",
       "      <td>Not found</td>\n",
       "      <td>2018-02-21</td>\n",
       "      <td>Not found</td>\n",
       "    </tr>\n",
       "    <tr>\n",
       "      <th>163</th>\n",
       "      <td>168</td>\n",
       "      <td>6168561</td>\n",
       "      <td>South Bronx Charter School</td>\n",
       "      <td>2.025460e+09</td>\n",
       "      <td>25460027</td>\n",
       "      <td>NaN</td>\n",
       "      <td>164 Bruckner Blvd</td>\n",
       "      <td>10454</td>\n",
       "      <td>Not found</td>\n",
       "      <td>Not found</td>\n",
       "      <td>...</td>\n",
       "      <td>77814.1</td>\n",
       "      <td>2422656.4</td>\n",
       "      <td>710039.9</td>\n",
       "      <td>724986.0</td>\n",
       "      <td>580.3</td>\n",
       "      <td>365.5</td>\n",
       "      <td>214.8</td>\n",
       "      <td>Not found</td>\n",
       "      <td>2018-03-09</td>\n",
       "      <td>Not found</td>\n",
       "    </tr>\n",
       "    <tr>\n",
       "      <th>165</th>\n",
       "      <td>170</td>\n",
       "      <td>6153751</td>\n",
       "      <td>8201 Associates</td>\n",
       "      <td>NaN</td>\n",
       "      <td>NaN</td>\n",
       "      <td>NaN</td>\n",
       "      <td>8201 Bay Parkway</td>\n",
       "      <td>11724</td>\n",
       "      <td>Not found</td>\n",
       "      <td>Not found</td>\n",
       "      <td>...</td>\n",
       "      <td>360.4</td>\n",
       "      <td>85664.2</td>\n",
       "      <td>25106.7</td>\n",
       "      <td>25969.8</td>\n",
       "      <td>15.5</td>\n",
       "      <td>1.8</td>\n",
       "      <td>13.7</td>\n",
       "      <td>Not found</td>\n",
       "      <td>2018-03-09</td>\n",
       "      <td>Not found</td>\n",
       "    </tr>\n",
       "    <tr>\n",
       "      <th>...</th>\n",
       "      <td>...</td>\n",
       "      <td>...</td>\n",
       "      <td>...</td>\n",
       "      <td>...</td>\n",
       "      <td>...</td>\n",
       "      <td>...</td>\n",
       "      <td>...</td>\n",
       "      <td>...</td>\n",
       "      <td>...</td>\n",
       "      <td>...</td>\n",
       "      <td>...</td>\n",
       "      <td>...</td>\n",
       "      <td>...</td>\n",
       "      <td>...</td>\n",
       "      <td>...</td>\n",
       "      <td>...</td>\n",
       "      <td>...</td>\n",
       "      <td>...</td>\n",
       "      <td>...</td>\n",
       "      <td>...</td>\n",
       "      <td>...</td>\n",
       "    </tr>\n",
       "    <tr>\n",
       "      <th>34084</th>\n",
       "      <td>34416</td>\n",
       "      <td>6705801</td>\n",
       "      <td>360 Neptune</td>\n",
       "      <td>NaN</td>\n",
       "      <td>NaN</td>\n",
       "      <td>3424564</td>\n",
       "      <td>350 Neptune Ave</td>\n",
       "      <td>11235</td>\n",
       "      <td>Not found</td>\n",
       "      <td>Not found</td>\n",
       "      <td>...</td>\n",
       "      <td>NaN</td>\n",
       "      <td>1621291.2</td>\n",
       "      <td>475173.2</td>\n",
       "      <td>475173.2</td>\n",
       "      <td>137.3</td>\n",
       "      <td>0.0</td>\n",
       "      <td>137.3</td>\n",
       "      <td>Not found</td>\n",
       "      <td>2019-02-27</td>\n",
       "      <td>Not found</td>\n",
       "    </tr>\n",
       "    <tr>\n",
       "      <th>34333</th>\n",
       "      <td>34665</td>\n",
       "      <td>6700794</td>\n",
       "      <td>OAR FAILE LLC</td>\n",
       "      <td>2.027630e+09</td>\n",
       "      <td>2-002763-00215</td>\n",
       "      <td>2006551</td>\n",
       "      <td>770 Faile St.</td>\n",
       "      <td>10474</td>\n",
       "      <td>Not found</td>\n",
       "      <td>Not found</td>\n",
       "      <td>...</td>\n",
       "      <td>43260.2</td>\n",
       "      <td>909215.2</td>\n",
       "      <td>266475.7</td>\n",
       "      <td>264941.1</td>\n",
       "      <td>294.2</td>\n",
       "      <td>217.2</td>\n",
       "      <td>77.0</td>\n",
       "      <td>Not found</td>\n",
       "      <td>2019-02-27</td>\n",
       "      <td>Not found</td>\n",
       "    </tr>\n",
       "    <tr>\n",
       "      <th>34335</th>\n",
       "      <td>34667</td>\n",
       "      <td>6700864</td>\n",
       "      <td>1661 St johns LLc</td>\n",
       "      <td>3.014700e+09</td>\n",
       "      <td>3-001470-0080</td>\n",
       "      <td>3039446</td>\n",
       "      <td>1661 St johns Pl</td>\n",
       "      <td>11233</td>\n",
       "      <td>Not found</td>\n",
       "      <td>Not found</td>\n",
       "      <td>...</td>\n",
       "      <td>NaN</td>\n",
       "      <td>517823.8</td>\n",
       "      <td>151765.5</td>\n",
       "      <td>150904.6</td>\n",
       "      <td>43.9</td>\n",
       "      <td>0.0</td>\n",
       "      <td>43.9</td>\n",
       "      <td>Not found</td>\n",
       "      <td>2019-02-27</td>\n",
       "      <td>Not found</td>\n",
       "    </tr>\n",
       "    <tr>\n",
       "      <th>34336</th>\n",
       "      <td>34668</td>\n",
       "      <td>6700879</td>\n",
       "      <td>1677 St johns LLC</td>\n",
       "      <td>3.014700e+09</td>\n",
       "      <td>3-001470-0060</td>\n",
       "      <td>3039445</td>\n",
       "      <td>1677 St Johns Pl</td>\n",
       "      <td>11233</td>\n",
       "      <td>Not found</td>\n",
       "      <td>Not found</td>\n",
       "      <td>...</td>\n",
       "      <td>NaN</td>\n",
       "      <td>406278.4</td>\n",
       "      <td>119073.4</td>\n",
       "      <td>118636.7</td>\n",
       "      <td>34.4</td>\n",
       "      <td>0.0</td>\n",
       "      <td>34.4</td>\n",
       "      <td>Not found</td>\n",
       "      <td>2019-02-27</td>\n",
       "      <td>Not found</td>\n",
       "    </tr>\n",
       "    <tr>\n",
       "      <th>34337</th>\n",
       "      <td>34669</td>\n",
       "      <td>6700889</td>\n",
       "      <td>Pacific Housing LLC</td>\n",
       "      <td>3.014310e+09</td>\n",
       "      <td>3-001431-0045</td>\n",
       "      <td>3038521</td>\n",
       "      <td>2027 Pacific St</td>\n",
       "      <td>11233</td>\n",
       "      <td>Not found</td>\n",
       "      <td>Not found</td>\n",
       "      <td>...</td>\n",
       "      <td>NaN</td>\n",
       "      <td>580193.0</td>\n",
       "      <td>170044.8</td>\n",
       "      <td>170714.2</td>\n",
       "      <td>49.1</td>\n",
       "      <td>0.0</td>\n",
       "      <td>49.1</td>\n",
       "      <td>Not found</td>\n",
       "      <td>2019-02-27</td>\n",
       "      <td>Not found</td>\n",
       "    </tr>\n",
       "  </tbody>\n",
       "</table>\n",
       "<p>504 rows × 39 columns</p>\n",
       "</div>"
      ],
      "text/plain": [
       "       order  property_id               property_name  bbl_-_10_digits  \\\n",
       "39        42      6143730   Jay Cee of New York Corp.              NaN   \n",
       "40        43      6143720       New York Midtown Corp              NaN   \n",
       "48        51      6182209                     Staples              NaN   \n",
       "163      168      6168561  South Bronx Charter School     2.025460e+09   \n",
       "165      170      6153751             8201 Associates              NaN   \n",
       "...      ...          ...                         ...              ...   \n",
       "34084  34416      6705801                 360 Neptune              NaN   \n",
       "34333  34665      6700794               OAR FAILE LLC     2.027630e+09   \n",
       "34335  34667      6700864           1661 St johns LLc     3.014700e+09   \n",
       "34336  34668      6700879           1677 St johns LLC     3.014700e+09   \n",
       "34337  34669      6700889         Pacific Housing LLC     3.014310e+09   \n",
       "\n",
       "      nyc_borough,_block_and_lot_(bbl)_self-reported  \\\n",
       "39                                               NaN   \n",
       "40                                               NaN   \n",
       "48                                               NaN   \n",
       "163                                         25460027   \n",
       "165                                              NaN   \n",
       "...                                              ...   \n",
       "34084                                            NaN   \n",
       "34333                                 2-002763-00215   \n",
       "34335                                  3-001470-0080   \n",
       "34336                                  3-001470-0060   \n",
       "34337                                  3-001431-0045   \n",
       "\n",
       "      nyc_building_identification_number_(bin) address_1_(self-reported)  \\\n",
       "39                                         NaN       35 WEST 31ST STREET   \n",
       "40                                         NaN      222 West 37th Street   \n",
       "48                                         NaN             24-41 31st St   \n",
       "163                                        NaN         164 Bruckner Blvd   \n",
       "165                                        NaN          8201 Bay Parkway   \n",
       "...                                        ...                       ...   \n",
       "34084                                  3424564           350 Neptune Ave   \n",
       "34333                                  2006551             770 Faile St.   \n",
       "34335                                  3039446          1661 St johns Pl   \n",
       "34336                                  3039445          1677 St Johns Pl   \n",
       "34337                                  3038521           2027 Pacific St   \n",
       "\n",
       "      postal_code street_number street_name  ...  \\\n",
       "39          10001     Not found   Not found  ...   \n",
       "40          10018     Not found   Not found  ...   \n",
       "48          11102     Not found   Not found  ...   \n",
       "163         10454     Not found   Not found  ...   \n",
       "165         11724     Not found   Not found  ...   \n",
       "...           ...           ...         ...  ...   \n",
       "34084       11235     Not found   Not found  ...   \n",
       "34333       10474     Not found   Not found  ...   \n",
       "34335       11233     Not found   Not found  ...   \n",
       "34336       11233     Not found   Not found  ...   \n",
       "34337       11233     Not found   Not found  ...   \n",
       "\n",
       "      weather_normalized_site_natural_gas_use_(therms)  \\\n",
       "39                                                 NaN   \n",
       "40                                                 NaN   \n",
       "48                                              1642.9   \n",
       "163                                            77814.1   \n",
       "165                                              360.4   \n",
       "...                                                ...   \n",
       "34084                                              NaN   \n",
       "34333                                          43260.2   \n",
       "34335                                              NaN   \n",
       "34336                                              NaN   \n",
       "34337                                              NaN   \n",
       "\n",
       "      electricity_use_-_grid_purchase_(kbtu)  \\\n",
       "39                                  870169.5   \n",
       "40                                       NaN   \n",
       "48                                 1051476.0   \n",
       "163                                2422656.4   \n",
       "165                                  85664.2   \n",
       "...                                      ...   \n",
       "34084                              1621291.2   \n",
       "34333                               909215.2   \n",
       "34335                               517823.8   \n",
       "34336                               406278.4   \n",
       "34337                               580193.0   \n",
       "\n",
       "       electricity_use_-_grid_purchase_(kwh)  \\\n",
       "39                                  255032.1   \n",
       "40                                       NaN   \n",
       "48                                  308170.0   \n",
       "163                                 710039.9   \n",
       "165                                  25106.7   \n",
       "...                                      ...   \n",
       "34084                               475173.2   \n",
       "34333                               266475.7   \n",
       "34335                               151765.5   \n",
       "34336                               119073.4   \n",
       "34337                               170044.8   \n",
       "\n",
       "      weather_normalized_site_electricity_(kwh)  \\\n",
       "39                                          NaN   \n",
       "40                                          NaN   \n",
       "48                                     305505.5   \n",
       "163                                    724986.0   \n",
       "165                                     25969.8   \n",
       "...                                         ...   \n",
       "34084                                  475173.2   \n",
       "34333                                  264941.1   \n",
       "34335                                  150904.6   \n",
       "34336                                  118636.7   \n",
       "34337                                  170714.2   \n",
       "\n",
       "      total_ghg_emissions_(metric_tons_co2e)  \\\n",
       "39                                     160.7   \n",
       "40                                     185.7   \n",
       "48                                     101.0   \n",
       "163                                    580.3   \n",
       "165                                     15.5   \n",
       "...                                      ...   \n",
       "34084                                  137.3   \n",
       "34333                                  294.2   \n",
       "34335                                   43.9   \n",
       "34336                                   34.4   \n",
       "34337                                   49.1   \n",
       "\n",
       "      direct_ghg_emissions_(metric_tons_co2e)  \\\n",
       "39                                       83.5   \n",
       "40                                       77.8   \n",
       "48                                        7.7   \n",
       "163                                     365.5   \n",
       "165                                       1.8   \n",
       "...                                       ...   \n",
       "34084                                     0.0   \n",
       "34333                                   217.2   \n",
       "34335                                     0.0   \n",
       "34336                                     0.0   \n",
       "34337                                     0.0   \n",
       "\n",
       "       indirect_ghg_emissions_(metric_tons_co2e)  water_required?  \\\n",
       "39                                          77.1        Not found   \n",
       "40                                           NaN        Not found   \n",
       "48                                          93.2        Not found   \n",
       "163                                        214.8        Not found   \n",
       "165                                         13.7        Not found   \n",
       "...                                          ...              ...   \n",
       "34084                                      137.3        Not found   \n",
       "34333                                       77.0        Not found   \n",
       "34335                                       43.9        Not found   \n",
       "34336                                       34.4        Not found   \n",
       "34337                                       49.1        Not found   \n",
       "\n",
       "       generation_date  dof_benchmarking_submission_status  \n",
       "39          2018-02-20                           Not found  \n",
       "40          2018-02-20                           Not found  \n",
       "48          2018-02-21                           Not found  \n",
       "163         2018-03-09                           Not found  \n",
       "165         2018-03-09                           Not found  \n",
       "...                ...                                 ...  \n",
       "34084       2019-02-27                           Not found  \n",
       "34333       2019-02-27                           Not found  \n",
       "34335       2019-02-27                           Not found  \n",
       "34336       2019-02-27                           Not found  \n",
       "34337       2019-02-27                           Not found  \n",
       "\n",
       "[504 rows x 39 columns]"
      ]
     },
     "execution_count": 11,
     "metadata": {},
     "output_type": "execute_result"
    }
   ],
   "source": [
    "# Columns 'bbl_-_10_digits', 'nyc_borough,_block_and_lot_(bbl)_self-reported are almost the same, right?\n",
    "def bbl(x):\n",
    "    if type(x) == int:\n",
    "        return x\n",
    "    elif type(x) == float and math.isnan(x):\n",
    "        return x\n",
    "    else:\n",
    "        return int(re.sub(r\"\\D\",\"\", x))\n",
    "    \n",
    "data_cleaned[data_cleaned['bbl_-_10_digits']!=data_cleaned['nyc_borough,_block_and_lot_(bbl)_self-reported'].apply(bbl)]"
   ]
  },
  {
   "cell_type": "code",
   "execution_count": 12,
   "id": "4ad65eea",
   "metadata": {},
   "outputs": [
    {
     "data": {
      "text/plain": [
       "0.674045954045954"
      ]
     },
     "execution_count": 12,
     "metadata": {},
     "output_type": "execute_result"
    }
   ],
   "source": [
    "# For BBL Borough Block Lot, is an identification code for buildings across the city used by the Planning department\n",
    "# we look at the duplicates (since it is an identifier of a building).\n",
    "# We have the following percentage of unique buildings\n",
    "len(data_cleaned.drop_duplicates(subset=['bbl_-_10_digits']))/len(data_cleaned.dropna(subset=['bbl_-_10_digits']))"
   ]
  },
  {
   "cell_type": "code",
   "execution_count": 13,
   "id": "8e527194",
   "metadata": {},
   "outputs": [],
   "source": [
    "# dropping duplicates for the given id: bbl_-10_digits\n",
    "data_cleaned.drop_duplicates(subset=['bbl_-_10_digits'], keep='last', inplace=True)"
   ]
  },
  {
   "cell_type": "code",
   "execution_count": 14,
   "id": "c3bb3d11",
   "metadata": {},
   "outputs": [
    {
     "data": {
      "text/plain": [
       "0.982629831633863"
      ]
     },
     "execution_count": 14,
     "metadata": {},
     "output_type": "execute_result"
    }
   ],
   "source": [
    "# drop 'nyc_building_identification_number_(bin)' since it is an identifier as well, this is indicated by\n",
    "len(data_cleaned['nyc_building_identification_number_(bin)'].unique())/len(data_cleaned)"
   ]
  },
  {
   "cell_type": "markdown",
   "id": "5747ae5a-6829-470a-8adb-6f691315d5d0",
   "metadata": {},
   "source": [
    "### Dropping non useful columns"
   ]
  },
  {
   "cell_type": "markdown",
   "id": "dbe6448a",
   "metadata": {},
   "source": [
    "* Dropping <code> property_id, order, property_name </code> since they are not informative for prediction\n",
    "* Dropping <code>dof_gross_floor_area_(ft),  water_required?, dof_benchmarking_submission_status </code>, since they only\n",
    " contain one value. \n",
    "* <code>street_number</code> and <code>stret_name</code> will be filled up later \n",
    "* <code>nyc_borough,_block_and_lot_(bbl)_self-reported</code> will be skipped since it repeats <code>bbl_-_10_digits</code>, the last will delete as well since it is an id.\n",
    "* <code>nyc_building_identification_number_(bin)</code> will be deleted as it is and identifier.\n",
    "* <code>generation_date</code> will be removed since it does not bring any information.\n",
    "* <code>electricity_use_-_grid_purchase_(kbtu)</code> will be removed since it is the same value in another units as <code>electricity_use_-_grid_purchase_(kwh)</code>:\n",
    "  <code>data_cleaned['electricity_use_-_grid_purchase_(kbtu)']*0.2930710702 = data_cleaned['electricity_use_-_grid_purchase_(kwh)'] </code>\n"
   ]
  },
  {
   "cell_type": "code",
   "execution_count": 15,
   "id": "71b21c1a-1302-4090-88e4-66393db17c31",
   "metadata": {},
   "outputs": [],
   "source": [
    "columns_to_drop = ['order', \n",
    "                   'property_id', \n",
    "                   'property_name', \n",
    "                   'dof_gross_floor_area_(ft)', \n",
    "                   'dof_benchmarking_submission_status',\n",
    "                   'water_required?',\n",
    "                   'nyc_borough,_block_and_lot_(bbl)_self-reported',\n",
    "                   'bbl_-_10_digits',\n",
    "                   'nyc_building_identification_number_(bin)',\n",
    "                   'generation_date',\n",
    "                   'street_name',\n",
    "                   'street_number',\n",
    "                  'electricity_use_-_grid_purchase_(kbtu)']\n",
    "data_cleaned.drop(columns=columns_to_drop, inplace=True)"
   ]
  },
  {
   "cell_type": "code",
   "execution_count": 16,
   "id": "355b73ab-ce18-4869-b9c0-9ea58bc9e471",
   "metadata": {},
   "outputs": [],
   "source": [
    "data_cleaned = data_cleaned[data_cleaned['indirect_ghg_emissions_(metric_tons_co2e)']>0]"
   ]
  },
  {
   "cell_type": "code",
   "execution_count": 17,
   "id": "7122b58d-c273-4912-8a37-ce4838173cb2",
   "metadata": {},
   "outputs": [
    {
     "name": "stdout",
     "output_type": "stream",
     "text": [
      "We have removed {'diesel_#2_use_(kbtu)', 'district_steam_use_(kbtu)', 'nyc_building_identification_number_(bin)', 'street_name', 'property_id', 'fuel_oil_#2_use_(kbtu)', 'annual_maximum_demand_(kw)', 'district_hot_water_use_(kbtu)', '3rd_largest_property_use_type_-_gross_floor_area_(ft)', 'water_use_intensity_(all_water_sources)_(gal/ft)', '3rd_largest_property_use_type', 'bbl_-_10_digits', 'generation_date', '2nd_largest_property_use_-_gross_floor_area_(ft)', 'parent_property_id', 'fuel_oil_#5_&_6_use_(kbtu)', 'annual_maximum_demand_(mm/yyyy)', 'fuel_oil_#1_use_(kbtu)', 'dof_gross_floor_area_(ft)', 'electricity_use_-_grid_purchase_(kbtu)', 'fuel_oil_#4_use_(kbtu)', 'parent_property_name', 'nyc_borough,_block_and_lot_(bbl)_self-reported', 'order', '2nd_largest_property_use_type', 'street_number', 'dof_benchmarking_submission_status', 'water_required?', 'metered_areas__(water)', 'propane_use_(kbtu)', 'water_use_(all_water_sources)_(kgal)', 'property_name', 'district_chilled_water_use_(kbtu)', 'address_2_(self-reported)'}\n"
     ]
    }
   ],
   "source": [
    "print(f'We have removed {set(data.columns)-set(data_cleaned.columns)}')"
   ]
  },
  {
   "cell_type": "markdown",
   "id": "9912067d-3135-4561-b032-3e6a389e154a",
   "metadata": {},
   "source": [
    "### Basic info about cleaned dataset"
   ]
  },
  {
   "cell_type": "code",
   "execution_count": 18,
   "id": "09260fca-4d21-4322-929a-ab4355cdb427",
   "metadata": {},
   "outputs": [
    {
     "name": "stdout",
     "output_type": "stream",
     "text": [
      "<class 'pandas.core.frame.DataFrame'>\n",
      "Index: 16644 entries, 0 to 34353\n",
      "Data columns (total 26 columns):\n",
      " #   Column                                                     Non-Null Count  Dtype  \n",
      "---  ------                                                     --------------  -----  \n",
      " 0   address_1_(self-reported)                                  16644 non-null  object \n",
      " 1   postal_code                                                16644 non-null  object \n",
      " 2   borough                                                    16644 non-null  object \n",
      " 3   self-reported_gross_floor_area_(ft)                        16644 non-null  int64  \n",
      " 4   primary_property_type_-_self_selected                      16644 non-null  object \n",
      " 5   list_of_all_property_use_types_at_property                 16644 non-null  object \n",
      " 6   largest_property_use_type                                  16644 non-null  object \n",
      " 7   largest_property_use_type_-_gross_floor_area_(ft)          16644 non-null  float64\n",
      " 8   year_built                                                 16644 non-null  int64  \n",
      " 9   number_of_buildings                                        16644 non-null  int64  \n",
      " 10  occupancy                                                  16644 non-null  int64  \n",
      " 11  metered_areas_(energy)                                     16284 non-null  object \n",
      " 12  energy_star_score                                          16644 non-null  float64\n",
      " 13  source_eui_(kbtu/ft)                                       16644 non-null  float64\n",
      " 14  weather_normalized_source_eui_(kbtu/ft)                    15313 non-null  float64\n",
      " 15  site_eui_(kbtu/ft)                                         16644 non-null  float64\n",
      " 16  weather_normalized_site_eui_(kbtu/ft)                      15313 non-null  float64\n",
      " 17  weather_normalized_site_electricity_intensity_(kwh/ft)     16384 non-null  float64\n",
      " 18  weather_normalized_site_natural_gas_intensity_(therms/ft)  14977 non-null  float64\n",
      " 19  natural_gas_use_(kbtu)                                     15270 non-null  float64\n",
      " 20  weather_normalized_site_natural_gas_use_(therms)           14977 non-null  float64\n",
      " 21  electricity_use_-_grid_purchase_(kwh)                      16643 non-null  float64\n",
      " 22  weather_normalized_site_electricity_(kwh)                  16384 non-null  float64\n",
      " 23  total_ghg_emissions_(metric_tons_co2e)                     16644 non-null  float64\n",
      " 24  direct_ghg_emissions_(metric_tons_co2e)                    16579 non-null  float64\n",
      " 25  indirect_ghg_emissions_(metric_tons_co2e)                  16644 non-null  float64\n",
      "dtypes: float64(15), int64(4), object(7)\n",
      "memory usage: 3.4+ MB\n"
     ]
    }
   ],
   "source": [
    "data_cleaned.info()"
   ]
  },
  {
   "cell_type": "markdown",
   "id": "5d8bdf82",
   "metadata": {},
   "source": [
    "## Separating columns into categorical and numerical"
   ]
  },
  {
   "cell_type": "markdown",
   "id": "c4eb6884",
   "metadata": {},
   "source": [
    "#### Numerical"
   ]
  },
  {
   "cell_type": "code",
   "execution_count": 19,
   "id": "e0f76f02",
   "metadata": {},
   "outputs": [],
   "source": [
    "from numpy import dtype\n",
    "numerical_columns = []\n",
    "\n",
    "for col in data_cleaned.columns:\n",
    "    if data_cleaned[col].dtype == dtype('float64'):\n",
    "        numerical_columns.append(col)"
   ]
  },
  {
   "cell_type": "code",
   "execution_count": 20,
   "id": "739eaa8d",
   "metadata": {},
   "outputs": [
    {
     "data": {
      "text/plain": [
       "['largest_property_use_type_-_gross_floor_area_(ft)',\n",
       " 'energy_star_score',\n",
       " 'source_eui_(kbtu/ft)',\n",
       " 'weather_normalized_source_eui_(kbtu/ft)',\n",
       " 'site_eui_(kbtu/ft)',\n",
       " 'weather_normalized_site_eui_(kbtu/ft)',\n",
       " 'weather_normalized_site_electricity_intensity_(kwh/ft)',\n",
       " 'weather_normalized_site_natural_gas_intensity_(therms/ft)',\n",
       " 'natural_gas_use_(kbtu)',\n",
       " 'weather_normalized_site_natural_gas_use_(therms)',\n",
       " 'electricity_use_-_grid_purchase_(kwh)',\n",
       " 'weather_normalized_site_electricity_(kwh)',\n",
       " 'total_ghg_emissions_(metric_tons_co2e)',\n",
       " 'direct_ghg_emissions_(metric_tons_co2e)',\n",
       " 'indirect_ghg_emissions_(metric_tons_co2e)',\n",
       " 'occupancy',\n",
       " 'number_of_buildings',\n",
       " 'self-reported_gross_floor_area_(ft)']"
      ]
     },
     "execution_count": 20,
     "metadata": {},
     "output_type": "execute_result"
    }
   ],
   "source": [
    "numerical_columns.extend(['occupancy', 'number_of_buildings', 'self-reported_gross_floor_area_(ft)'])\n",
    "numerical_columns"
   ]
  },
  {
   "cell_type": "code",
   "execution_count": 21,
   "id": "e12f38a3-0ba7-4ac7-9237-d87f24890cc4",
   "metadata": {},
   "outputs": [],
   "source": [
    "#year_build is not informative, lets define an age.\n",
    "data_cleaned['age'] = 2023 - data_cleaned['year_built']\n",
    "data_cleaned.drop(columns=['year_built'], inplace=True)\n",
    "numerical_columns.append('age')"
   ]
  },
  {
   "cell_type": "code",
   "execution_count": 22,
   "id": "d3aaebc4",
   "metadata": {},
   "outputs": [
    {
     "data": {
      "image/png": "[encoded data removed]",
      "text/plain": [
       "<Figure size 640x480 with 1 Axes>"
      ]
     },
     "metadata": {},
     "output_type": "display_data"
    }
   ],
   "source": [
    "data_cleaned.age.hist()\n",
    "plt.title('Histogram for AGE');"
   ]
  },
  {
   "cell_type": "markdown",
   "id": "6a5df27b-191a-4c5d-8df3-faa670a94746",
   "metadata": {},
   "source": [
    "### Range of values, basic distribution statistics for numerical variables"
   ]
  },
  {
   "cell_type": "code",
   "execution_count": 23,
   "id": "2117afb9",
   "metadata": {},
   "outputs": [
    {
     "data": {
      "text/html": [
       "<div>\n",
       "<style scoped>\n",
       "    .dataframe tbody tr th:only-of-type {\n",
       "        vertical-align: middle;\n",
       "    }\n",
       "\n",
       "    .dataframe tbody tr th {\n",
       "        vertical-align: top;\n",
       "    }\n",
       "\n",
       "    .dataframe thead th {\n",
       "        text-align: right;\n",
       "    }\n",
       "</style>\n",
       "<table border=\"1\" class=\"dataframe\">\n",
       "  <thead>\n",
       "    <tr style=\"text-align: right;\">\n",
       "      <th></th>\n",
       "      <th>largest_property_use_type_-_gross_floor_area_(ft)</th>\n",
       "      <th>energy_star_score</th>\n",
       "      <th>source_eui_(kbtu/ft)</th>\n",
       "      <th>weather_normalized_source_eui_(kbtu/ft)</th>\n",
       "      <th>site_eui_(kbtu/ft)</th>\n",
       "      <th>weather_normalized_site_eui_(kbtu/ft)</th>\n",
       "      <th>weather_normalized_site_electricity_intensity_(kwh/ft)</th>\n",
       "      <th>weather_normalized_site_natural_gas_intensity_(therms/ft)</th>\n",
       "      <th>natural_gas_use_(kbtu)</th>\n",
       "      <th>weather_normalized_site_natural_gas_use_(therms)</th>\n",
       "      <th>electricity_use_-_grid_purchase_(kwh)</th>\n",
       "      <th>weather_normalized_site_electricity_(kwh)</th>\n",
       "      <th>total_ghg_emissions_(metric_tons_co2e)</th>\n",
       "      <th>direct_ghg_emissions_(metric_tons_co2e)</th>\n",
       "      <th>indirect_ghg_emissions_(metric_tons_co2e)</th>\n",
       "      <th>occupancy</th>\n",
       "      <th>number_of_buildings</th>\n",
       "      <th>self-reported_gross_floor_area_(ft)</th>\n",
       "      <th>age</th>\n",
       "    </tr>\n",
       "  </thead>\n",
       "  <tbody>\n",
       "    <tr>\n",
       "      <th>count</th>\n",
       "      <td>1.664400e+04</td>\n",
       "      <td>16644.000000</td>\n",
       "      <td>16644.000000</td>\n",
       "      <td>15313.00000</td>\n",
       "      <td>16644.000000</td>\n",
       "      <td>15313.000000</td>\n",
       "      <td>16384.000000</td>\n",
       "      <td>14977.000000</td>\n",
       "      <td>1.527000e+04</td>\n",
       "      <td>1.497700e+04</td>\n",
       "      <td>1.664300e+04</td>\n",
       "      <td>1.638400e+04</td>\n",
       "      <td>16644.000000</td>\n",
       "      <td>16579.000000</td>\n",
       "      <td>16644.000000</td>\n",
       "      <td>16644.000000</td>\n",
       "      <td>16644.000000</td>\n",
       "      <td>1.664400e+04</td>\n",
       "      <td>16644.000000</td>\n",
       "    </tr>\n",
       "    <tr>\n",
       "      <th>mean</th>\n",
       "      <td>1.185879e+05</td>\n",
       "      <td>54.040014</td>\n",
       "      <td>149.639474</td>\n",
       "      <td>147.49616</td>\n",
       "      <td>95.584998</td>\n",
       "      <td>93.792366</td>\n",
       "      <td>7.397186</td>\n",
       "      <td>0.559792</td>\n",
       "      <td>5.484344e+06</td>\n",
       "      <td>5.823062e+04</td>\n",
       "      <td>1.093024e+06</td>\n",
       "      <td>1.093385e+06</td>\n",
       "      <td>823.282072</td>\n",
       "      <td>343.473509</td>\n",
       "      <td>480.745211</td>\n",
       "      <td>98.993932</td>\n",
       "      <td>1.202115</td>\n",
       "      <td>1.217383e+05</td>\n",
       "      <td>76.489726</td>\n",
       "    </tr>\n",
       "    <tr>\n",
       "      <th>std</th>\n",
       "      <td>1.898655e+05</td>\n",
       "      <td>31.702243</td>\n",
       "      <td>639.406017</td>\n",
       "      <td>381.98981</td>\n",
       "      <td>538.869810</td>\n",
       "      <td>329.804151</td>\n",
       "      <td>7.686354</td>\n",
       "      <td>2.259750</td>\n",
       "      <td>4.213383e+07</td>\n",
       "      <td>4.765635e+05</td>\n",
       "      <td>2.962856e+06</td>\n",
       "      <td>2.962321e+06</td>\n",
       "      <td>6742.861290</td>\n",
       "      <td>2158.616128</td>\n",
       "      <td>6361.879201</td>\n",
       "      <td>5.590893</td>\n",
       "      <td>3.250373</td>\n",
       "      <td>1.971121e+05</td>\n",
       "      <td>31.663590</td>\n",
       "    </tr>\n",
       "    <tr>\n",
       "      <th>min</th>\n",
       "      <td>2.350000e+03</td>\n",
       "      <td>1.000000</td>\n",
       "      <td>0.100000</td>\n",
       "      <td>0.10000</td>\n",
       "      <td>0.000000</td>\n",
       "      <td>0.000000</td>\n",
       "      <td>0.000000</td>\n",
       "      <td>0.000000</td>\n",
       "      <td>0.000000e+00</td>\n",
       "      <td>0.000000e+00</td>\n",
       "      <td>6.182000e+02</td>\n",
       "      <td>6.182000e+02</td>\n",
       "      <td>0.300000</td>\n",
       "      <td>0.000000</td>\n",
       "      <td>0.200000</td>\n",
       "      <td>0.000000</td>\n",
       "      <td>0.000000</td>\n",
       "      <td>2.350000e+03</td>\n",
       "      <td>4.000000</td>\n",
       "    </tr>\n",
       "    <tr>\n",
       "      <th>25%</th>\n",
       "      <td>4.500000e+04</td>\n",
       "      <td>26.000000</td>\n",
       "      <td>96.300000</td>\n",
       "      <td>100.70000</td>\n",
       "      <td>60.900000</td>\n",
       "      <td>64.100000</td>\n",
       "      <td>3.800000</td>\n",
       "      <td>0.100000</td>\n",
       "      <td>8.620738e+05</td>\n",
       "      <td>9.013500e+03</td>\n",
       "      <td>2.135125e+05</td>\n",
       "      <td>2.137261e+05</td>\n",
       "      <td>227.075000</td>\n",
       "      <td>112.500000</td>\n",
       "      <td>62.675000</td>\n",
       "      <td>100.000000</td>\n",
       "      <td>1.000000</td>\n",
       "      <td>4.542525e+04</td>\n",
       "      <td>59.000000</td>\n",
       "    </tr>\n",
       "    <tr>\n",
       "      <th>50%</th>\n",
       "      <td>6.951450e+04</td>\n",
       "      <td>57.000000</td>\n",
       "      <td>121.300000</td>\n",
       "      <td>126.30000</td>\n",
       "      <td>79.600000</td>\n",
       "      <td>83.700000</td>\n",
       "      <td>5.100000</td>\n",
       "      <td>0.500000</td>\n",
       "      <td>3.197940e+06</td>\n",
       "      <td>3.425180e+04</td>\n",
       "      <td>3.778729e+05</td>\n",
       "      <td>3.780187e+05</td>\n",
       "      <td>363.850000</td>\n",
       "      <td>217.800000</td>\n",
       "      <td>111.600000</td>\n",
       "      <td>100.000000</td>\n",
       "      <td>1.000000</td>\n",
       "      <td>7.050000e+04</td>\n",
       "      <td>88.000000</td>\n",
       "    </tr>\n",
       "    <tr>\n",
       "      <th>75%</th>\n",
       "      <td>1.190000e+05</td>\n",
       "      <td>82.000000</td>\n",
       "      <td>155.700000</td>\n",
       "      <td>161.50000</td>\n",
       "      <td>100.600000</td>\n",
       "      <td>105.700000</td>\n",
       "      <td>8.400000</td>\n",
       "      <td>0.800000</td>\n",
       "      <td>5.515898e+06</td>\n",
       "      <td>5.927460e+04</td>\n",
       "      <td>8.429556e+05</td>\n",
       "      <td>8.439135e+05</td>\n",
       "      <td>643.600000</td>\n",
       "      <td>357.800000</td>\n",
       "      <td>258.625000</td>\n",
       "      <td>100.000000</td>\n",
       "      <td>1.000000</td>\n",
       "      <td>1.211478e+05</td>\n",
       "      <td>98.000000</td>\n",
       "    </tr>\n",
       "    <tr>\n",
       "      <th>max</th>\n",
       "      <td>8.942176e+06</td>\n",
       "      <td>100.000000</td>\n",
       "      <td>54417.600000</td>\n",
       "      <td>34580.40000</td>\n",
       "      <td>45204.200000</td>\n",
       "      <td>28744.200000</td>\n",
       "      <td>284.800000</td>\n",
       "      <td>252.200000</td>\n",
       "      <td>4.849576e+09</td>\n",
       "      <td>5.543400e+07</td>\n",
       "      <td>9.414487e+07</td>\n",
       "      <td>9.326559e+07</td>\n",
       "      <td>674012.200000</td>\n",
       "      <td>257584.300000</td>\n",
       "      <td>673984.900000</td>\n",
       "      <td>100.000000</td>\n",
       "      <td>161.000000</td>\n",
       "      <td>8.942176e+06</td>\n",
       "      <td>423.000000</td>\n",
       "    </tr>\n",
       "  </tbody>\n",
       "</table>\n",
       "</div>"
      ],
      "text/plain": [
       "       largest_property_use_type_-_gross_floor_area_(ft)  energy_star_score  \\\n",
       "count                                       1.664400e+04       16644.000000   \n",
       "mean                                        1.185879e+05          54.040014   \n",
       "std                                         1.898655e+05          31.702243   \n",
       "min                                         2.350000e+03           1.000000   \n",
       "25%                                         4.500000e+04          26.000000   \n",
       "50%                                         6.951450e+04          57.000000   \n",
       "75%                                         1.190000e+05          82.000000   \n",
       "max                                         8.942176e+06         100.000000   \n",
       "\n",
       "       source_eui_(kbtu/ft)  weather_normalized_source_eui_(kbtu/ft)  \\\n",
       "count          16644.000000                              15313.00000   \n",
       "mean             149.639474                                147.49616   \n",
       "std              639.406017                                381.98981   \n",
       "min                0.100000                                  0.10000   \n",
       "25%               96.300000                                100.70000   \n",
       "50%              121.300000                                126.30000   \n",
       "75%              155.700000                                161.50000   \n",
       "max            54417.600000                              34580.40000   \n",
       "\n",
       "       site_eui_(kbtu/ft)  weather_normalized_site_eui_(kbtu/ft)  \\\n",
       "count        16644.000000                           15313.000000   \n",
       "mean            95.584998                              93.792366   \n",
       "std            538.869810                             329.804151   \n",
       "min              0.000000                               0.000000   \n",
       "25%             60.900000                              64.100000   \n",
       "50%             79.600000                              83.700000   \n",
       "75%            100.600000                             105.700000   \n",
       "max          45204.200000                           28744.200000   \n",
       "\n",
       "       weather_normalized_site_electricity_intensity_(kwh/ft)  \\\n",
       "count                                       16384.000000        \n",
       "mean                                            7.397186        \n",
       "std                                             7.686354        \n",
       "min                                             0.000000        \n",
       "25%                                             3.800000        \n",
       "50%                                             5.100000        \n",
       "75%                                             8.400000        \n",
       "max                                           284.800000        \n",
       "\n",
       "       weather_normalized_site_natural_gas_intensity_(therms/ft)  \\\n",
       "count                                       14977.000000           \n",
       "mean                                            0.559792           \n",
       "std                                             2.259750           \n",
       "min                                             0.000000           \n",
       "25%                                             0.100000           \n",
       "50%                                             0.500000           \n",
       "75%                                             0.800000           \n",
       "max                                           252.200000           \n",
       "\n",
       "       natural_gas_use_(kbtu)  \\\n",
       "count            1.527000e+04   \n",
       "mean             5.484344e+06   \n",
       "std              4.213383e+07   \n",
       "min              0.000000e+00   \n",
       "25%              8.620738e+05   \n",
       "50%              3.197940e+06   \n",
       "75%              5.515898e+06   \n",
       "max              4.849576e+09   \n",
       "\n",
       "       weather_normalized_site_natural_gas_use_(therms)  \\\n",
       "count                                      1.497700e+04   \n",
       "mean                                       5.823062e+04   \n",
       "std                                        4.765635e+05   \n",
       "min                                        0.000000e+00   \n",
       "25%                                        9.013500e+03   \n",
       "50%                                        3.425180e+04   \n",
       "75%                                        5.927460e+04   \n",
       "max                                        5.543400e+07   \n",
       "\n",
       "       electricity_use_-_grid_purchase_(kwh)  \\\n",
       "count                           1.664300e+04   \n",
       "mean                            1.093024e+06   \n",
       "std                             2.962856e+06   \n",
       "min                             6.182000e+02   \n",
       "25%                             2.135125e+05   \n",
       "50%                             3.778729e+05   \n",
       "75%                             8.429556e+05   \n",
       "max                             9.414487e+07   \n",
       "\n",
       "       weather_normalized_site_electricity_(kwh)  \\\n",
       "count                               1.638400e+04   \n",
       "mean                                1.093385e+06   \n",
       "std                                 2.962321e+06   \n",
       "min                                 6.182000e+02   \n",
       "25%                                 2.137261e+05   \n",
       "50%                                 3.780187e+05   \n",
       "75%                                 8.439135e+05   \n",
       "max                                 9.326559e+07   \n",
       "\n",
       "       total_ghg_emissions_(metric_tons_co2e)  \\\n",
       "count                            16644.000000   \n",
       "mean                               823.282072   \n",
       "std                               6742.861290   \n",
       "min                                  0.300000   \n",
       "25%                                227.075000   \n",
       "50%                                363.850000   \n",
       "75%                                643.600000   \n",
       "max                             674012.200000   \n",
       "\n",
       "       direct_ghg_emissions_(metric_tons_co2e)  \\\n",
       "count                             16579.000000   \n",
       "mean                                343.473509   \n",
       "std                                2158.616128   \n",
       "min                                   0.000000   \n",
       "25%                                 112.500000   \n",
       "50%                                 217.800000   \n",
       "75%                                 357.800000   \n",
       "max                              257584.300000   \n",
       "\n",
       "       indirect_ghg_emissions_(metric_tons_co2e)     occupancy  \\\n",
       "count                               16644.000000  16644.000000   \n",
       "mean                                  480.745211     98.993932   \n",
       "std                                  6361.879201      5.590893   \n",
       "min                                     0.200000      0.000000   \n",
       "25%                                    62.675000    100.000000   \n",
       "50%                                   111.600000    100.000000   \n",
       "75%                                   258.625000    100.000000   \n",
       "max                                673984.900000    100.000000   \n",
       "\n",
       "       number_of_buildings  self-reported_gross_floor_area_(ft)           age  \n",
       "count         16644.000000                         1.664400e+04  16644.000000  \n",
       "mean              1.202115                         1.217383e+05     76.489726  \n",
       "std               3.250373                         1.971121e+05     31.663590  \n",
       "min               0.000000                         2.350000e+03      4.000000  \n",
       "25%               1.000000                         4.542525e+04     59.000000  \n",
       "50%               1.000000                         7.050000e+04     88.000000  \n",
       "75%               1.000000                         1.211478e+05     98.000000  \n",
       "max             161.000000                         8.942176e+06    423.000000  "
      ]
     },
     "execution_count": 23,
     "metadata": {},
     "output_type": "execute_result"
    }
   ],
   "source": [
    "data_cleaned[numerical_columns].describe()"
   ]
  },
  {
   "cell_type": "code",
   "execution_count": 24,
   "id": "3dd334a1",
   "metadata": {},
   "outputs": [
    {
     "data": {
      "image/png": "[encoded data removed]",
      "text/plain": [
       "<Figure size 640x480 with 1 Axes>"
      ]
     },
     "metadata": {},
     "output_type": "display_data"
    },
    {
     "data": {
      "image/png": "[encoded data removed]",
      "text/plain": [
       "<Figure size 640x480 with 1 Axes>"
      ]
     },
     "metadata": {},
     "output_type": "display_data"
    },
    {
     "data": {
      "image/png": "[encoded data removed]",
      "text/plain": [
       "<Figure size 640x480 with 1 Axes>"
      ]
     },
     "metadata": {},
     "output_type": "display_data"
    },
    {
     "data": {
      "image/png": "[encoded data removed]",
      "text/plain": [
       "<Figure size 640x480 with 1 Axes>"
      ]
     },
     "metadata": {},
     "output_type": "display_data"
    },
    {
     "data": {
      "image/png": "[encoded data removed]",
      "text/plain": [
       "<Figure size 640x480 with 1 Axes>"
      ]
     },
     "metadata": {},
     "output_type": "display_data"
    },
    {
     "data": {
      "image/png": "[encoded data removed]",
      "text/plain": [
       "<Figure size 640x480 with 1 Axes>"
      ]
     },
     "metadata": {},
     "output_type": "display_data"
    },
    {
     "data": {
      "image/png": "[encoded data removed]",
      "text/plain": [
       "<Figure size 640x480 with 1 Axes>"
      ]
     },
     "metadata": {},
     "output_type": "display_data"
    },
    {
     "data": {
      "image/png": "[encoded data removed]",
      "text/plain": [
       "<Figure size 640x480 with 1 Axes>"
      ]
     },
     "metadata": {},
     "output_type": "display_data"
    },
    {
     "data": {
      "image/png": "[encoded data removed]",
      "text/plain": [
       "<Figure size 640x480 with 1 Axes>"
      ]
     },
     "metadata": {},
     "output_type": "display_data"
    },
    {
     "data": {
      "image/png": "[encoded data removed]",
      "text/plain": [
       "<Figure size 640x480 with 1 Axes>"
      ]
     },
     "metadata": {},
     "output_type": "display_data"
    },
    {
     "data": {
      "image/png": "[encoded data removed]",
      "text/plain": [
       "<Figure size 640x480 with 1 Axes>"
      ]
     },
     "metadata": {},
     "output_type": "display_data"
    },
    {
     "data": {
      "image/png": "[encoded data removed]",
      "text/plain": [
       "<Figure size 640x480 with 1 Axes>"
      ]
     },
     "metadata": {},
     "output_type": "display_data"
    },
    {
     "data": {
      "image/png": "[encoded data removed]",
      "text/plain": [
       "<Figure size 640x480 with 1 Axes>"
      ]
     },
     "metadata": {},
     "output_type": "display_data"
    },
    {
     "data": {
      "image/png": "[encoded data removed]",
      "text/plain": [
       "<Figure size 640x480 with 1 Axes>"
      ]
     },
     "metadata": {},
     "output_type": "display_data"
    },
    {
     "data": {
      "image/png": "[encoded data removed]",
      "text/plain": [
       "<Figure size 640x480 with 1 Axes>"
      ]
     },
     "metadata": {},
     "output_type": "display_data"
    },
    {
     "data": {
      "image/png": "[encoded data removed]",
      "text/plain": [
       "<Figure size 640x480 with 1 Axes>"
      ]
     },
     "metadata": {},
     "output_type": "display_data"
    },
    {
     "data": {
      "image/png": "[encoded data removed]",
      "text/plain": [
       "<Figure size 640x480 with 1 Axes>"
      ]
     },
     "metadata": {},
     "output_type": "display_data"
    },
    {
     "data": {
      "image/png": "[encoded data removed]",
      "text/plain": [
       "<Figure size 640x480 with 1 Axes>"
      ]
     },
     "metadata": {},
     "output_type": "display_data"
    },
    {
     "data": {
      "image/png": "[encoded data removed]",
      "text/plain": [
       "<Figure size 640x480 with 1 Axes>"
      ]
     },
     "metadata": {},
     "output_type": "display_data"
    }
   ],
   "source": [
    "# max is much larger than median, so in order histogram to be infomative consider df[df[col]<df[col].qunatile(0.95)].hist()\n",
    "for col in numerical_columns:\n",
    "    plt.hist(data_cleaned[data_cleaned[col]<data_cleaned[col].quantile(0.95)][col])\n",
    "    plt.title(col)\n",
    "    plt.show()"
   ]
  },
  {
   "cell_type": "code",
   "execution_count": 25,
   "id": "09cfbbaa-434f-4304-be26-7f42fc3a5ea3",
   "metadata": {},
   "outputs": [
    {
     "data": {
      "image/png": "[encoded data removed]",
      "text/plain": [
       "<Figure size 640x480 with 1 Axes>"
      ]
     },
     "metadata": {},
     "output_type": "display_data"
    }
   ],
   "source": [
    "plt.title('EnergyStarScore-target variable')\n",
    "data_cleaned['energy_star_score'].hist();"
   ]
  },
  {
   "cell_type": "markdown",
   "id": "f655d1a0-55bd-4b4b-9bd3-3cd80b53ad5d",
   "metadata": {},
   "source": [
    "*Conclusion:*\n",
    "1. There are no weird values in feature objects.\n",
    "2. Some of them are normally distributed, some of them have are biased to the left.\n",
    "3. Energy star score has \"near\" to uniform distribution on [0, 100]. No need to transform it, etc."
   ]
  },
  {
   "cell_type": "markdown",
   "id": "9b3e2c67-f316-4d2f-ac01-b17a5a89a3f3",
   "metadata": {},
   "source": [
    "### Feature importance analysis"
   ]
  },
  {
   "cell_type": "code",
   "execution_count": 26,
   "id": "7692b0c6-8683-4fcd-bc94-804c160cf762",
   "metadata": {},
   "outputs": [
    {
     "data": {
      "text/plain": [
       "largest_property_use_type_-_gross_floor_area_(ft)            0.072084\n",
       "energy_star_score                                            1.000000\n",
       "source_eui_(kbtu/ft)                                        -0.108598\n",
       "weather_normalized_source_eui_(kbtu/ft)                     -0.156260\n",
       "site_eui_(kbtu/ft)                                          -0.093140\n",
       "weather_normalized_site_eui_(kbtu/ft)                       -0.126628\n",
       "weather_normalized_site_electricity_intensity_(kwh/ft)      -0.307934\n",
       "weather_normalized_site_natural_gas_intensity_(therms/ft)   -0.114693\n",
       "natural_gas_use_(kbtu)                                      -0.053829\n",
       "weather_normalized_site_natural_gas_use_(therms)            -0.049106\n",
       "electricity_use_-_grid_purchase_(kwh)                       -0.034511\n",
       "weather_normalized_site_electricity_(kwh)                   -0.032754\n",
       "total_ghg_emissions_(metric_tons_co2e)                      -0.046427\n",
       "direct_ghg_emissions_(metric_tons_co2e)                     -0.056814\n",
       "indirect_ghg_emissions_(metric_tons_co2e)                   -0.029908\n",
       "occupancy                                                   -0.040814\n",
       "number_of_buildings                                         -0.022611\n",
       "self-reported_gross_floor_area_(ft)                          0.069742\n",
       "age                                                          0.023429\n",
       "dtype: float64"
      ]
     },
     "execution_count": 26,
     "metadata": {},
     "output_type": "execute_result"
    }
   ],
   "source": [
    "data_cleaned[numerical_columns].corrwith(data_cleaned['energy_star_score'])"
   ]
  },
  {
   "cell_type": "markdown",
   "id": "fe7659a3-b3f5-40e5-a3cb-c5117ed0a263",
   "metadata": {},
   "source": [
    "Using mutual info regression:"
   ]
  },
  {
   "cell_type": "code",
   "execution_count": 27,
   "id": "9ffca268-9b05-493d-9b57-dbf56b50e86a",
   "metadata": {},
   "outputs": [
    {
     "data": {
      "text/plain": [
       "{'largest_property_use_type_-_gross_floor_area_(ft)': 0.03675458290287015,\n",
       " 'energy_star_score': 4.4879405488182975,\n",
       " 'source_eui_(kbtu/ft)': 0.7673774251434642,\n",
       " 'weather_normalized_source_eui_(kbtu/ft)': 0.6614906207847762,\n",
       " 'site_eui_(kbtu/ft)': 0.633901829231192,\n",
       " 'weather_normalized_site_eui_(kbtu/ft)': 0.568400674095046,\n",
       " 'weather_normalized_site_electricity_intensity_(kwh/ft)': 0.1392506670879632,\n",
       " 'weather_normalized_site_natural_gas_intensity_(therms/ft)': 0.2504092803976876,\n",
       " 'natural_gas_use_(kbtu)': 0.10056679541435365,\n",
       " 'weather_normalized_site_natural_gas_use_(therms)': 0.09384161523407286,\n",
       " 'electricity_use_-_grid_purchase_(kwh)': 0.05513501356865813,\n",
       " 'weather_normalized_site_electricity_(kwh)': 0.043849168928915994,\n",
       " 'total_ghg_emissions_(metric_tons_co2e)': 0.15753731367558643,\n",
       " 'direct_ghg_emissions_(metric_tons_co2e)': 0.11094041099904661,\n",
       " 'indirect_ghg_emissions_(metric_tons_co2e)': 0.04930418993122476,\n",
       " 'occupancy': 0.0,\n",
       " 'number_of_buildings': 0.0017490785932920971,\n",
       " 'self-reported_gross_floor_area_(ft)': 0.03566378556936112,\n",
       " 'age': 0.02451342192461059}"
      ]
     },
     "execution_count": 27,
     "metadata": {},
     "output_type": "execute_result"
    }
   ],
   "source": [
    "dict(zip(numerical_columns, mutual_info_regression(data_cleaned[numerical_columns].fillna(0), data_cleaned['energy_star_score'], random_state=42)))"
   ]
  },
  {
   "cell_type": "markdown",
   "id": "46aba4cb-1fb7-4d3b-8425-82ff5548772e",
   "metadata": {},
   "source": [
    "*Conclusion:*\n",
    "\n",
    "weather_normalized_site_electricity_intensity_(kwh/ft) column has comparatively high correlation with enery_star_score, the other variables have low correlation with the targen variable -> perhaps we need to leave some of them out.\n",
    "\n",
    "Three variables seem to have large mutual info score: source_eui_(kbtu/ft), weather_normalized_site_eui_(kbtu/ft), site_eui_(kbtu/ft), weather_normalized_site_eui_(kbtu/ft)"
   ]
  },
  {
   "cell_type": "markdown",
   "id": "ee121266",
   "metadata": {},
   "source": [
    "#### Categorical variables"
   ]
  },
  {
   "cell_type": "code",
   "execution_count": 28,
   "id": "d7980212-31ca-48b0-bd84-3a6c5c66eeb5",
   "metadata": {},
   "outputs": [],
   "source": [
    "categorical_variables = list(set(data_cleaned.columns)-set(numerical_columns))"
   ]
  },
  {
   "cell_type": "code",
   "execution_count": 29,
   "id": "e371452e-239a-4931-8f92-ea104dfa4b5c",
   "metadata": {},
   "outputs": [
    {
     "data": {
      "text/plain": [
       "['postal_code',\n",
       " 'primary_property_type_-_self_selected',\n",
       " 'borough',\n",
       " 'list_of_all_property_use_types_at_property',\n",
       " 'metered_areas_(energy)',\n",
       " 'address_1_(self-reported)',\n",
       " 'largest_property_use_type']"
      ]
     },
     "execution_count": 29,
     "metadata": {},
     "output_type": "execute_result"
    }
   ],
   "source": [
    "categorical_variables"
   ]
  },
  {
   "cell_type": "code",
   "execution_count": 30,
   "id": "e90c2f17-a23c-4dba-a5ad-16cc98ef69a6",
   "metadata": {},
   "outputs": [
    {
     "data": {
      "text/plain": [
       "0.01718336938236001"
      ]
     },
     "execution_count": 30,
     "metadata": {},
     "output_type": "execute_result"
    }
   ],
   "source": [
    "# Postal code is not 'unique' feature\n",
    "len(data_cleaned['postal_code'].unique())/len(data_cleaned)"
   ]
  },
  {
   "cell_type": "code",
   "execution_count": 31,
   "id": "e011ad74-f9a1-4a07-a4b4-fb3177edbf4a",
   "metadata": {},
   "outputs": [
    {
     "data": {
      "text/plain": [
       "array(['Whole Building', nan], dtype=object)"
      ]
     },
     "execution_count": 31,
     "metadata": {},
     "output_type": "execute_result"
    }
   ],
   "source": [
    "# What is in column metered_areas_(energy)?\n",
    "data_cleaned['metered_areas_(energy)'].unique()"
   ]
  },
  {
   "cell_type": "code",
   "execution_count": 32,
   "id": "c587c22c-f0a3-439d-939d-45469d862d1d",
   "metadata": {},
   "outputs": [],
   "source": [
    "def dict_modified(l: list) -> dict:\n",
    "    return {el[1]:el[0] for el in l}"
   ]
  },
  {
   "cell_type": "code",
   "execution_count": 33,
   "id": "e26a594c-344b-4fc7-a2b4-68640910f5a0",
   "metadata": {},
   "outputs": [],
   "source": [
    "list_of_parsed_address =[]\n",
    "for k in range(0, len(data_cleaned)):\n",
    "    try:\n",
    "       list_of_parsed_address.append(dict_modified(usaddress.parse(data_cleaned['address_1_(self-reported)'].iloc[k])))\n",
    "    except:\n",
    "        list_of_parsed_address.append({'AddressNumber': data_cleaned['address_1_(self-reported)'].iloc[k]})"
   ]
  },
  {
   "cell_type": "code",
   "execution_count": 34,
   "id": "f8639374-2a10-4d38-ad7a-63483a476725",
   "metadata": {},
   "outputs": [],
   "source": [
    "address_dataframe = pd.DataFrame(list_of_parsed_address).dropna(thresh=0.2*len(data_cleaned), axis=1).reset_index(drop=True)\n",
    "address_dataframe.drop(columns=['StreetNamePreDirectional', 'StreetNamePostType'], inplace=True)"
   ]
  },
  {
   "cell_type": "code",
   "execution_count": 35,
   "id": "1cca5647-0da6-4d83-9cc7-53f7a83050e6",
   "metadata": {},
   "outputs": [],
   "source": [
    "def proceed_categorical_columns(df):\n",
    "     df_copy = df.copy()\n",
    "     # to make a preprocessing easier we drop 'list_of_all_property_use_types_at_property' column; \n",
    "     # 'address_1_(self-reported)' column is dropped since it has been parsed to multiple columns.\n",
    "     # TODO: consider deleting postal code\n",
    "     df_copy.drop(columns=['list_of_all_property_use_types_at_property', 'address_1_(self-reported)'], inplace=True)\n",
    "     df_copy['metered_areas_(energy)'].fillna('NA', inplace=True)\n",
    "     return df_copy.reset_index(drop=True)\n",
    "        "
   ]
  },
  {
   "cell_type": "code",
   "execution_count": 36,
   "id": "a3d4e278-5186-462d-bf27-33c790c8c189",
   "metadata": {},
   "outputs": [],
   "source": [
    "data_categorical = pd.concat([proceed_categorical_columns(data_cleaned[categorical_variables]), address_dataframe], axis=1)"
   ]
  },
  {
   "cell_type": "code",
   "execution_count": 37,
   "id": "4777f100-17c8-4c3f-b2ec-bcc48fc272a0",
   "metadata": {},
   "outputs": [],
   "source": [
    "categorical_variables = data_categorical.columns"
   ]
  },
  {
   "cell_type": "code",
   "execution_count": 38,
   "id": "27126274-2668-4eff-8eb5-06c46a50c54f",
   "metadata": {},
   "outputs": [
    {
     "name": "stdout",
     "output_type": "stream",
     "text": [
      "<class 'pandas.core.frame.DataFrame'>\n",
      "RangeIndex: 16644 entries, 0 to 16643\n",
      "Data columns (total 7 columns):\n",
      " #   Column                                 Non-Null Count  Dtype \n",
      "---  ------                                 --------------  ----- \n",
      " 0   postal_code                            16644 non-null  object\n",
      " 1   primary_property_type_-_self_selected  16644 non-null  object\n",
      " 2   borough                                16644 non-null  object\n",
      " 3   metered_areas_(energy)                 16644 non-null  object\n",
      " 4   largest_property_use_type              16644 non-null  object\n",
      " 5   AddressNumber                          16569 non-null  object\n",
      " 6   StreetName                             16578 non-null  object\n",
      "dtypes: object(7)\n",
      "memory usage: 910.3+ KB\n"
     ]
    }
   ],
   "source": [
    "data_categorical.info()"
   ]
  },
  {
   "cell_type": "markdown",
   "id": "ced20d68-77ce-45a4-b99f-e3ddb3eafa95",
   "metadata": {},
   "source": [
    "What are the unique values for categorical columns"
   ]
  },
  {
   "cell_type": "code",
   "execution_count": 39,
   "id": "fa51a46d-8948-434d-bbf0-3b4618902e78",
   "metadata": {},
   "outputs": [
    {
     "name": "stdout",
     "output_type": "stream",
     "text": [
      "===================\n",
      "postal_code\n",
      "11226        347\n",
      "10452        334\n",
      "10025        329\n",
      "10468        311\n",
      "10453        308\n",
      "            ... \n",
      "10104          1\n",
      "10121          1\n",
      "10041          1\n",
      "100003         1\n",
      "104674512      1\n",
      "Name: count, Length: 286, dtype: int64\n",
      "===================\n",
      "primary_property_type_-_self_selected\n",
      "Multifamily Housing                           12359\n",
      "Office                                         1630\n",
      "K-12 School                                    1345\n",
      "Hotel                                           307\n",
      "Non-Refrigerated Warehouse                      233\n",
      "Senior Care Community                           118\n",
      "Residence Hall/Dormitory                        111\n",
      "Retail Store                                    106\n",
      "Distribution Center                              82\n",
      "Worship Facility                                 67\n",
      "Medical Office                                   55\n",
      "Hospital (General Medical & Surgical)            48\n",
      "Supermarket/Grocery Store                        42\n",
      "Other                                            30\n",
      "Courthouse                                       25\n",
      "Mixed Use Property                               21\n",
      "Refrigerated Warehouse                           17\n",
      "Financial Office                                 14\n",
      "College/University                                9\n",
      "Wholesale Club/Supercenter                        8\n",
      "Bank Branch                                       6\n",
      "Data Center                                       2\n",
      "Other - Entertainment/Public Assembly             2\n",
      "Manufacturing/Industrial Plant                    1\n",
      "Fitness Center/Health Club/Gym                    1\n",
      "Strip Mall                                        1\n",
      "Performing Arts                                   1\n",
      "Other - Education                                 1\n",
      "Food Sales                                        1\n",
      "Outpatient Rehabilitation/Physical Therapy        1\n",
      "Name: count, dtype: int64\n",
      "===================\n",
      "borough\n",
      "Manhattan        6287\n",
      "Brooklyn         3973\n",
      "Bronx            3482\n",
      "Queens           2654\n",
      "Staten Island     248\n",
      "Name: count, dtype: int64\n",
      "===================\n",
      "metered_areas_(energy)\n",
      "Whole Building    16284\n",
      "NA                  360\n",
      "Name: count, dtype: int64\n",
      "===================\n",
      "largest_property_use_type\n",
      "Multifamily Housing                      12366\n",
      "Office                                    1662\n",
      "K-12 School                               1351\n",
      "Hotel                                      311\n",
      "Non-Refrigerated Warehouse                 234\n",
      "Senior Care Community                      121\n",
      "Retail Store                               112\n",
      "Residence Hall/Dormitory                   112\n",
      "Distribution Center                         87\n",
      "Worship Facility                            72\n",
      "Medical Office                              54\n",
      "Hospital (General Medical & Surgical)       48\n",
      "Supermarket/Grocery Store                   43\n",
      "Courthouse                                  26\n",
      "Financial Office                            15\n",
      "Refrigerated Warehouse                      14\n",
      "Bank Branch                                  6\n",
      "Wholesale Club/Supercenter                   6\n",
      "Parking                                      2\n",
      "Data Center                                  2\n",
      "Name: count, dtype: int64\n",
      "===================\n",
      "AddressNumber\n",
      "200      94\n",
      "100      93\n",
      "50       78\n",
      "1        78\n",
      "40       72\n",
      "         ..\n",
      "28-04     1\n",
      "95-16     1\n",
      "35-12     1\n",
      "46-21     1\n",
      "2027      1\n",
      "Name: count, Length: 5519, dtype: int64\n",
      "===================\n",
      "StreetName\n",
      "Park         353\n",
      "Broadway     280\n",
      "Ocean        260\n",
      "Concourse    152\n",
      "End          148\n",
      "            ... \n",
      "CT             1\n",
      "Vanwyck        1\n",
      "251st          1\n",
      "262nd          1\n",
      "johns          1\n",
      "Name: count, Length: 2368, dtype: int64\n"
     ]
    }
   ],
   "source": [
    "for cat in categorical_variables:\n",
    "    print('===================')\n",
    "    print(data_categorical[cat].value_counts())"
   ]
  },
  {
   "cell_type": "code",
   "execution_count": 40,
   "id": "0f848685-5d3e-463f-a3b2-57912c2add5d",
   "metadata": {},
   "outputs": [],
   "source": [
    "categorical_variables = list(categorical_variables)"
   ]
  },
  {
   "cell_type": "markdown",
   "id": "d1df6a06-d701-4109-9fb8-98e3e420d4e6",
   "metadata": {},
   "source": [
    "#### Producing pre final dataset after cleaning"
   ]
  },
  {
   "cell_type": "code",
   "execution_count": 41,
   "id": "6aac54ff-996e-48cf-b221-3b8344acb572",
   "metadata": {},
   "outputs": [],
   "source": [
    "data_full =  pd.concat([data_cleaned[numerical_columns].reset_index(drop=True), data_categorical.reset_index(drop=True).astype(str)], axis=1)"
   ]
  },
  {
   "cell_type": "code",
   "execution_count": 42,
   "id": "05ff93d6-0aa4-4047-99c2-c9052503974c",
   "metadata": {},
   "outputs": [
    {
     "data": {
      "text/html": [
       "<div>\n",
       "<style scoped>\n",
       "    .dataframe tbody tr th:only-of-type {\n",
       "        vertical-align: middle;\n",
       "    }\n",
       "\n",
       "    .dataframe tbody tr th {\n",
       "        vertical-align: top;\n",
       "    }\n",
       "\n",
       "    .dataframe thead th {\n",
       "        text-align: right;\n",
       "    }\n",
       "</style>\n",
       "<table border=\"1\" class=\"dataframe\">\n",
       "  <thead>\n",
       "    <tr style=\"text-align: right;\">\n",
       "      <th></th>\n",
       "      <th>largest_property_use_type_-_gross_floor_area_(ft)</th>\n",
       "      <th>energy_star_score</th>\n",
       "      <th>source_eui_(kbtu/ft)</th>\n",
       "      <th>weather_normalized_source_eui_(kbtu/ft)</th>\n",
       "      <th>site_eui_(kbtu/ft)</th>\n",
       "      <th>weather_normalized_site_eui_(kbtu/ft)</th>\n",
       "      <th>weather_normalized_site_electricity_intensity_(kwh/ft)</th>\n",
       "      <th>weather_normalized_site_natural_gas_intensity_(therms/ft)</th>\n",
       "      <th>natural_gas_use_(kbtu)</th>\n",
       "      <th>weather_normalized_site_natural_gas_use_(therms)</th>\n",
       "      <th>...</th>\n",
       "      <th>number_of_buildings</th>\n",
       "      <th>self-reported_gross_floor_area_(ft)</th>\n",
       "      <th>age</th>\n",
       "      <th>postal_code</th>\n",
       "      <th>primary_property_type_-_self_selected</th>\n",
       "      <th>borough</th>\n",
       "      <th>metered_areas_(energy)</th>\n",
       "      <th>largest_property_use_type</th>\n",
       "      <th>AddressNumber</th>\n",
       "      <th>StreetName</th>\n",
       "    </tr>\n",
       "  </thead>\n",
       "  <tbody>\n",
       "    <tr>\n",
       "      <th>0</th>\n",
       "      <td>164754.0</td>\n",
       "      <td>90.0</td>\n",
       "      <td>138.4</td>\n",
       "      <td>141.0</td>\n",
       "      <td>53.8</td>\n",
       "      <td>56.2</td>\n",
       "      <td>11.3</td>\n",
       "      <td>0.1</td>\n",
       "      <td>1435754.7</td>\n",
       "      <td>16672.2</td>\n",
       "      <td>...</td>\n",
       "      <td>1</td>\n",
       "      <td>169416</td>\n",
       "      <td>114</td>\n",
       "      <td>10019</td>\n",
       "      <td>Office</td>\n",
       "      <td>Manhattan</td>\n",
       "      <td>Whole Building</td>\n",
       "      <td>Office</td>\n",
       "      <td>224</td>\n",
       "      <td>57th</td>\n",
       "    </tr>\n",
       "    <tr>\n",
       "      <th>1</th>\n",
       "      <td>94380.0</td>\n",
       "      <td>100.0</td>\n",
       "      <td>43.5</td>\n",
       "      <td>46.8</td>\n",
       "      <td>28.4</td>\n",
       "      <td>31.3</td>\n",
       "      <td>2.0</td>\n",
       "      <td>0.2</td>\n",
       "      <td>2068300.1</td>\n",
       "      <td>23243.7</td>\n",
       "      <td>...</td>\n",
       "      <td>1</td>\n",
       "      <td>94380</td>\n",
       "      <td>60</td>\n",
       "      <td>11373</td>\n",
       "      <td>K-12 School</td>\n",
       "      <td>Queens</td>\n",
       "      <td>Whole Building</td>\n",
       "      <td>K-12 School</td>\n",
       "      <td>56-25</td>\n",
       "      <td>92nd</td>\n",
       "    </tr>\n",
       "    <tr>\n",
       "      <th>2</th>\n",
       "      <td>125000.0</td>\n",
       "      <td>83.0</td>\n",
       "      <td>271.1</td>\n",
       "      <td>274.7</td>\n",
       "      <td>130.2</td>\n",
       "      <td>133.7</td>\n",
       "      <td>18.8</td>\n",
       "      <td>0.7</td>\n",
       "      <td>8245445.1</td>\n",
       "      <td>86776.9</td>\n",
       "      <td>...</td>\n",
       "      <td>1</td>\n",
       "      <td>125000</td>\n",
       "      <td>24</td>\n",
       "      <td>10001-7507</td>\n",
       "      <td>Hotel</td>\n",
       "      <td>Manhattan</td>\n",
       "      <td>Whole Building</td>\n",
       "      <td>Hotel</td>\n",
       "      <td>1170</td>\n",
       "      <td>Broadway</td>\n",
       "    </tr>\n",
       "    <tr>\n",
       "      <th>3</th>\n",
       "      <td>50000.0</td>\n",
       "      <td>27.0</td>\n",
       "      <td>163.0</td>\n",
       "      <td>167.9</td>\n",
       "      <td>76.5</td>\n",
       "      <td>80.8</td>\n",
       "      <td>11.7</td>\n",
       "      <td>0.4</td>\n",
       "      <td>1848519.4</td>\n",
       "      <td>20520.9</td>\n",
       "      <td>...</td>\n",
       "      <td>1</td>\n",
       "      <td>50000</td>\n",
       "      <td>29</td>\n",
       "      <td>10001</td>\n",
       "      <td>Hotel</td>\n",
       "      <td>Manhattan</td>\n",
       "      <td>Whole Building</td>\n",
       "      <td>Hotel</td>\n",
       "      <td>1155</td>\n",
       "      <td>Broadway</td>\n",
       "    </tr>\n",
       "    <tr>\n",
       "      <th>4</th>\n",
       "      <td>50000.0</td>\n",
       "      <td>99.0</td>\n",
       "      <td>64.2</td>\n",
       "      <td>64.2</td>\n",
       "      <td>20.5</td>\n",
       "      <td>20.5</td>\n",
       "      <td>6.0</td>\n",
       "      <td>NaN</td>\n",
       "      <td>NaN</td>\n",
       "      <td>NaN</td>\n",
       "      <td>...</td>\n",
       "      <td>1</td>\n",
       "      <td>50000</td>\n",
       "      <td>11</td>\n",
       "      <td>10038</td>\n",
       "      <td>Hotel</td>\n",
       "      <td>Manhattan</td>\n",
       "      <td>Whole Building</td>\n",
       "      <td>Hotel</td>\n",
       "      <td>24</td>\n",
       "      <td>John</td>\n",
       "    </tr>\n",
       "    <tr>\n",
       "      <th>...</th>\n",
       "      <td>...</td>\n",
       "      <td>...</td>\n",
       "      <td>...</td>\n",
       "      <td>...</td>\n",
       "      <td>...</td>\n",
       "      <td>...</td>\n",
       "      <td>...</td>\n",
       "      <td>...</td>\n",
       "      <td>...</td>\n",
       "      <td>...</td>\n",
       "      <td>...</td>\n",
       "      <td>...</td>\n",
       "      <td>...</td>\n",
       "      <td>...</td>\n",
       "      <td>...</td>\n",
       "      <td>...</td>\n",
       "      <td>...</td>\n",
       "      <td>...</td>\n",
       "      <td>...</td>\n",
       "      <td>...</td>\n",
       "      <td>...</td>\n",
       "    </tr>\n",
       "    <tr>\n",
       "      <th>16639</th>\n",
       "      <td>51960.0</td>\n",
       "      <td>43.0</td>\n",
       "      <td>129.8</td>\n",
       "      <td>136.3</td>\n",
       "      <td>107.7</td>\n",
       "      <td>113.8</td>\n",
       "      <td>2.8</td>\n",
       "      <td>1.0</td>\n",
       "      <td>5099274.9</td>\n",
       "      <td>54191.7</td>\n",
       "      <td>...</td>\n",
       "      <td>1</td>\n",
       "      <td>51960</td>\n",
       "      <td>60</td>\n",
       "      <td>11209</td>\n",
       "      <td>Multifamily Housing</td>\n",
       "      <td>Brooklyn</td>\n",
       "      <td>Whole Building</td>\n",
       "      <td>Multifamily Housing</td>\n",
       "      <td>8301</td>\n",
       "      <td>Ridge</td>\n",
       "    </tr>\n",
       "    <tr>\n",
       "      <th>16640</th>\n",
       "      <td>32800.0</td>\n",
       "      <td>47.0</td>\n",
       "      <td>123.6</td>\n",
       "      <td>132.6</td>\n",
       "      <td>101.6</td>\n",
       "      <td>110.2</td>\n",
       "      <td>2.8</td>\n",
       "      <td>1.0</td>\n",
       "      <td>3017000.3</td>\n",
       "      <td>32981.3</td>\n",
       "      <td>...</td>\n",
       "      <td>1</td>\n",
       "      <td>32800</td>\n",
       "      <td>92</td>\n",
       "      <td>11226</td>\n",
       "      <td>Multifamily Housing</td>\n",
       "      <td>Brooklyn</td>\n",
       "      <td>Whole Building</td>\n",
       "      <td>Multifamily Housing</td>\n",
       "      <td>2802</td>\n",
       "      <td>Clarendon</td>\n",
       "    </tr>\n",
       "    <tr>\n",
       "      <th>16641</th>\n",
       "      <td>32350.0</td>\n",
       "      <td>61.0</td>\n",
       "      <td>120.4</td>\n",
       "      <td>129.3</td>\n",
       "      <td>100.4</td>\n",
       "      <td>108.8</td>\n",
       "      <td>2.5</td>\n",
       "      <td>1.0</td>\n",
       "      <td>2969100.0</td>\n",
       "      <td>32420.7</td>\n",
       "      <td>...</td>\n",
       "      <td>1</td>\n",
       "      <td>32350</td>\n",
       "      <td>98</td>\n",
       "      <td>11225</td>\n",
       "      <td>Multifamily Housing</td>\n",
       "      <td>Brooklyn</td>\n",
       "      <td>Whole Building</td>\n",
       "      <td>Multifamily Housing</td>\n",
       "      <td>1116</td>\n",
       "      <td>Carroll</td>\n",
       "    </tr>\n",
       "    <tr>\n",
       "      <th>16642</th>\n",
       "      <td>33800.0</td>\n",
       "      <td>17.0</td>\n",
       "      <td>155.7</td>\n",
       "      <td>162.3</td>\n",
       "      <td>117.2</td>\n",
       "      <td>123.6</td>\n",
       "      <td>5.5</td>\n",
       "      <td>1.0</td>\n",
       "      <td>3333200.0</td>\n",
       "      <td>35467.9</td>\n",
       "      <td>...</td>\n",
       "      <td>1</td>\n",
       "      <td>33800</td>\n",
       "      <td>97</td>\n",
       "      <td>11235</td>\n",
       "      <td>Multifamily Housing</td>\n",
       "      <td>Brooklyn</td>\n",
       "      <td>Whole Building</td>\n",
       "      <td>Multifamily Housing</td>\n",
       "      <td>3033</td>\n",
       "      <td>13</td>\n",
       "    </tr>\n",
       "    <tr>\n",
       "      <th>16643</th>\n",
       "      <td>217259.0</td>\n",
       "      <td>90.0</td>\n",
       "      <td>75.9</td>\n",
       "      <td>NaN</td>\n",
       "      <td>28.1</td>\n",
       "      <td>NaN</td>\n",
       "      <td>7.7</td>\n",
       "      <td>0.0</td>\n",
       "      <td>394383.3</td>\n",
       "      <td>3943.8</td>\n",
       "      <td>...</td>\n",
       "      <td>1</td>\n",
       "      <td>263259</td>\n",
       "      <td>113</td>\n",
       "      <td>10022</td>\n",
       "      <td>Multifamily Housing</td>\n",
       "      <td>Manhattan</td>\n",
       "      <td>Whole Building</td>\n",
       "      <td>Multifamily Housing</td>\n",
       "      <td>465</td>\n",
       "      <td>Park</td>\n",
       "    </tr>\n",
       "  </tbody>\n",
       "</table>\n",
       "<p>16644 rows × 26 columns</p>\n",
       "</div>"
      ],
      "text/plain": [
       "       largest_property_use_type_-_gross_floor_area_(ft)  energy_star_score  \\\n",
       "0                                               164754.0               90.0   \n",
       "1                                                94380.0              100.0   \n",
       "2                                               125000.0               83.0   \n",
       "3                                                50000.0               27.0   \n",
       "4                                                50000.0               99.0   \n",
       "...                                                  ...                ...   \n",
       "16639                                            51960.0               43.0   \n",
       "16640                                            32800.0               47.0   \n",
       "16641                                            32350.0               61.0   \n",
       "16642                                            33800.0               17.0   \n",
       "16643                                           217259.0               90.0   \n",
       "\n",
       "       source_eui_(kbtu/ft)  weather_normalized_source_eui_(kbtu/ft)  \\\n",
       "0                     138.4                                    141.0   \n",
       "1                      43.5                                     46.8   \n",
       "2                     271.1                                    274.7   \n",
       "3                     163.0                                    167.9   \n",
       "4                      64.2                                     64.2   \n",
       "...                     ...                                      ...   \n",
       "16639                 129.8                                    136.3   \n",
       "16640                 123.6                                    132.6   \n",
       "16641                 120.4                                    129.3   \n",
       "16642                 155.7                                    162.3   \n",
       "16643                  75.9                                      NaN   \n",
       "\n",
       "       site_eui_(kbtu/ft)  weather_normalized_site_eui_(kbtu/ft)  \\\n",
       "0                    53.8                                   56.2   \n",
       "1                    28.4                                   31.3   \n",
       "2                   130.2                                  133.7   \n",
       "3                    76.5                                   80.8   \n",
       "4                    20.5                                   20.5   \n",
       "...                   ...                                    ...   \n",
       "16639               107.7                                  113.8   \n",
       "16640               101.6                                  110.2   \n",
       "16641               100.4                                  108.8   \n",
       "16642               117.2                                  123.6   \n",
       "16643                28.1                                    NaN   \n",
       "\n",
       "       weather_normalized_site_electricity_intensity_(kwh/ft)  \\\n",
       "0                                                   11.3        \n",
       "1                                                    2.0        \n",
       "2                                                   18.8        \n",
       "3                                                   11.7        \n",
       "4                                                    6.0        \n",
       "...                                                  ...        \n",
       "16639                                                2.8        \n",
       "16640                                                2.8        \n",
       "16641                                                2.5        \n",
       "16642                                                5.5        \n",
       "16643                                                7.7        \n",
       "\n",
       "       weather_normalized_site_natural_gas_intensity_(therms/ft)  \\\n",
       "0                                                    0.1           \n",
       "1                                                    0.2           \n",
       "2                                                    0.7           \n",
       "3                                                    0.4           \n",
       "4                                                    NaN           \n",
       "...                                                  ...           \n",
       "16639                                                1.0           \n",
       "16640                                                1.0           \n",
       "16641                                                1.0           \n",
       "16642                                                1.0           \n",
       "16643                                                0.0           \n",
       "\n",
       "       natural_gas_use_(kbtu)  \\\n",
       "0                   1435754.7   \n",
       "1                   2068300.1   \n",
       "2                   8245445.1   \n",
       "3                   1848519.4   \n",
       "4                         NaN   \n",
       "...                       ...   \n",
       "16639               5099274.9   \n",
       "16640               3017000.3   \n",
       "16641               2969100.0   \n",
       "16642               3333200.0   \n",
       "16643                394383.3   \n",
       "\n",
       "       weather_normalized_site_natural_gas_use_(therms)  ...  \\\n",
       "0                                               16672.2  ...   \n",
       "1                                               23243.7  ...   \n",
       "2                                               86776.9  ...   \n",
       "3                                               20520.9  ...   \n",
       "4                                                   NaN  ...   \n",
       "...                                                 ...  ...   \n",
       "16639                                           54191.7  ...   \n",
       "16640                                           32981.3  ...   \n",
       "16641                                           32420.7  ...   \n",
       "16642                                           35467.9  ...   \n",
       "16643                                            3943.8  ...   \n",
       "\n",
       "       number_of_buildings  self-reported_gross_floor_area_(ft)  age  \\\n",
       "0                        1                               169416  114   \n",
       "1                        1                                94380   60   \n",
       "2                        1                               125000   24   \n",
       "3                        1                                50000   29   \n",
       "4                        1                                50000   11   \n",
       "...                    ...                                  ...  ...   \n",
       "16639                    1                                51960   60   \n",
       "16640                    1                                32800   92   \n",
       "16641                    1                                32350   98   \n",
       "16642                    1                                33800   97   \n",
       "16643                    1                               263259  113   \n",
       "\n",
       "       postal_code  primary_property_type_-_self_selected    borough  \\\n",
       "0            10019                                 Office  Manhattan   \n",
       "1            11373                            K-12 School     Queens   \n",
       "2       10001-7507                                  Hotel  Manhattan   \n",
       "3            10001                                  Hotel  Manhattan   \n",
       "4            10038                                  Hotel  Manhattan   \n",
       "...            ...                                    ...        ...   \n",
       "16639        11209                    Multifamily Housing   Brooklyn   \n",
       "16640        11226                    Multifamily Housing   Brooklyn   \n",
       "16641        11225                    Multifamily Housing   Brooklyn   \n",
       "16642        11235                    Multifamily Housing   Brooklyn   \n",
       "16643        10022                    Multifamily Housing  Manhattan   \n",
       "\n",
       "       metered_areas_(energy)  largest_property_use_type  AddressNumber  \\\n",
       "0              Whole Building                     Office            224   \n",
       "1              Whole Building                K-12 School          56-25   \n",
       "2              Whole Building                      Hotel           1170   \n",
       "3              Whole Building                      Hotel           1155   \n",
       "4              Whole Building                      Hotel             24   \n",
       "...                       ...                        ...            ...   \n",
       "16639          Whole Building        Multifamily Housing           8301   \n",
       "16640          Whole Building        Multifamily Housing           2802   \n",
       "16641          Whole Building        Multifamily Housing           1116   \n",
       "16642          Whole Building        Multifamily Housing           3033   \n",
       "16643          Whole Building        Multifamily Housing            465   \n",
       "\n",
       "      StreetName  \n",
       "0           57th  \n",
       "1           92nd  \n",
       "2       Broadway  \n",
       "3       Broadway  \n",
       "4           John  \n",
       "...          ...  \n",
       "16639      Ridge  \n",
       "16640  Clarendon  \n",
       "16641    Carroll  \n",
       "16642         13  \n",
       "16643       Park  \n",
       "\n",
       "[16644 rows x 26 columns]"
      ]
     },
     "execution_count": 42,
     "metadata": {},
     "output_type": "execute_result"
    }
   ],
   "source": [
    "data_full"
   ]
  },
  {
   "cell_type": "markdown",
   "id": "9827ff77-bc87-41f3-be56-e38f9b663969",
   "metadata": {},
   "source": [
    "# Validation Strategy"
   ]
  },
  {
   "cell_type": "markdown",
   "id": "8bf5f61a-aba3-416a-8510-01151bafbee1",
   "metadata": {},
   "source": [
    "1. We will use 70% for training, 20% validation and 10% for testing of the final model.\n",
    "2. To optimize hyperparameters we use cross validation on 5 folds, after this the model is validated on the validation set and we assess whether the results on cv and on validation set are comparable."
   ]
  },
  {
   "cell_type": "code",
   "execution_count": 43,
   "id": "d2a3c1f4-f92a-429e-8075-c3f5c63d7764",
   "metadata": {},
   "outputs": [],
   "source": [
    "from sklearn.model_selection import train_test_split"
   ]
  },
  {
   "cell_type": "code",
   "execution_count": 44,
   "id": "dd0fb1e8-527d-41a0-8a68-2fc8cb788b22",
   "metadata": {},
   "outputs": [],
   "source": [
    "_bins = [0, np.quantile(data_full['energy_star_score'], 0.3), np.quantile(data_full['energy_star_score'], 0.6), max(data_full['energy_star_score'])]\n",
    "                                                                                                                    \n",
    "data_full['label_for_target_var'] = pd.cut(data_full['energy_star_score'], bins=_bins, labels=False)"
   ]
  },
  {
   "cell_type": "code",
   "execution_count": 45,
   "id": "6f21ed0d-b362-421f-af33-8bc2da06777e",
   "metadata": {},
   "outputs": [],
   "source": [
    "train_full, test_full = train_test_split(data_full, test_size=0.1, stratify=data_full['label_for_target_var'])"
   ]
  },
  {
   "cell_type": "code",
   "execution_count": 46,
   "id": "2d7912c8-071a-4296-82f7-a77105080dbc",
   "metadata": {},
   "outputs": [
    {
     "data": {
      "image/png": "[encoded data removed]",
      "text/plain": [
       "<Figure size 640x480 with 2 Axes>"
      ]
     },
     "metadata": {},
     "output_type": "display_data"
    }
   ],
   "source": [
    "# We indeed have stratified samples:\n",
    "fig, ax = plt.subplots(1,2)\n",
    "ax[0].hist(train_full.label_for_target_var, density=True);\n",
    "ax[1].hist(test_full.label_for_target_var, density=True);"
   ]
  },
  {
   "cell_type": "code",
   "execution_count": 47,
   "id": "c5541420-fb1b-4014-b383-cde9e61383be",
   "metadata": {},
   "outputs": [],
   "source": [
    "train, val = train_test_split(train_full, test_size=0.3, stratify=train_full.label_for_target_var)"
   ]
  },
  {
   "cell_type": "markdown",
   "id": "cfae72fc-cc2b-411c-a90c-26f7f754015f",
   "metadata": {},
   "source": [
    "### Feature preprocessing"
   ]
  },
  {
   "cell_type": "markdown",
   "id": "e64ee2b3-b701-4358-9d0a-3e95c99502cf",
   "metadata": {},
   "source": [
    "I could not think about good new features, so we use just preprocessing. Moreover I have tried lots of possibilities for preprocessing "
   ]
  },
  {
   "cell_type": "code",
   "execution_count": 48,
   "id": "6210627c-3b82-48e3-a5f4-91906b8afea8",
   "metadata": {},
   "outputs": [],
   "source": [
    "numerical_columns.remove('energy_star_score')"
   ]
  },
  {
   "cell_type": "code",
   "execution_count": 49,
   "id": "ba4176e8-16bf-4489-8f66-184b8b76efb7",
   "metadata": {},
   "outputs": [],
   "source": [
    "numeric_transformer = Pipeline(\n",
    "    steps=[(\"imputer\", SimpleImputer(strategy=\"constant\", fill_value=0)), (\"scaler\", StandardScaler())]\n",
    ")\n",
    "\n",
    "categorical_transformer = Pipeline(\n",
    "    steps=[\n",
    "        ('imputer', SimpleImputer(strategy=\"constant\", fill_value='No')),\n",
    "        ('encoder', OneHotEncoder(handle_unknown='infrequent_if_exist', min_frequency=3)),\n",
    "    ]\n",
    ")\n",
    "preprocessor = ColumnTransformer(\n",
    "    transformers=[\n",
    "        (\"num\", numeric_transformer, numerical_columns),\n",
    "        (\"cat\", categorical_transformer, categorical_variables),\n",
    "    ],\n",
    "    remainder='drop'\n",
    ")"
   ]
  },
  {
   "cell_type": "code",
   "execution_count": 50,
   "id": "5d888826-d938-409c-a78e-acec9d34fb2b",
   "metadata": {},
   "outputs": [],
   "source": [
    "X_train = train.drop(columns=['energy_star_score', 'label_for_target_var'])\n",
    "y_train = train['energy_star_score']\n",
    "\n",
    "X_val = val.drop(columns=['energy_star_score', 'label_for_target_var'])\n",
    "y_val = val['energy_star_score']"
   ]
  },
  {
   "cell_type": "code",
   "execution_count": 51,
   "id": "690bec17-ca8b-443c-bf76-8e19d8468e17",
   "metadata": {},
   "outputs": [
    {
     "data": {
      "text/html": [
       "<style>#sk-container-id-1 {color: black;}#sk-container-id-1 pre{padding: 0;}#sk-container-id-1 div.sk-toggleable {background-color: white;}#sk-container-id-1 label.sk-toggleable__label {cursor: pointer;display: block;width: 100%;margin-bottom: 0;padding: 0.3em;box-sizing: border-box;text-align: center;}#sk-container-id-1 label.sk-toggleable__label-arrow:before {content: \"▸\";float: left;margin-right: 0.25em;color: #696969;}#sk-container-id-1 label.sk-toggleable__label-arrow:hover:before {color: black;}#sk-container-id-1 div.sk-estimator:hover label.sk-toggleable__label-arrow:before {color: black;}#sk-container-id-1 div.sk-toggleable__content {max-height: 0;max-width: 0;overflow: hidden;text-align: left;background-color: #f0f8ff;}#sk-container-id-1 div.sk-toggleable__content pre {margin: 0.2em;color: black;border-radius: 0.25em;background-color: #f0f8ff;}#sk-container-id-1 input.sk-toggleable__control:checked~div.sk-toggleable__content {max-height: 200px;max-width: 100%;overflow: auto;}#sk-container-id-1 input.sk-toggleable__control:checked~label.sk-toggleable__label-arrow:before {content: \"▾\";}#sk-container-id-1 div.sk-estimator input.sk-toggleable__control:checked~label.sk-toggleable__label {background-color: #d4ebff;}#sk-container-id-1 div.sk-label input.sk-toggleable__control:checked~label.sk-toggleable__label {background-color: #d4ebff;}#sk-container-id-1 input.sk-hidden--visually {border: 0;clip: rect(1px 1px 1px 1px);clip: rect(1px, 1px, 1px, 1px);height: 1px;margin: -1px;overflow: hidden;padding: 0;position: absolute;width: 1px;}#sk-container-id-1 div.sk-estimator {font-family: monospace;background-color: #f0f8ff;border: 1px dotted black;border-radius: 0.25em;box-sizing: border-box;margin-bottom: 0.5em;}#sk-container-id-1 div.sk-estimator:hover {background-color: #d4ebff;}#sk-container-id-1 div.sk-parallel-item::after {content: \"\";width: 100%;border-bottom: 1px solid gray;flex-grow: 1;}#sk-container-id-1 div.sk-label:hover label.sk-toggleable__label {background-color: #d4ebff;}#sk-container-id-1 div.sk-serial::before {content: \"\";position: absolute;border-left: 1px solid gray;box-sizing: border-box;top: 0;bottom: 0;left: 50%;z-index: 0;}#sk-container-id-1 div.sk-serial {display: flex;flex-direction: column;align-items: center;background-color: white;padding-right: 0.2em;padding-left: 0.2em;position: relative;}#sk-container-id-1 div.sk-item {position: relative;z-index: 1;}#sk-container-id-1 div.sk-parallel {display: flex;align-items: stretch;justify-content: center;background-color: white;position: relative;}#sk-container-id-1 div.sk-item::before, #sk-container-id-1 div.sk-parallel-item::before {content: \"\";position: absolute;border-left: 1px solid gray;box-sizing: border-box;top: 0;bottom: 0;left: 50%;z-index: -1;}#sk-container-id-1 div.sk-parallel-item {display: flex;flex-direction: column;z-index: 1;position: relative;background-color: white;}#sk-container-id-1 div.sk-parallel-item:first-child::after {align-self: flex-end;width: 50%;}#sk-container-id-1 div.sk-parallel-item:last-child::after {align-self: flex-start;width: 50%;}#sk-container-id-1 div.sk-parallel-item:only-child::after {width: 0;}#sk-container-id-1 div.sk-dashed-wrapped {border: 1px dashed gray;margin: 0 0.4em 0.5em 0.4em;box-sizing: border-box;padding-bottom: 0.4em;background-color: white;}#sk-container-id-1 div.sk-label label {font-family: monospace;font-weight: bold;display: inline-block;line-height: 1.2em;}#sk-container-id-1 div.sk-label-container {text-align: center;}#sk-container-id-1 div.sk-container {/* jupyter's `normalize.less` sets `[hidden] { display: none; }` but bootstrap.min.css set `[hidden] { display: none !important; }` so we also need the `!important` here to be able to override the default hidden behavior on the sphinx rendered scikit-learn.org. See: https://github.com/scikit-learn/scikit-learn/issues/21755 */display: inline-block !important;position: relative;}#sk-container-id-1 div.sk-text-repr-fallback {display: none;}</style><div id=\"sk-container-id-1\" class=\"sk-top-container\"><div class=\"sk-text-repr-fallback\"><pre>ColumnTransformer(transformers=[(&#x27;num&#x27;,\n",
       "                                 Pipeline(steps=[(&#x27;imputer&#x27;,\n",
       "                                                  SimpleImputer(strategy=&#x27;median&#x27;)),\n",
       "                                                 (&#x27;scaler&#x27;, StandardScaler())]),\n",
       "                                 [&#x27;largest_property_use_type_-_gross_floor_area_(ft)&#x27;,\n",
       "                                  &#x27;source_eui_(kbtu/ft)&#x27;,\n",
       "                                  &#x27;weather_normalized_source_eui_(kbtu/ft)&#x27;,\n",
       "                                  &#x27;site_eui_(kbtu/ft)&#x27;,\n",
       "                                  &#x27;weather_normalized_site_eui_(kbtu/ft)&#x27;,\n",
       "                                  &#x27;weather_normalized_site_electricity_inte...\n",
       "                                  &#x27;indirect_ghg_emissions_(metric_tons_co2e)&#x27;,\n",
       "                                  &#x27;occupancy&#x27;, &#x27;number_of_buildings&#x27;,\n",
       "                                  &#x27;self-reported_gross_floor_area_(ft)&#x27;,\n",
       "                                  &#x27;age&#x27;]),\n",
       "                                (&#x27;cat&#x27;,\n",
       "                                 Pipeline(steps=[(&#x27;encoder&#x27;,\n",
       "                                                  OneHotEncoder(handle_unknown=&#x27;infrequent_if_exist&#x27;,\n",
       "                                                                min_frequency=3))]),\n",
       "                                 [&#x27;postal_code&#x27;,\n",
       "                                  &#x27;primary_property_type_-_self_selected&#x27;,\n",
       "                                  &#x27;borough&#x27;, &#x27;metered_areas_(energy)&#x27;,\n",
       "                                  &#x27;largest_property_use_type&#x27;, &#x27;AddressNumber&#x27;,\n",
       "                                  &#x27;StreetName&#x27;])])</pre><b>In a Jupyter environment, please rerun this cell to show the HTML representation or trust the notebook. <br />On GitHub, the HTML representation is unable to render, please try loading this page with nbviewer.org.</b></div><div class=\"sk-container\" hidden><div class=\"sk-item sk-dashed-wrapped\"><div class=\"sk-label-container\"><div class=\"sk-label sk-toggleable\"><input class=\"sk-toggleable__control sk-hidden--visually\" id=\"sk-estimator-id-1\" type=\"checkbox\" ><label for=\"sk-estimator-id-1\" class=\"sk-toggleable__label sk-toggleable__label-arrow\">ColumnTransformer</label><div class=\"sk-toggleable__content\"><pre>ColumnTransformer(transformers=[(&#x27;num&#x27;,\n",
       "                                 Pipeline(steps=[(&#x27;imputer&#x27;,\n",
       "                                                  SimpleImputer(strategy=&#x27;median&#x27;)),\n",
       "                                                 (&#x27;scaler&#x27;, StandardScaler())]),\n",
       "                                 [&#x27;largest_property_use_type_-_gross_floor_area_(ft)&#x27;,\n",
       "                                  &#x27;source_eui_(kbtu/ft)&#x27;,\n",
       "                                  &#x27;weather_normalized_source_eui_(kbtu/ft)&#x27;,\n",
       "                                  &#x27;site_eui_(kbtu/ft)&#x27;,\n",
       "                                  &#x27;weather_normalized_site_eui_(kbtu/ft)&#x27;,\n",
       "                                  &#x27;weather_normalized_site_electricity_inte...\n",
       "                                  &#x27;indirect_ghg_emissions_(metric_tons_co2e)&#x27;,\n",
       "                                  &#x27;occupancy&#x27;, &#x27;number_of_buildings&#x27;,\n",
       "                                  &#x27;self-reported_gross_floor_area_(ft)&#x27;,\n",
       "                                  &#x27;age&#x27;]),\n",
       "                                (&#x27;cat&#x27;,\n",
       "                                 Pipeline(steps=[(&#x27;encoder&#x27;,\n",
       "                                                  OneHotEncoder(handle_unknown=&#x27;infrequent_if_exist&#x27;,\n",
       "                                                                min_frequency=3))]),\n",
       "                                 [&#x27;postal_code&#x27;,\n",
       "                                  &#x27;primary_property_type_-_self_selected&#x27;,\n",
       "                                  &#x27;borough&#x27;, &#x27;metered_areas_(energy)&#x27;,\n",
       "                                  &#x27;largest_property_use_type&#x27;, &#x27;AddressNumber&#x27;,\n",
       "                                  &#x27;StreetName&#x27;])])</pre></div></div></div><div class=\"sk-parallel\"><div class=\"sk-parallel-item\"><div class=\"sk-item\"><div class=\"sk-label-container\"><div class=\"sk-label sk-toggleable\"><input class=\"sk-toggleable__control sk-hidden--visually\" id=\"sk-estimator-id-2\" type=\"checkbox\" ><label for=\"sk-estimator-id-2\" class=\"sk-toggleable__label sk-toggleable__label-arrow\">num</label><div class=\"sk-toggleable__content\"><pre>[&#x27;largest_property_use_type_-_gross_floor_area_(ft)&#x27;, &#x27;source_eui_(kbtu/ft)&#x27;, &#x27;weather_normalized_source_eui_(kbtu/ft)&#x27;, &#x27;site_eui_(kbtu/ft)&#x27;, &#x27;weather_normalized_site_eui_(kbtu/ft)&#x27;, &#x27;weather_normalized_site_electricity_intensity_(kwh/ft)&#x27;, &#x27;weather_normalized_site_natural_gas_intensity_(therms/ft)&#x27;, &#x27;natural_gas_use_(kbtu)&#x27;, &#x27;weather_normalized_site_natural_gas_use_(therms)&#x27;, &#x27;electricity_use_-_grid_purchase_(kwh)&#x27;, &#x27;weather_normalized_site_electricity_(kwh)&#x27;, &#x27;total_ghg_emissions_(metric_tons_co2e)&#x27;, &#x27;direct_ghg_emissions_(metric_tons_co2e)&#x27;, &#x27;indirect_ghg_emissions_(metric_tons_co2e)&#x27;, &#x27;occupancy&#x27;, &#x27;number_of_buildings&#x27;, &#x27;self-reported_gross_floor_area_(ft)&#x27;, &#x27;age&#x27;]</pre></div></div></div><div class=\"sk-serial\"><div class=\"sk-item\"><div class=\"sk-serial\"><div class=\"sk-item\"><div class=\"sk-estimator sk-toggleable\"><input class=\"sk-toggleable__control sk-hidden--visually\" id=\"sk-estimator-id-3\" type=\"checkbox\" ><label for=\"sk-estimator-id-3\" class=\"sk-toggleable__label sk-toggleable__label-arrow\">SimpleImputer</label><div class=\"sk-toggleable__content\"><pre>SimpleImputer(strategy=&#x27;median&#x27;)</pre></div></div></div><div class=\"sk-item\"><div class=\"sk-estimator sk-toggleable\"><input class=\"sk-toggleable__control sk-hidden--visually\" id=\"sk-estimator-id-4\" type=\"checkbox\" ><label for=\"sk-estimator-id-4\" class=\"sk-toggleable__label sk-toggleable__label-arrow\">StandardScaler</label><div class=\"sk-toggleable__content\"><pre>StandardScaler()</pre></div></div></div></div></div></div></div></div><div class=\"sk-parallel-item\"><div class=\"sk-item\"><div class=\"sk-label-container\"><div class=\"sk-label sk-toggleable\"><input class=\"sk-toggleable__control sk-hidden--visually\" id=\"sk-estimator-id-5\" type=\"checkbox\" ><label for=\"sk-estimator-id-5\" class=\"sk-toggleable__label sk-toggleable__label-arrow\">cat</label><div class=\"sk-toggleable__content\"><pre>[&#x27;postal_code&#x27;, &#x27;primary_property_type_-_self_selected&#x27;, &#x27;borough&#x27;, &#x27;metered_areas_(energy)&#x27;, &#x27;largest_property_use_type&#x27;, &#x27;AddressNumber&#x27;, &#x27;StreetName&#x27;]</pre></div></div></div><div class=\"sk-serial\"><div class=\"sk-item\"><div class=\"sk-serial\"><div class=\"sk-item\"><div class=\"sk-estimator sk-toggleable\"><input class=\"sk-toggleable__control sk-hidden--visually\" id=\"sk-estimator-id-6\" type=\"checkbox\" ><label for=\"sk-estimator-id-6\" class=\"sk-toggleable__label sk-toggleable__label-arrow\">OneHotEncoder</label><div class=\"sk-toggleable__content\"><pre>OneHotEncoder(handle_unknown=&#x27;infrequent_if_exist&#x27;, min_frequency=3)</pre></div></div></div></div></div></div></div></div></div></div></div></div>"
      ],
      "text/plain": [
       "ColumnTransformer(transformers=[('num',\n",
       "                                 Pipeline(steps=[('imputer',\n",
       "                                                  SimpleImputer(strategy='median')),\n",
       "                                                 ('scaler', StandardScaler())]),\n",
       "                                 ['largest_property_use_type_-_gross_floor_area_(ft)',\n",
       "                                  'source_eui_(kbtu/ft)',\n",
       "                                  'weather_normalized_source_eui_(kbtu/ft)',\n",
       "                                  'site_eui_(kbtu/ft)',\n",
       "                                  'weather_normalized_site_eui_(kbtu/ft)',\n",
       "                                  'weather_normalized_site_electricity_inte...\n",
       "                                  'indirect_ghg_emissions_(metric_tons_co2e)',\n",
       "                                  'occupancy', 'number_of_buildings',\n",
       "                                  'self-reported_gross_floor_area_(ft)',\n",
       "                                  'age']),\n",
       "                                ('cat',\n",
       "                                 Pipeline(steps=[('encoder',\n",
       "                                                  OneHotEncoder(handle_unknown='infrequent_if_exist',\n",
       "                                                                min_frequency=3))]),\n",
       "                                 ['postal_code',\n",
       "                                  'primary_property_type_-_self_selected',\n",
       "                                  'borough', 'metered_areas_(energy)',\n",
       "                                  'largest_property_use_type', 'AddressNumber',\n",
       "                                  'StreetName'])])"
      ]
     },
     "execution_count": 51,
     "metadata": {},
     "output_type": "execute_result"
    }
   ],
   "source": [
    "preprocessor.fit(X_train, y_train)"
   ]
  },
  {
   "cell_type": "code",
   "execution_count": 52,
   "id": "6b1df1bc-f9cc-4e23-92a0-7d104b99716d",
   "metadata": {},
   "outputs": [],
   "source": [
    "X_train_preprocessed = preprocessor.transform(X_train)"
   ]
  },
  {
   "cell_type": "code",
   "execution_count": 53,
   "id": "7704294f-ddbe-4b33-9e51-88539cbdbb2c",
   "metadata": {},
   "outputs": [],
   "source": [
    "X_val_preprocessed  = preprocessor.transform(X_val)"
   ]
  },
  {
   "cell_type": "markdown",
   "id": "48aa544e-fbc5-4b8d-92f6-ec169486dea0",
   "metadata": {},
   "source": [
    "### Attempt 0: Lasso Regression"
   ]
  },
  {
   "cell_type": "code",
   "execution_count": 54,
   "id": "1d8d7c3f-87ea-4501-b80a-4ebf6caaf0a7",
   "metadata": {},
   "outputs": [],
   "source": [
    "numeric_transformer = Pipeline(\n",
    "    steps=[(\"imputer\", SimpleImputer(strategy=\"median\")), (\"scaler\", StandardScaler())]\n",
    ")\n",
    "\n",
    "categorical_transformer = Pipeline(\n",
    "    steps=[\n",
    "        (\"imputer\", SimpleImputer(strategy='constant', fill_value='Missed')),\n",
    "        (\"encoder\", TargetEncoder(target_type='continuous', random_state=42)),\n",
    "        (\"scaler\", StandardScaler())\n",
    "            ]\n",
    ")\n",
    "preprocessor_lasso = ColumnTransformer(\n",
    "    transformers=[\n",
    "        (\"num\", numeric_transformer, numerical_columns),\n",
    "        (\"cat\", categorical_transformer, categorical_variables),\n",
    "    ],\n",
    "    remainder='drop'\n",
    ")"
   ]
  },
  {
   "cell_type": "code",
   "execution_count": 55,
   "id": "255a4272-f32f-4bcd-b3df-41dd6d9663fa",
   "metadata": {},
   "outputs": [],
   "source": [
    "preprocessor_lasso.fit(X_train, y_train)\n",
    "X_train_preprocessed_lasso = preprocessor_lasso.transform(X_train)\n",
    "X_val_preprocessed_lasso  = preprocessor_lasso.transform(X_val)"
   ]
  },
  {
   "cell_type": "code",
   "execution_count": 56,
   "id": "e2a2e70a-59e4-4093-a163-54eeda5d22c7",
   "metadata": {},
   "outputs": [],
   "source": [
    "lasso = Lasso(random_state=42, max_iter=5000)\n",
    "param_lasso = {\n",
    "    'alpha': [10**(-4), 10**(-3), 10**(-2), 10**(-1), 1, 5, 10,100]\n",
    "}"
   ]
  },
  {
   "cell_type": "code",
   "execution_count": 57,
   "id": "a67b8337-5b93-4fd7-95e3-0dc2bfb60922",
   "metadata": {},
   "outputs": [],
   "source": [
    "grid_search = GridSearchCV(lasso, \n",
    "                 param_lasso, \n",
    "                 scoring='neg_mean_squared_error', \n",
    "                 n_jobs=-1, \n",
    "                 refit=True, \n",
    "                 cv=5, \n",
    "                 verbose=2)"
   ]
  },
  {
   "cell_type": "code",
   "execution_count": 58,
   "id": "2928e229-6620-4132-bee3-ae7f6929866e",
   "metadata": {},
   "outputs": [
    {
     "name": "stdout",
     "output_type": "stream",
     "text": [
      "Fitting 5 folds for each of 8 candidates, totalling 40 fits\n"
     ]
    },
    {
     "name": "stderr",
     "output_type": "stream",
     "text": [
      "/home/taras/.local/share/virtualenvs/ml-zoomcamp-hw-BtHUIWoS/lib/python3.10/site-packages/sklearn/linear_model/_coordinate_descent.py:628: ConvergenceWarning: Objective did not converge. You might want to increase the number of iterations, check the scale of the features or consider increasing regularisation. Duality gap: 1.713e+06, tolerance: 8.395e+02\n",
      "  model = cd_fast.enet_coordinate_descent(\n",
      "/home/taras/.local/share/virtualenvs/ml-zoomcamp-hw-BtHUIWoS/lib/python3.10/site-packages/sklearn/linear_model/_coordinate_descent.py:628: ConvergenceWarning: Objective did not converge. You might want to increase the number of iterations, check the scale of the features or consider increasing regularisation. Duality gap: 1.672e+06, tolerance: 8.381e+02\n",
      "  model = cd_fast.enet_coordinate_descent(\n",
      "/home/taras/.local/share/virtualenvs/ml-zoomcamp-hw-BtHUIWoS/lib/python3.10/site-packages/sklearn/linear_model/_coordinate_descent.py:628: ConvergenceWarning: Objective did not converge. You might want to increase the number of iterations, check the scale of the features or consider increasing regularisation. Duality gap: 1.479e+06, tolerance: 8.415e+02\n",
      "  model = cd_fast.enet_coordinate_descent(\n",
      "/home/taras/.local/share/virtualenvs/ml-zoomcamp-hw-BtHUIWoS/lib/python3.10/site-packages/sklearn/linear_model/_coordinate_descent.py:628: ConvergenceWarning: Objective did not converge. You might want to increase the number of iterations, check the scale of the features or consider increasing regularisation. Duality gap: 1.667e+06, tolerance: 8.429e+02\n",
      "  model = cd_fast.enet_coordinate_descent(\n",
      "/home/taras/.local/share/virtualenvs/ml-zoomcamp-hw-BtHUIWoS/lib/python3.10/site-packages/sklearn/linear_model/_coordinate_descent.py:628: ConvergenceWarning: Objective did not converge. You might want to increase the number of iterations, check the scale of the features or consider increasing regularisation. Duality gap: 1.449e+06, tolerance: 8.446e+02\n",
      "  model = cd_fast.enet_coordinate_descent(\n",
      "/home/taras/.local/share/virtualenvs/ml-zoomcamp-hw-BtHUIWoS/lib/python3.10/site-packages/sklearn/linear_model/_coordinate_descent.py:628: ConvergenceWarning: Objective did not converge. You might want to increase the number of iterations, check the scale of the features or consider increasing regularisation. Duality gap: 1.222e+06, tolerance: 8.395e+02\n",
      "  model = cd_fast.enet_coordinate_descent(\n",
      "/home/taras/.local/share/virtualenvs/ml-zoomcamp-hw-BtHUIWoS/lib/python3.10/site-packages/sklearn/linear_model/_coordinate_descent.py:628: ConvergenceWarning: Objective did not converge. You might want to increase the number of iterations, check the scale of the features or consider increasing regularisation. Duality gap: 9.665e+05, tolerance: 8.381e+02\n",
      "  model = cd_fast.enet_coordinate_descent(\n",
      "/home/taras/.local/share/virtualenvs/ml-zoomcamp-hw-BtHUIWoS/lib/python3.10/site-packages/sklearn/linear_model/_coordinate_descent.py:628: ConvergenceWarning: Objective did not converge. You might want to increase the number of iterations, check the scale of the features or consider increasing regularisation. Duality gap: 1.209e+06, tolerance: 8.429e+02\n",
      "  model = cd_fast.enet_coordinate_descent(\n",
      "/home/taras/.local/share/virtualenvs/ml-zoomcamp-hw-BtHUIWoS/lib/python3.10/site-packages/sklearn/linear_model/_coordinate_descent.py:628: ConvergenceWarning: Objective did not converge. You might want to increase the number of iterations, check the scale of the features or consider increasing regularisation. Duality gap: 9.416e+05, tolerance: 8.446e+02\n",
      "  model = cd_fast.enet_coordinate_descent(\n"
     ]
    },
    {
     "data": {
      "text/html": [
       "<style>#sk-container-id-2 {color: black;}#sk-container-id-2 pre{padding: 0;}#sk-container-id-2 div.sk-toggleable {background-color: white;}#sk-container-id-2 label.sk-toggleable__label {cursor: pointer;display: block;width: 100%;margin-bottom: 0;padding: 0.3em;box-sizing: border-box;text-align: center;}#sk-container-id-2 label.sk-toggleable__label-arrow:before {content: \"▸\";float: left;margin-right: 0.25em;color: #696969;}#sk-container-id-2 label.sk-toggleable__label-arrow:hover:before {color: black;}#sk-container-id-2 div.sk-estimator:hover label.sk-toggleable__label-arrow:before {color: black;}#sk-container-id-2 div.sk-toggleable__content {max-height: 0;max-width: 0;overflow: hidden;text-align: left;background-color: #f0f8ff;}#sk-container-id-2 div.sk-toggleable__content pre {margin: 0.2em;color: black;border-radius: 0.25em;background-color: #f0f8ff;}#sk-container-id-2 input.sk-toggleable__control:checked~div.sk-toggleable__content {max-height: 200px;max-width: 100%;overflow: auto;}#sk-container-id-2 input.sk-toggleable__control:checked~label.sk-toggleable__label-arrow:before {content: \"▾\";}#sk-container-id-2 div.sk-estimator input.sk-toggleable__control:checked~label.sk-toggleable__label {background-color: #d4ebff;}#sk-container-id-2 div.sk-label input.sk-toggleable__control:checked~label.sk-toggleable__label {background-color: #d4ebff;}#sk-container-id-2 input.sk-hidden--visually {border: 0;clip: rect(1px 1px 1px 1px);clip: rect(1px, 1px, 1px, 1px);height: 1px;margin: -1px;overflow: hidden;padding: 0;position: absolute;width: 1px;}#sk-container-id-2 div.sk-estimator {font-family: monospace;background-color: #f0f8ff;border: 1px dotted black;border-radius: 0.25em;box-sizing: border-box;margin-bottom: 0.5em;}#sk-container-id-2 div.sk-estimator:hover {background-color: #d4ebff;}#sk-container-id-2 div.sk-parallel-item::after {content: \"\";width: 100%;border-bottom: 1px solid gray;flex-grow: 1;}#sk-container-id-2 div.sk-label:hover label.sk-toggleable__label {background-color: #d4ebff;}#sk-container-id-2 div.sk-serial::before {content: \"\";position: absolute;border-left: 1px solid gray;box-sizing: border-box;top: 0;bottom: 0;left: 50%;z-index: 0;}#sk-container-id-2 div.sk-serial {display: flex;flex-direction: column;align-items: center;background-color: white;padding-right: 0.2em;padding-left: 0.2em;position: relative;}#sk-container-id-2 div.sk-item {position: relative;z-index: 1;}#sk-container-id-2 div.sk-parallel {display: flex;align-items: stretch;justify-content: center;background-color: white;position: relative;}#sk-container-id-2 div.sk-item::before, #sk-container-id-2 div.sk-parallel-item::before {content: \"\";position: absolute;border-left: 1px solid gray;box-sizing: border-box;top: 0;bottom: 0;left: 50%;z-index: -1;}#sk-container-id-2 div.sk-parallel-item {display: flex;flex-direction: column;z-index: 1;position: relative;background-color: white;}#sk-container-id-2 div.sk-parallel-item:first-child::after {align-self: flex-end;width: 50%;}#sk-container-id-2 div.sk-parallel-item:last-child::after {align-self: flex-start;width: 50%;}#sk-container-id-2 div.sk-parallel-item:only-child::after {width: 0;}#sk-container-id-2 div.sk-dashed-wrapped {border: 1px dashed gray;margin: 0 0.4em 0.5em 0.4em;box-sizing: border-box;padding-bottom: 0.4em;background-color: white;}#sk-container-id-2 div.sk-label label {font-family: monospace;font-weight: bold;display: inline-block;line-height: 1.2em;}#sk-container-id-2 div.sk-label-container {text-align: center;}#sk-container-id-2 div.sk-container {/* jupyter's `normalize.less` sets `[hidden] { display: none; }` but bootstrap.min.css set `[hidden] { display: none !important; }` so we also need the `!important` here to be able to override the default hidden behavior on the sphinx rendered scikit-learn.org. See: https://github.com/scikit-learn/scikit-learn/issues/21755 */display: inline-block !important;position: relative;}#sk-container-id-2 div.sk-text-repr-fallback {display: none;}</style><div id=\"sk-container-id-2\" class=\"sk-top-container\"><div class=\"sk-text-repr-fallback\"><pre>GridSearchCV(cv=5, estimator=Lasso(max_iter=5000, random_state=42), n_jobs=-1,\n",
       "             param_grid={&#x27;alpha&#x27;: [0.0001, 0.001, 0.01, 0.1, 1, 5, 10, 100]},\n",
       "             scoring=&#x27;neg_mean_squared_error&#x27;, verbose=2)</pre><b>In a Jupyter environment, please rerun this cell to show the HTML representation or trust the notebook. <br />On GitHub, the HTML representation is unable to render, please try loading this page with nbviewer.org.</b></div><div class=\"sk-container\" hidden><div class=\"sk-item sk-dashed-wrapped\"><div class=\"sk-label-container\"><div class=\"sk-label sk-toggleable\"><input class=\"sk-toggleable__control sk-hidden--visually\" id=\"sk-estimator-id-7\" type=\"checkbox\" ><label for=\"sk-estimator-id-7\" class=\"sk-toggleable__label sk-toggleable__label-arrow\">GridSearchCV</label><div class=\"sk-toggleable__content\"><pre>GridSearchCV(cv=5, estimator=Lasso(max_iter=5000, random_state=42), n_jobs=-1,\n",
       "             param_grid={&#x27;alpha&#x27;: [0.0001, 0.001, 0.01, 0.1, 1, 5, 10, 100]},\n",
       "             scoring=&#x27;neg_mean_squared_error&#x27;, verbose=2)</pre></div></div></div><div class=\"sk-parallel\"><div class=\"sk-parallel-item\"><div class=\"sk-item\"><div class=\"sk-label-container\"><div class=\"sk-label sk-toggleable\"><input class=\"sk-toggleable__control sk-hidden--visually\" id=\"sk-estimator-id-8\" type=\"checkbox\" ><label for=\"sk-estimator-id-8\" class=\"sk-toggleable__label sk-toggleable__label-arrow\">estimator: Lasso</label><div class=\"sk-toggleable__content\"><pre>Lasso(max_iter=5000, random_state=42)</pre></div></div></div><div class=\"sk-serial\"><div class=\"sk-item\"><div class=\"sk-estimator sk-toggleable\"><input class=\"sk-toggleable__control sk-hidden--visually\" id=\"sk-estimator-id-9\" type=\"checkbox\" ><label for=\"sk-estimator-id-9\" class=\"sk-toggleable__label sk-toggleable__label-arrow\">Lasso</label><div class=\"sk-toggleable__content\"><pre>Lasso(max_iter=5000, random_state=42)</pre></div></div></div></div></div></div></div></div></div></div>"
      ],
      "text/plain": [
       "GridSearchCV(cv=5, estimator=Lasso(max_iter=5000, random_state=42), n_jobs=-1,\n",
       "             param_grid={'alpha': [0.0001, 0.001, 0.01, 0.1, 1, 5, 10, 100]},\n",
       "             scoring='neg_mean_squared_error', verbose=2)"
      ]
     },
     "execution_count": 58,
     "metadata": {},
     "output_type": "execute_result"
    }
   ],
   "source": [
    "grid_search.fit(X_train_preprocessed_lasso, y_train)"
   ]
  },
  {
   "cell_type": "code",
   "execution_count": 59,
   "id": "3ae3273b-bb46-4a67-b18c-a3990d49b7e1",
   "metadata": {},
   "outputs": [
    {
     "data": {
      "text/plain": [
       "(-528.915041391823, {'alpha': 5})"
      ]
     },
     "execution_count": 59,
     "metadata": {},
     "output_type": "execute_result"
    }
   ],
   "source": [
    "grid_search.best_score_, grid_search.best_params_"
   ]
  },
  {
   "cell_type": "code",
   "execution_count": 60,
   "id": "434e34f9-42ff-4a69-b2df-41f749d27509",
   "metadata": {},
   "outputs": [
    {
     "data": {
      "text/plain": [
       "33.44004451337232"
      ]
     },
     "execution_count": 60,
     "metadata": {},
     "output_type": "execute_result"
    }
   ],
   "source": [
    "mean_squared_error(grid_search.best_estimator_.predict(X_val_preprocessed_lasso), y_val, squared=False)"
   ]
  },
  {
   "cell_type": "code",
   "execution_count": 61,
   "id": "b02c48c1-e0c9-4bef-8d6f-34afe6c4f13c",
   "metadata": {},
   "outputs": [
    {
     "data": {
      "text/plain": [
       "-0.11324933909649237"
      ]
     },
     "execution_count": 61,
     "metadata": {},
     "output_type": "execute_result"
    }
   ],
   "source": [
    "r2_score(y_val, grid_search.best_estimator_.predict(X_val_preprocessed_lasso))"
   ]
  },
  {
   "cell_type": "markdown",
   "id": "e4fd4518-247e-4c38-b39d-3f8cff902114",
   "metadata": {},
   "source": [
    "Conclusion: it is **a very bad model**, that predicts worth than a constant model. This is not surprising, since we even have a warning from "
   ]
  },
  {
   "cell_type": "markdown",
   "id": "810c544f-7e5b-43c1-8385-d669f8a13532",
   "metadata": {},
   "source": [
    "### Attempt 1: SGD Regressor"
   ]
  },
  {
   "cell_type": "code",
   "execution_count": 71,
   "id": "a5d77a77-08a6-44bd-9e84-b82e892a1c41",
   "metadata": {},
   "outputs": [],
   "source": [
    "sgd = SGDRegressor(random_state=42, penalty='l2', learning_rate='constant', max_iter=3000)\n",
    "param_sgd = {\n",
    "    'alpha': [10**2, 10**3, 5*10**2],\n",
    "    'eta0': [10**(-7), 10**(-6), 10**(-4), 10**(-3), 10**(-2), 10**(-1), 1, 5, 10],\n",
    "    'learning_rate': ['constant', 'optimal', 'adaptive']\n",
    "}"
   ]
  },
  {
   "cell_type": "code",
   "execution_count": 73,
   "id": "26cd9382-7613-4bb3-b8ee-bba255d55846",
   "metadata": {},
   "outputs": [],
   "source": [
    "grid_search = GridSearchCV(sgd, \n",
    "                 param_sgd,\n",
    "                 scoring='neg_mean_squared_error',\n",
    "                 n_jobs=-1, \n",
    "                 refit=True, \n",
    "                 cv=5)"
   ]
  },
  {
   "cell_type": "code",
   "execution_count": 74,
   "id": "b514e6e6-4f6e-447c-9a6b-96d1360ae59f",
   "metadata": {},
   "outputs": [
    {
     "name": "stderr",
     "output_type": "stream",
     "text": [
      "/home/taras/.local/share/virtualenvs/ml-zoomcamp-hw-BtHUIWoS/lib/python3.10/site-packages/sklearn/linear_model/_stochastic_gradient.py:1561: ConvergenceWarning: Maximum number of iteration reached before convergence. Consider increasing max_iter to improve the fit.\n",
      "  warnings.warn(\n",
      "/home/taras/.local/share/virtualenvs/ml-zoomcamp-hw-BtHUIWoS/lib/python3.10/site-packages/sklearn/linear_model/_stochastic_gradient.py:1561: ConvergenceWarning: Maximum number of iteration reached before convergence. Consider increasing max_iter to improve the fit.\n",
      "  warnings.warn(\n",
      "/home/taras/.local/share/virtualenvs/ml-zoomcamp-hw-BtHUIWoS/lib/python3.10/site-packages/sklearn/linear_model/_stochastic_gradient.py:1561: ConvergenceWarning: Maximum number of iteration reached before convergence. Consider increasing max_iter to improve the fit.\n",
      "  warnings.warn(\n",
      "/home/taras/.local/share/virtualenvs/ml-zoomcamp-hw-BtHUIWoS/lib/python3.10/site-packages/sklearn/linear_model/_stochastic_gradient.py:1561: ConvergenceWarning: Maximum number of iteration reached before convergence. Consider increasing max_iter to improve the fit.\n",
      "  warnings.warn(\n",
      "/home/taras/.local/share/virtualenvs/ml-zoomcamp-hw-BtHUIWoS/lib/python3.10/site-packages/sklearn/linear_model/_stochastic_gradient.py:1561: ConvergenceWarning: Maximum number of iteration reached before convergence. Consider increasing max_iter to improve the fit.\n",
      "  warnings.warn(\n",
      "/home/taras/.local/share/virtualenvs/ml-zoomcamp-hw-BtHUIWoS/lib/python3.10/site-packages/sklearn/linear_model/_stochastic_gradient.py:1561: ConvergenceWarning: Maximum number of iteration reached before convergence. Consider increasing max_iter to improve the fit.\n",
      "  warnings.warn(\n",
      "/home/taras/.local/share/virtualenvs/ml-zoomcamp-hw-BtHUIWoS/lib/python3.10/site-packages/sklearn/linear_model/_stochastic_gradient.py:1561: ConvergenceWarning: Maximum number of iteration reached before convergence. Consider increasing max_iter to improve the fit.\n",
      "  warnings.warn(\n",
      "/home/taras/.local/share/virtualenvs/ml-zoomcamp-hw-BtHUIWoS/lib/python3.10/site-packages/sklearn/linear_model/_stochastic_gradient.py:1561: ConvergenceWarning: Maximum number of iteration reached before convergence. Consider increasing max_iter to improve the fit.\n",
      "  warnings.warn(\n",
      "/home/taras/.local/share/virtualenvs/ml-zoomcamp-hw-BtHUIWoS/lib/python3.10/site-packages/sklearn/linear_model/_stochastic_gradient.py:1561: ConvergenceWarning: Maximum number of iteration reached before convergence. Consider increasing max_iter to improve the fit.\n",
      "  warnings.warn(\n",
      "/home/taras/.local/share/virtualenvs/ml-zoomcamp-hw-BtHUIWoS/lib/python3.10/site-packages/sklearn/linear_model/_stochastic_gradient.py:1561: ConvergenceWarning: Maximum number of iteration reached before convergence. Consider increasing max_iter to improve the fit.\n",
      "  warnings.warn(\n",
      "/home/taras/.local/share/virtualenvs/ml-zoomcamp-hw-BtHUIWoS/lib/python3.10/site-packages/sklearn/linear_model/_stochastic_gradient.py:1561: ConvergenceWarning: Maximum number of iteration reached before convergence. Consider increasing max_iter to improve the fit.\n",
      "  warnings.warn(\n",
      "/home/taras/.local/share/virtualenvs/ml-zoomcamp-hw-BtHUIWoS/lib/python3.10/site-packages/sklearn/linear_model/_stochastic_gradient.py:1561: ConvergenceWarning: Maximum number of iteration reached before convergence. Consider increasing max_iter to improve the fit.\n",
      "  warnings.warn(\n",
      "/home/taras/.local/share/virtualenvs/ml-zoomcamp-hw-BtHUIWoS/lib/python3.10/site-packages/sklearn/linear_model/_stochastic_gradient.py:1561: ConvergenceWarning: Maximum number of iteration reached before convergence. Consider increasing max_iter to improve the fit.\n",
      "  warnings.warn(\n",
      "/home/taras/.local/share/virtualenvs/ml-zoomcamp-hw-BtHUIWoS/lib/python3.10/site-packages/sklearn/linear_model/_stochastic_gradient.py:1561: ConvergenceWarning: Maximum number of iteration reached before convergence. Consider increasing max_iter to improve the fit.\n",
      "  warnings.warn(\n",
      "/home/taras/.local/share/virtualenvs/ml-zoomcamp-hw-BtHUIWoS/lib/python3.10/site-packages/sklearn/linear_model/_stochastic_gradient.py:1561: ConvergenceWarning: Maximum number of iteration reached before convergence. Consider increasing max_iter to improve the fit.\n",
      "  warnings.warn(\n",
      "/home/taras/.local/share/virtualenvs/ml-zoomcamp-hw-BtHUIWoS/lib/python3.10/site-packages/sklearn/linear_model/_stochastic_gradient.py:1561: ConvergenceWarning: Maximum number of iteration reached before convergence. Consider increasing max_iter to improve the fit.\n",
      "  warnings.warn(\n",
      "/home/taras/.local/share/virtualenvs/ml-zoomcamp-hw-BtHUIWoS/lib/python3.10/site-packages/sklearn/linear_model/_stochastic_gradient.py:1561: ConvergenceWarning: Maximum number of iteration reached before convergence. Consider increasing max_iter to improve the fit.\n",
      "  warnings.warn(\n",
      "/home/taras/.local/share/virtualenvs/ml-zoomcamp-hw-BtHUIWoS/lib/python3.10/site-packages/sklearn/linear_model/_stochastic_gradient.py:1561: ConvergenceWarning: Maximum number of iteration reached before convergence. Consider increasing max_iter to improve the fit.\n",
      "  warnings.warn(\n",
      "/home/taras/.local/share/virtualenvs/ml-zoomcamp-hw-BtHUIWoS/lib/python3.10/site-packages/sklearn/linear_model/_stochastic_gradient.py:1561: ConvergenceWarning: Maximum number of iteration reached before convergence. Consider increasing max_iter to improve the fit.\n",
      "  warnings.warn(\n",
      "/home/taras/.local/share/virtualenvs/ml-zoomcamp-hw-BtHUIWoS/lib/python3.10/site-packages/sklearn/linear_model/_stochastic_gradient.py:1561: ConvergenceWarning: Maximum number of iteration reached before convergence. Consider increasing max_iter to improve the fit.\n",
      "  warnings.warn(\n",
      "/home/taras/.local/share/virtualenvs/ml-zoomcamp-hw-BtHUIWoS/lib/python3.10/site-packages/sklearn/linear_model/_stochastic_gradient.py:1561: ConvergenceWarning: Maximum number of iteration reached before convergence. Consider increasing max_iter to improve the fit.\n",
      "  warnings.warn(\n",
      "/home/taras/.local/share/virtualenvs/ml-zoomcamp-hw-BtHUIWoS/lib/python3.10/site-packages/sklearn/linear_model/_stochastic_gradient.py:1561: ConvergenceWarning: Maximum number of iteration reached before convergence. Consider increasing max_iter to improve the fit.\n",
      "  warnings.warn(\n",
      "/home/taras/.local/share/virtualenvs/ml-zoomcamp-hw-BtHUIWoS/lib/python3.10/site-packages/sklearn/linear_model/_stochastic_gradient.py:1561: ConvergenceWarning: Maximum number of iteration reached before convergence. Consider increasing max_iter to improve the fit.\n",
      "  warnings.warn(\n",
      "/home/taras/.local/share/virtualenvs/ml-zoomcamp-hw-BtHUIWoS/lib/python3.10/site-packages/sklearn/linear_model/_stochastic_gradient.py:1561: ConvergenceWarning: Maximum number of iteration reached before convergence. Consider increasing max_iter to improve the fit.\n",
      "  warnings.warn(\n",
      "/home/taras/.local/share/virtualenvs/ml-zoomcamp-hw-BtHUIWoS/lib/python3.10/site-packages/sklearn/linear_model/_stochastic_gradient.py:1561: ConvergenceWarning: Maximum number of iteration reached before convergence. Consider increasing max_iter to improve the fit.\n",
      "  warnings.warn(\n",
      "/home/taras/.local/share/virtualenvs/ml-zoomcamp-hw-BtHUIWoS/lib/python3.10/site-packages/sklearn/linear_model/_stochastic_gradient.py:1561: ConvergenceWarning: Maximum number of iteration reached before convergence. Consider increasing max_iter to improve the fit.\n",
      "  warnings.warn(\n",
      "/home/taras/.local/share/virtualenvs/ml-zoomcamp-hw-BtHUIWoS/lib/python3.10/site-packages/sklearn/linear_model/_stochastic_gradient.py:1561: ConvergenceWarning: Maximum number of iteration reached before convergence. Consider increasing max_iter to improve the fit.\n",
      "  warnings.warn(\n",
      "/home/taras/.local/share/virtualenvs/ml-zoomcamp-hw-BtHUIWoS/lib/python3.10/site-packages/sklearn/linear_model/_stochastic_gradient.py:1561: ConvergenceWarning: Maximum number of iteration reached before convergence. Consider increasing max_iter to improve the fit.\n",
      "  warnings.warn(\n",
      "/home/taras/.local/share/virtualenvs/ml-zoomcamp-hw-BtHUIWoS/lib/python3.10/site-packages/sklearn/linear_model/_stochastic_gradient.py:1561: ConvergenceWarning: Maximum number of iteration reached before convergence. Consider increasing max_iter to improve the fit.\n",
      "  warnings.warn(\n",
      "/home/taras/.local/share/virtualenvs/ml-zoomcamp-hw-BtHUIWoS/lib/python3.10/site-packages/sklearn/linear_model/_stochastic_gradient.py:1561: ConvergenceWarning: Maximum number of iteration reached before convergence. Consider increasing max_iter to improve the fit.\n",
      "  warnings.warn(\n",
      "/home/taras/.local/share/virtualenvs/ml-zoomcamp-hw-BtHUIWoS/lib/python3.10/site-packages/sklearn/linear_model/_stochastic_gradient.py:1561: ConvergenceWarning: Maximum number of iteration reached before convergence. Consider increasing max_iter to improve the fit.\n",
      "  warnings.warn(\n",
      "/home/taras/.local/share/virtualenvs/ml-zoomcamp-hw-BtHUIWoS/lib/python3.10/site-packages/sklearn/linear_model/_stochastic_gradient.py:1561: ConvergenceWarning: Maximum number of iteration reached before convergence. Consider increasing max_iter to improve the fit.\n",
      "  warnings.warn(\n",
      "/home/taras/.local/share/virtualenvs/ml-zoomcamp-hw-BtHUIWoS/lib/python3.10/site-packages/sklearn/linear_model/_stochastic_gradient.py:1561: ConvergenceWarning: Maximum number of iteration reached before convergence. Consider increasing max_iter to improve the fit.\n",
      "  warnings.warn(\n",
      "/home/taras/.local/share/virtualenvs/ml-zoomcamp-hw-BtHUIWoS/lib/python3.10/site-packages/sklearn/linear_model/_stochastic_gradient.py:1561: ConvergenceWarning: Maximum number of iteration reached before convergence. Consider increasing max_iter to improve the fit.\n",
      "  warnings.warn(\n",
      "/home/taras/.local/share/virtualenvs/ml-zoomcamp-hw-BtHUIWoS/lib/python3.10/site-packages/sklearn/linear_model/_stochastic_gradient.py:1561: ConvergenceWarning: Maximum number of iteration reached before convergence. Consider increasing max_iter to improve the fit.\n",
      "  warnings.warn(\n",
      "/home/taras/.local/share/virtualenvs/ml-zoomcamp-hw-BtHUIWoS/lib/python3.10/site-packages/sklearn/linear_model/_stochastic_gradient.py:1561: ConvergenceWarning: Maximum number of iteration reached before convergence. Consider increasing max_iter to improve the fit.\n",
      "  warnings.warn(\n",
      "/home/taras/.local/share/virtualenvs/ml-zoomcamp-hw-BtHUIWoS/lib/python3.10/site-packages/sklearn/linear_model/_stochastic_gradient.py:1561: ConvergenceWarning: Maximum number of iteration reached before convergence. Consider increasing max_iter to improve the fit.\n",
      "  warnings.warn(\n",
      "/home/taras/.local/share/virtualenvs/ml-zoomcamp-hw-BtHUIWoS/lib/python3.10/site-packages/sklearn/linear_model/_stochastic_gradient.py:1561: ConvergenceWarning: Maximum number of iteration reached before convergence. Consider increasing max_iter to improve the fit.\n",
      "  warnings.warn(\n",
      "/home/taras/.local/share/virtualenvs/ml-zoomcamp-hw-BtHUIWoS/lib/python3.10/site-packages/sklearn/linear_model/_stochastic_gradient.py:1561: ConvergenceWarning: Maximum number of iteration reached before convergence. Consider increasing max_iter to improve the fit.\n",
      "  warnings.warn(\n",
      "/home/taras/.local/share/virtualenvs/ml-zoomcamp-hw-BtHUIWoS/lib/python3.10/site-packages/sklearn/linear_model/_stochastic_gradient.py:1561: ConvergenceWarning: Maximum number of iteration reached before convergence. Consider increasing max_iter to improve the fit.\n",
      "  warnings.warn(\n",
      "/home/taras/.local/share/virtualenvs/ml-zoomcamp-hw-BtHUIWoS/lib/python3.10/site-packages/sklearn/linear_model/_stochastic_gradient.py:1561: ConvergenceWarning: Maximum number of iteration reached before convergence. Consider increasing max_iter to improve the fit.\n",
      "  warnings.warn(\n",
      "/home/taras/.local/share/virtualenvs/ml-zoomcamp-hw-BtHUIWoS/lib/python3.10/site-packages/sklearn/linear_model/_stochastic_gradient.py:1561: ConvergenceWarning: Maximum number of iteration reached before convergence. Consider increasing max_iter to improve the fit.\n",
      "  warnings.warn(\n",
      "/home/taras/.local/share/virtualenvs/ml-zoomcamp-hw-BtHUIWoS/lib/python3.10/site-packages/sklearn/linear_model/_stochastic_gradient.py:1561: ConvergenceWarning: Maximum number of iteration reached before convergence. Consider increasing max_iter to improve the fit.\n",
      "  warnings.warn(\n",
      "/home/taras/.local/share/virtualenvs/ml-zoomcamp-hw-BtHUIWoS/lib/python3.10/site-packages/sklearn/linear_model/_stochastic_gradient.py:1561: ConvergenceWarning: Maximum number of iteration reached before convergence. Consider increasing max_iter to improve the fit.\n",
      "  warnings.warn(\n",
      "/home/taras/.local/share/virtualenvs/ml-zoomcamp-hw-BtHUIWoS/lib/python3.10/site-packages/sklearn/linear_model/_stochastic_gradient.py:1561: ConvergenceWarning: Maximum number of iteration reached before convergence. Consider increasing max_iter to improve the fit.\n",
      "  warnings.warn(\n",
      "/home/taras/.local/share/virtualenvs/ml-zoomcamp-hw-BtHUIWoS/lib/python3.10/site-packages/sklearn/linear_model/_stochastic_gradient.py:1561: ConvergenceWarning: Maximum number of iteration reached before convergence. Consider increasing max_iter to improve the fit.\n",
      "  warnings.warn(\n",
      "/home/taras/.local/share/virtualenvs/ml-zoomcamp-hw-BtHUIWoS/lib/python3.10/site-packages/sklearn/linear_model/_stochastic_gradient.py:1561: ConvergenceWarning: Maximum number of iteration reached before convergence. Consider increasing max_iter to improve the fit.\n",
      "  warnings.warn(\n",
      "/home/taras/.local/share/virtualenvs/ml-zoomcamp-hw-BtHUIWoS/lib/python3.10/site-packages/sklearn/linear_model/_stochastic_gradient.py:1561: ConvergenceWarning: Maximum number of iteration reached before convergence. Consider increasing max_iter to improve the fit.\n",
      "  warnings.warn(\n",
      "/home/taras/.local/share/virtualenvs/ml-zoomcamp-hw-BtHUIWoS/lib/python3.10/site-packages/sklearn/linear_model/_stochastic_gradient.py:1561: ConvergenceWarning: Maximum number of iteration reached before convergence. Consider increasing max_iter to improve the fit.\n",
      "  warnings.warn(\n",
      "/home/taras/.local/share/virtualenvs/ml-zoomcamp-hw-BtHUIWoS/lib/python3.10/site-packages/sklearn/linear_model/_stochastic_gradient.py:1561: ConvergenceWarning: Maximum number of iteration reached before convergence. Consider increasing max_iter to improve the fit.\n",
      "  warnings.warn(\n",
      "/home/taras/.local/share/virtualenvs/ml-zoomcamp-hw-BtHUIWoS/lib/python3.10/site-packages/sklearn/linear_model/_stochastic_gradient.py:1561: ConvergenceWarning: Maximum number of iteration reached before convergence. Consider increasing max_iter to improve the fit.\n",
      "  warnings.warn(\n",
      "/home/taras/.local/share/virtualenvs/ml-zoomcamp-hw-BtHUIWoS/lib/python3.10/site-packages/sklearn/linear_model/_stochastic_gradient.py:1561: ConvergenceWarning: Maximum number of iteration reached before convergence. Consider increasing max_iter to improve the fit.\n",
      "  warnings.warn(\n",
      "/home/taras/.local/share/virtualenvs/ml-zoomcamp-hw-BtHUIWoS/lib/python3.10/site-packages/sklearn/linear_model/_stochastic_gradient.py:1561: ConvergenceWarning: Maximum number of iteration reached before convergence. Consider increasing max_iter to improve the fit.\n",
      "  warnings.warn(\n",
      "/home/taras/.local/share/virtualenvs/ml-zoomcamp-hw-BtHUIWoS/lib/python3.10/site-packages/sklearn/linear_model/_stochastic_gradient.py:1561: ConvergenceWarning: Maximum number of iteration reached before convergence. Consider increasing max_iter to improve the fit.\n",
      "  warnings.warn(\n",
      "/home/taras/.local/share/virtualenvs/ml-zoomcamp-hw-BtHUIWoS/lib/python3.10/site-packages/sklearn/linear_model/_stochastic_gradient.py:1561: ConvergenceWarning: Maximum number of iteration reached before convergence. Consider increasing max_iter to improve the fit.\n",
      "  warnings.warn(\n",
      "/home/taras/.local/share/virtualenvs/ml-zoomcamp-hw-BtHUIWoS/lib/python3.10/site-packages/sklearn/linear_model/_stochastic_gradient.py:1561: ConvergenceWarning: Maximum number of iteration reached before convergence. Consider increasing max_iter to improve the fit.\n",
      "  warnings.warn(\n",
      "/home/taras/.local/share/virtualenvs/ml-zoomcamp-hw-BtHUIWoS/lib/python3.10/site-packages/sklearn/linear_model/_stochastic_gradient.py:1561: ConvergenceWarning: Maximum number of iteration reached before convergence. Consider increasing max_iter to improve the fit.\n",
      "  warnings.warn(\n",
      "/home/taras/.local/share/virtualenvs/ml-zoomcamp-hw-BtHUIWoS/lib/python3.10/site-packages/sklearn/linear_model/_stochastic_gradient.py:1561: ConvergenceWarning: Maximum number of iteration reached before convergence. Consider increasing max_iter to improve the fit.\n",
      "  warnings.warn(\n",
      "/home/taras/.local/share/virtualenvs/ml-zoomcamp-hw-BtHUIWoS/lib/python3.10/site-packages/sklearn/linear_model/_stochastic_gradient.py:1561: ConvergenceWarning: Maximum number of iteration reached before convergence. Consider increasing max_iter to improve the fit.\n",
      "  warnings.warn(\n",
      "/home/taras/.local/share/virtualenvs/ml-zoomcamp-hw-BtHUIWoS/lib/python3.10/site-packages/sklearn/linear_model/_stochastic_gradient.py:1561: ConvergenceWarning: Maximum number of iteration reached before convergence. Consider increasing max_iter to improve the fit.\n",
      "  warnings.warn(\n",
      "/home/taras/.local/share/virtualenvs/ml-zoomcamp-hw-BtHUIWoS/lib/python3.10/site-packages/sklearn/linear_model/_stochastic_gradient.py:1561: ConvergenceWarning: Maximum number of iteration reached before convergence. Consider increasing max_iter to improve the fit.\n",
      "  warnings.warn(\n",
      "/home/taras/.local/share/virtualenvs/ml-zoomcamp-hw-BtHUIWoS/lib/python3.10/site-packages/sklearn/linear_model/_stochastic_gradient.py:1561: ConvergenceWarning: Maximum number of iteration reached before convergence. Consider increasing max_iter to improve the fit.\n",
      "  warnings.warn(\n",
      "/home/taras/.local/share/virtualenvs/ml-zoomcamp-hw-BtHUIWoS/lib/python3.10/site-packages/sklearn/linear_model/_stochastic_gradient.py:1561: ConvergenceWarning: Maximum number of iteration reached before convergence. Consider increasing max_iter to improve the fit.\n",
      "  warnings.warn(\n",
      "/home/taras/.local/share/virtualenvs/ml-zoomcamp-hw-BtHUIWoS/lib/python3.10/site-packages/sklearn/linear_model/_stochastic_gradient.py:1561: ConvergenceWarning: Maximum number of iteration reached before convergence. Consider increasing max_iter to improve the fit.\n",
      "  warnings.warn(\n",
      "/home/taras/.local/share/virtualenvs/ml-zoomcamp-hw-BtHUIWoS/lib/python3.10/site-packages/sklearn/linear_model/_stochastic_gradient.py:1561: ConvergenceWarning: Maximum number of iteration reached before convergence. Consider increasing max_iter to improve the fit.\n",
      "  warnings.warn(\n",
      "/home/taras/.local/share/virtualenvs/ml-zoomcamp-hw-BtHUIWoS/lib/python3.10/site-packages/sklearn/linear_model/_stochastic_gradient.py:1561: ConvergenceWarning: Maximum number of iteration reached before convergence. Consider increasing max_iter to improve the fit.\n",
      "  warnings.warn(\n",
      "/home/taras/.local/share/virtualenvs/ml-zoomcamp-hw-BtHUIWoS/lib/python3.10/site-packages/sklearn/linear_model/_stochastic_gradient.py:1561: ConvergenceWarning: Maximum number of iteration reached before convergence. Consider increasing max_iter to improve the fit.\n",
      "  warnings.warn(\n",
      "/home/taras/.local/share/virtualenvs/ml-zoomcamp-hw-BtHUIWoS/lib/python3.10/site-packages/sklearn/linear_model/_stochastic_gradient.py:1561: ConvergenceWarning: Maximum number of iteration reached before convergence. Consider increasing max_iter to improve the fit.\n",
      "  warnings.warn(\n",
      "/home/taras/.local/share/virtualenvs/ml-zoomcamp-hw-BtHUIWoS/lib/python3.10/site-packages/sklearn/linear_model/_stochastic_gradient.py:1561: ConvergenceWarning: Maximum number of iteration reached before convergence. Consider increasing max_iter to improve the fit.\n",
      "  warnings.warn(\n",
      "/home/taras/.local/share/virtualenvs/ml-zoomcamp-hw-BtHUIWoS/lib/python3.10/site-packages/sklearn/linear_model/_stochastic_gradient.py:1561: ConvergenceWarning: Maximum number of iteration reached before convergence. Consider increasing max_iter to improve the fit.\n",
      "  warnings.warn(\n",
      "/home/taras/.local/share/virtualenvs/ml-zoomcamp-hw-BtHUIWoS/lib/python3.10/site-packages/sklearn/linear_model/_stochastic_gradient.py:1561: ConvergenceWarning: Maximum number of iteration reached before convergence. Consider increasing max_iter to improve the fit.\n",
      "  warnings.warn(\n",
      "/home/taras/.local/share/virtualenvs/ml-zoomcamp-hw-BtHUIWoS/lib/python3.10/site-packages/sklearn/linear_model/_stochastic_gradient.py:1561: ConvergenceWarning: Maximum number of iteration reached before convergence. Consider increasing max_iter to improve the fit.\n",
      "  warnings.warn(\n",
      "/home/taras/.local/share/virtualenvs/ml-zoomcamp-hw-BtHUIWoS/lib/python3.10/site-packages/sklearn/linear_model/_stochastic_gradient.py:1561: ConvergenceWarning: Maximum number of iteration reached before convergence. Consider increasing max_iter to improve the fit.\n",
      "  warnings.warn(\n",
      "/home/taras/.local/share/virtualenvs/ml-zoomcamp-hw-BtHUIWoS/lib/python3.10/site-packages/sklearn/linear_model/_stochastic_gradient.py:1561: ConvergenceWarning: Maximum number of iteration reached before convergence. Consider increasing max_iter to improve the fit.\n",
      "  warnings.warn(\n",
      "/home/taras/.local/share/virtualenvs/ml-zoomcamp-hw-BtHUIWoS/lib/python3.10/site-packages/sklearn/linear_model/_stochastic_gradient.py:1561: ConvergenceWarning: Maximum number of iteration reached before convergence. Consider increasing max_iter to improve the fit.\n",
      "  warnings.warn(\n",
      "/home/taras/.local/share/virtualenvs/ml-zoomcamp-hw-BtHUIWoS/lib/python3.10/site-packages/sklearn/linear_model/_stochastic_gradient.py:1561: ConvergenceWarning: Maximum number of iteration reached before convergence. Consider increasing max_iter to improve the fit.\n",
      "  warnings.warn(\n",
      "/home/taras/.local/share/virtualenvs/ml-zoomcamp-hw-BtHUIWoS/lib/python3.10/site-packages/sklearn/linear_model/_stochastic_gradient.py:1561: ConvergenceWarning: Maximum number of iteration reached before convergence. Consider increasing max_iter to improve the fit.\n",
      "  warnings.warn(\n",
      "/home/taras/.local/share/virtualenvs/ml-zoomcamp-hw-BtHUIWoS/lib/python3.10/site-packages/sklearn/linear_model/_stochastic_gradient.py:1561: ConvergenceWarning: Maximum number of iteration reached before convergence. Consider increasing max_iter to improve the fit.\n",
      "  warnings.warn(\n",
      "/home/taras/.local/share/virtualenvs/ml-zoomcamp-hw-BtHUIWoS/lib/python3.10/site-packages/sklearn/linear_model/_stochastic_gradient.py:1561: ConvergenceWarning: Maximum number of iteration reached before convergence. Consider increasing max_iter to improve the fit.\n",
      "  warnings.warn(\n",
      "/home/taras/.local/share/virtualenvs/ml-zoomcamp-hw-BtHUIWoS/lib/python3.10/site-packages/sklearn/linear_model/_stochastic_gradient.py:1561: ConvergenceWarning: Maximum number of iteration reached before convergence. Consider increasing max_iter to improve the fit.\n",
      "  warnings.warn(\n",
      "/home/taras/.local/share/virtualenvs/ml-zoomcamp-hw-BtHUIWoS/lib/python3.10/site-packages/sklearn/linear_model/_stochastic_gradient.py:1561: ConvergenceWarning: Maximum number of iteration reached before convergence. Consider increasing max_iter to improve the fit.\n",
      "  warnings.warn(\n",
      "/home/taras/.local/share/virtualenvs/ml-zoomcamp-hw-BtHUIWoS/lib/python3.10/site-packages/sklearn/linear_model/_stochastic_gradient.py:1561: ConvergenceWarning: Maximum number of iteration reached before convergence. Consider increasing max_iter to improve the fit.\n",
      "  warnings.warn(\n",
      "/home/taras/.local/share/virtualenvs/ml-zoomcamp-hw-BtHUIWoS/lib/python3.10/site-packages/sklearn/linear_model/_stochastic_gradient.py:1561: ConvergenceWarning: Maximum number of iteration reached before convergence. Consider increasing max_iter to improve the fit.\n",
      "  warnings.warn(\n",
      "/home/taras/.local/share/virtualenvs/ml-zoomcamp-hw-BtHUIWoS/lib/python3.10/site-packages/sklearn/linear_model/_stochastic_gradient.py:1561: ConvergenceWarning: Maximum number of iteration reached before convergence. Consider increasing max_iter to improve the fit.\n",
      "  warnings.warn(\n"
     ]
    },
    {
     "data": {
      "text/html": [
       "<style>#sk-container-id-4 {color: black;}#sk-container-id-4 pre{padding: 0;}#sk-container-id-4 div.sk-toggleable {background-color: white;}#sk-container-id-4 label.sk-toggleable__label {cursor: pointer;display: block;width: 100%;margin-bottom: 0;padding: 0.3em;box-sizing: border-box;text-align: center;}#sk-container-id-4 label.sk-toggleable__label-arrow:before {content: \"▸\";float: left;margin-right: 0.25em;color: #696969;}#sk-container-id-4 label.sk-toggleable__label-arrow:hover:before {color: black;}#sk-container-id-4 div.sk-estimator:hover label.sk-toggleable__label-arrow:before {color: black;}#sk-container-id-4 div.sk-toggleable__content {max-height: 0;max-width: 0;overflow: hidden;text-align: left;background-color: #f0f8ff;}#sk-container-id-4 div.sk-toggleable__content pre {margin: 0.2em;color: black;border-radius: 0.25em;background-color: #f0f8ff;}#sk-container-id-4 input.sk-toggleable__control:checked~div.sk-toggleable__content {max-height: 200px;max-width: 100%;overflow: auto;}#sk-container-id-4 input.sk-toggleable__control:checked~label.sk-toggleable__label-arrow:before {content: \"▾\";}#sk-container-id-4 div.sk-estimator input.sk-toggleable__control:checked~label.sk-toggleable__label {background-color: #d4ebff;}#sk-container-id-4 div.sk-label input.sk-toggleable__control:checked~label.sk-toggleable__label {background-color: #d4ebff;}#sk-container-id-4 input.sk-hidden--visually {border: 0;clip: rect(1px 1px 1px 1px);clip: rect(1px, 1px, 1px, 1px);height: 1px;margin: -1px;overflow: hidden;padding: 0;position: absolute;width: 1px;}#sk-container-id-4 div.sk-estimator {font-family: monospace;background-color: #f0f8ff;border: 1px dotted black;border-radius: 0.25em;box-sizing: border-box;margin-bottom: 0.5em;}#sk-container-id-4 div.sk-estimator:hover {background-color: #d4ebff;}#sk-container-id-4 div.sk-parallel-item::after {content: \"\";width: 100%;border-bottom: 1px solid gray;flex-grow: 1;}#sk-container-id-4 div.sk-label:hover label.sk-toggleable__label {background-color: #d4ebff;}#sk-container-id-4 div.sk-serial::before {content: \"\";position: absolute;border-left: 1px solid gray;box-sizing: border-box;top: 0;bottom: 0;left: 50%;z-index: 0;}#sk-container-id-4 div.sk-serial {display: flex;flex-direction: column;align-items: center;background-color: white;padding-right: 0.2em;padding-left: 0.2em;position: relative;}#sk-container-id-4 div.sk-item {position: relative;z-index: 1;}#sk-container-id-4 div.sk-parallel {display: flex;align-items: stretch;justify-content: center;background-color: white;position: relative;}#sk-container-id-4 div.sk-item::before, #sk-container-id-4 div.sk-parallel-item::before {content: \"\";position: absolute;border-left: 1px solid gray;box-sizing: border-box;top: 0;bottom: 0;left: 50%;z-index: -1;}#sk-container-id-4 div.sk-parallel-item {display: flex;flex-direction: column;z-index: 1;position: relative;background-color: white;}#sk-container-id-4 div.sk-parallel-item:first-child::after {align-self: flex-end;width: 50%;}#sk-container-id-4 div.sk-parallel-item:last-child::after {align-self: flex-start;width: 50%;}#sk-container-id-4 div.sk-parallel-item:only-child::after {width: 0;}#sk-container-id-4 div.sk-dashed-wrapped {border: 1px dashed gray;margin: 0 0.4em 0.5em 0.4em;box-sizing: border-box;padding-bottom: 0.4em;background-color: white;}#sk-container-id-4 div.sk-label label {font-family: monospace;font-weight: bold;display: inline-block;line-height: 1.2em;}#sk-container-id-4 div.sk-label-container {text-align: center;}#sk-container-id-4 div.sk-container {/* jupyter's `normalize.less` sets `[hidden] { display: none; }` but bootstrap.min.css set `[hidden] { display: none !important; }` so we also need the `!important` here to be able to override the default hidden behavior on the sphinx rendered scikit-learn.org. See: https://github.com/scikit-learn/scikit-learn/issues/21755 */display: inline-block !important;position: relative;}#sk-container-id-4 div.sk-text-repr-fallback {display: none;}</style><div id=\"sk-container-id-4\" class=\"sk-top-container\"><div class=\"sk-text-repr-fallback\"><pre>GridSearchCV(cv=5,\n",
       "             estimator=SGDRegressor(learning_rate=&#x27;constant&#x27;, max_iter=3000,\n",
       "                                    random_state=42),\n",
       "             n_jobs=-1,\n",
       "             param_grid={&#x27;alpha&#x27;: [100, 1000, 500],\n",
       "                         &#x27;eta0&#x27;: [1e-07, 1e-06, 0.0001, 0.001, 0.01, 0.1, 1, 5,\n",
       "                                  10],\n",
       "                         &#x27;learning_rate&#x27;: [&#x27;constant&#x27;, &#x27;optimal&#x27;, &#x27;adaptive&#x27;]},\n",
       "             scoring=&#x27;neg_mean_squared_error&#x27;)</pre><b>In a Jupyter environment, please rerun this cell to show the HTML representation or trust the notebook. <br />On GitHub, the HTML representation is unable to render, please try loading this page with nbviewer.org.</b></div><div class=\"sk-container\" hidden><div class=\"sk-item sk-dashed-wrapped\"><div class=\"sk-label-container\"><div class=\"sk-label sk-toggleable\"><input class=\"sk-toggleable__control sk-hidden--visually\" id=\"sk-estimator-id-13\" type=\"checkbox\" ><label for=\"sk-estimator-id-13\" class=\"sk-toggleable__label sk-toggleable__label-arrow\">GridSearchCV</label><div class=\"sk-toggleable__content\"><pre>GridSearchCV(cv=5,\n",
       "             estimator=SGDRegressor(learning_rate=&#x27;constant&#x27;, max_iter=3000,\n",
       "                                    random_state=42),\n",
       "             n_jobs=-1,\n",
       "             param_grid={&#x27;alpha&#x27;: [100, 1000, 500],\n",
       "                         &#x27;eta0&#x27;: [1e-07, 1e-06, 0.0001, 0.001, 0.01, 0.1, 1, 5,\n",
       "                                  10],\n",
       "                         &#x27;learning_rate&#x27;: [&#x27;constant&#x27;, &#x27;optimal&#x27;, &#x27;adaptive&#x27;]},\n",
       "             scoring=&#x27;neg_mean_squared_error&#x27;)</pre></div></div></div><div class=\"sk-parallel\"><div class=\"sk-parallel-item\"><div class=\"sk-item\"><div class=\"sk-label-container\"><div class=\"sk-label sk-toggleable\"><input class=\"sk-toggleable__control sk-hidden--visually\" id=\"sk-estimator-id-14\" type=\"checkbox\" ><label for=\"sk-estimator-id-14\" class=\"sk-toggleable__label sk-toggleable__label-arrow\">estimator: SGDRegressor</label><div class=\"sk-toggleable__content\"><pre>SGDRegressor(learning_rate=&#x27;constant&#x27;, max_iter=3000, random_state=42)</pre></div></div></div><div class=\"sk-serial\"><div class=\"sk-item\"><div class=\"sk-estimator sk-toggleable\"><input class=\"sk-toggleable__control sk-hidden--visually\" id=\"sk-estimator-id-15\" type=\"checkbox\" ><label for=\"sk-estimator-id-15\" class=\"sk-toggleable__label sk-toggleable__label-arrow\">SGDRegressor</label><div class=\"sk-toggleable__content\"><pre>SGDRegressor(learning_rate=&#x27;constant&#x27;, max_iter=3000, random_state=42)</pre></div></div></div></div></div></div></div></div></div></div>"
      ],
      "text/plain": [
       "GridSearchCV(cv=5,\n",
       "             estimator=SGDRegressor(learning_rate='constant', max_iter=3000,\n",
       "                                    random_state=42),\n",
       "             n_jobs=-1,\n",
       "             param_grid={'alpha': [100, 1000, 500],\n",
       "                         'eta0': [1e-07, 1e-06, 0.0001, 0.001, 0.01, 0.1, 1, 5,\n",
       "                                  10],\n",
       "                         'learning_rate': ['constant', 'optimal', 'adaptive']},\n",
       "             scoring='neg_mean_squared_error')"
      ]
     },
     "execution_count": 74,
     "metadata": {},
     "output_type": "execute_result"
    }
   ],
   "source": [
    "grid_search.fit(X_train_preprocessed_lasso, y_train)"
   ]
  },
  {
   "cell_type": "code",
   "execution_count": 66,
   "id": "dcba746f-2bfc-4f5a-9956-a20695bdefa0",
   "metadata": {},
   "outputs": [
    {
     "data": {
      "text/plain": [
       "(-954.4074481116752, {'alpha': 100, 'eta0': 0.01})"
      ]
     },
     "execution_count": 66,
     "metadata": {},
     "output_type": "execute_result"
    }
   ],
   "source": [
    "grid_search.best_score_, grid_search.best_params_"
   ]
  },
  {
   "cell_type": "code",
   "execution_count": 69,
   "id": "4296a321-02cb-4904-a36b-0b3c4b1e44d8",
   "metadata": {},
   "outputs": [],
   "source": [
    "y_val_predicted = grid_search.best_estimator_.predict(X_val_preprocessed_lasso)"
   ]
  },
  {
   "cell_type": "code",
   "execution_count": 70,
   "id": "e0100b1b-7f99-4d40-ba27-abd05b6b5e4d",
   "metadata": {},
   "outputs": [
    {
     "data": {
      "text/plain": [
       "31.811763918680857"
      ]
     },
     "execution_count": 70,
     "metadata": {},
     "output_type": "execute_result"
    }
   ],
   "source": [
    "mean_squared_error(y_val, y_val_predicted, squared=False)"
   ]
  },
  {
   "cell_type": "markdown",
   "id": "216d8963-dba3-4d34-9ce8-e4fc8c8028e6",
   "metadata": {},
   "source": [
    "### 2. RandomForestRegressor"
   ]
  },
  {
   "cell_type": "markdown",
   "id": "a434179e-6163-4496-9926-e2face9ec935",
   "metadata": {},
   "source": [
    "Here I use optuna to tune parameters instead of GridSearchCV"
   ]
  },
  {
   "cell_type": "code",
   "execution_count": 77,
   "id": "c380b051-4b06-4037-b8e7-026ba3fcc215",
   "metadata": {},
   "outputs": [],
   "source": [
    "k_folds = KFold(n_splits=3, random_state=42, shuffle=True)\n",
    "kfolds = k_folds.get_n_splits(X_train_preprocessed)\n",
    "\n",
    "def objective(trial):\n",
    "        print(trial)\n",
    "        params = {\n",
    "            'n_estimators': trial.suggest_int('n_estimators', 500, 3000, 100),\n",
    "            'max_depth': trial.suggest_int('max_depth', 10, 20, 5),\n",
    "            'min_samples_split': trial.suggest_int('min_samples_split', 2, 20, 2),\n",
    "            'min_samples_leaf': trial.suggest_int('min_samples_leaf', 15, 40, 2),\n",
    "            'random_state': 42,\n",
    "            'n_jobs': -1\n",
    "        }\n",
    "        rf = RandomForestRegressor(**params)\n",
    "        rf.fit(X_train_preprocessed, y_train)\n",
    "        scores = cross_val_score(rf, X_train_preprocessed, y_train, cv=kfolds,\n",
    "        scoring=\"neg_root_mean_squared_error\")\n",
    "        print(scores)\n",
    "        return scores.mean()\n",
    "\n"
   ]
  },
  {
   "cell_type": "code",
   "execution_count": 78,
   "id": "6d2c1b6b-20c5-4fa5-93c2-2acec50f343d",
   "metadata": {},
   "outputs": [
    {
     "name": "stderr",
     "output_type": "stream",
     "text": [
      "[I 2023-10-29 21:35:10,473] A new study created in memory with name: no-name-eab0bd26-2564-4f44-822b-b59abbcd7bd3\n",
      "/home/taras/.local/share/virtualenvs/ml-zoomcamp-hw-BtHUIWoS/lib/python3.10/site-packages/optuna/distributions.py:700: UserWarning: The distribution is specified by [15, 40] and step=2, but the range is not divisible by `step`. It will be replaced by [15, 39].\n",
      "  warnings.warn(\n"
     ]
    },
    {
     "name": "stdout",
     "output_type": "stream",
     "text": [
      "<optuna.trial._trial.Trial object at 0x7fbfb96beb00>\n",
      "[CV] END .......................................alpha=0.0001; total time=   2.5s\n",
      "[CV] END ........................................alpha=0.001; total time=   3.3s\n",
      "[CV] END ........................................alpha=0.001; total time=   3.5s\n",
      "[CV] END ..........................................alpha=0.1; total time=   0.1s\n",
      "[CV] END ..........................................alpha=0.1; total time=   0.0s\n",
      "[CV] END ............................................alpha=1; total time=   0.0s\n",
      "[CV] END ............................................alpha=1; total time=   0.0s\n",
      "[CV] END ............................................alpha=5; total time=   0.0s\n",
      "[CV] END ............................................alpha=5; total time=   0.0s\n",
      "[CV] END ............................................alpha=5; total time=   0.0s\n",
      "[CV] END ............................................alpha=5; total time=   0.0s\n",
      "[CV] END ...........................................alpha=10; total time=   0.0s\n",
      "[CV] END ...........................................alpha=10; total time=   0.0s\n",
      "[CV] END ..........................................alpha=100; total time=   0.0s\n",
      "[CV] END .......................................alpha=0.0001; total time=   3.1s\n",
      "[CV] END ........................................alpha=0.001; total time=   3.1s\n",
      "[CV] END .........................................alpha=0.01; total time=   1.3s\n",
      "[CV] END .........................................alpha=0.01; total time=   0.9s\n",
      "[CV] END .........................................alpha=0.01; total time=   0.4s\n",
      "[CV] END ..........................................alpha=0.1; total time=   0.2s\n",
      "[CV] END ..........................................alpha=0.1; total time=   0.4s\n",
      "[CV] END ..........................................alpha=100; total time=   0.0s\n",
      "[CV] END .......................................alpha=0.0001; total time=   2.5s\n",
      "[CV] END .......................................alpha=0.0001; total time=   3.0s\n",
      "[CV] END ........................................alpha=0.001; total time=   3.1s\n",
      "[CV] END .........................................alpha=0.01; total time=   1.2s\n",
      "[CV] END ...........................................alpha=10; total time=   0.0s\n",
      "[CV] END ..........................................alpha=100; total time=   0.0s\n",
      "[CV] END .......................................alpha=0.0001; total time=   3.4s\n",
      "[CV] END ........................................alpha=0.001; total time=   3.8s\n",
      "[CV] END .........................................alpha=0.01; total time=   1.8s\n",
      "[CV] END ..........................................alpha=0.1; total time=   0.1s\n",
      "[CV] END ............................................alpha=1; total time=   0.0s\n",
      "[CV] END ............................................alpha=1; total time=   0.0s\n",
      "[CV] END ............................................alpha=1; total time=   0.1s\n",
      "[CV] END ............................................alpha=5; total time=   0.0s\n",
      "[CV] END ...........................................alpha=10; total time=   0.0s\n",
      "[CV] END ...........................................alpha=10; total time=   0.0s\n",
      "[CV] END ..........................................alpha=100; total time=   0.0s\n",
      "[CV] END ..........................................alpha=100; total time=   0.0s\n"
     ]
    },
    {
     "name": "stderr",
     "output_type": "stream",
     "text": [
      "[I 2023-10-29 21:42:00,873] Trial 0 finished with value: -14.636135590304923 and parameters: {'n_estimators': 1400, 'max_depth': 20, 'min_samples_split': 16, 'min_samples_leaf': 29}. Best is trial 0 with value: -14.636135590304923.\n"
     ]
    },
    {
     "name": "stdout",
     "output_type": "stream",
     "text": [
      "[-14.72359276 -14.82039508 -14.36441893]\n",
      "<optuna.trial._trial.Trial object at 0x7fbfbcaa1990>\n"
     ]
    },
    {
     "name": "stderr",
     "output_type": "stream",
     "text": [
      "/home/taras/.local/share/virtualenvs/ml-zoomcamp-hw-BtHUIWoS/lib/python3.10/site-packages/optuna/distributions.py:700: UserWarning: The distribution is specified by [15, 40] and step=2, but the range is not divisible by `step`. It will be replaced by [15, 39].\n",
      "  warnings.warn(\n",
      "[I 2023-10-29 21:45:47,402] Trial 1 finished with value: -14.750417848769898 and parameters: {'n_estimators': 900, 'max_depth': 10, 'min_samples_split': 2, 'min_samples_leaf': 37}. Best is trial 1 with value: -14.750417848769898.\n"
     ]
    },
    {
     "name": "stdout",
     "output_type": "stream",
     "text": [
      "[-14.82953944 -14.92608412 -14.49562998]\n",
      "<optuna.trial._trial.Trial object at 0x7fbfbac2db10>\n"
     ]
    },
    {
     "name": "stderr",
     "output_type": "stream",
     "text": [
      "/home/taras/.local/share/virtualenvs/ml-zoomcamp-hw-BtHUIWoS/lib/python3.10/site-packages/optuna/distributions.py:700: UserWarning: The distribution is specified by [15, 40] and step=2, but the range is not divisible by `step`. It will be replaced by [15, 39].\n",
      "  warnings.warn(\n",
      "[I 2023-10-29 21:53:32,022] Trial 2 finished with value: -14.77638946519746 and parameters: {'n_estimators': 2000, 'max_depth': 20, 'min_samples_split': 2, 'min_samples_leaf': 39}. Best is trial 2 with value: -14.77638946519746.\n"
     ]
    },
    {
     "name": "stdout",
     "output_type": "stream",
     "text": [
      "[-14.85576585 -14.95726936 -14.51613318]\n",
      "<optuna.trial._trial.Trial object at 0x7fbfbac2e8c0>\n"
     ]
    },
    {
     "name": "stderr",
     "output_type": "stream",
     "text": [
      "/home/taras/.local/share/virtualenvs/ml-zoomcamp-hw-BtHUIWoS/lib/python3.10/site-packages/optuna/distributions.py:700: UserWarning: The distribution is specified by [15, 40] and step=2, but the range is not divisible by `step`. It will be replaced by [15, 39].\n",
      "  warnings.warn(\n",
      "[I 2023-10-29 22:08:51,259] Trial 3 finished with value: -14.51040555502418 and parameters: {'n_estimators': 2600, 'max_depth': 10, 'min_samples_split': 4, 'min_samples_leaf': 19}. Best is trial 2 with value: -14.77638946519746.\n"
     ]
    },
    {
     "name": "stdout",
     "output_type": "stream",
     "text": [
      "[-14.59680068 -14.68399049 -14.25042549]\n",
      "<optuna.trial._trial.Trial object at 0x7fbfbce78850>\n"
     ]
    },
    {
     "name": "stderr",
     "output_type": "stream",
     "text": [
      "/home/taras/.local/share/virtualenvs/ml-zoomcamp-hw-BtHUIWoS/lib/python3.10/site-packages/optuna/distributions.py:700: UserWarning: The distribution is specified by [15, 40] and step=2, but the range is not divisible by `step`. It will be replaced by [15, 39].\n",
      "  warnings.warn(\n",
      "[I 2023-10-29 22:14:38,762] Trial 4 finished with value: -14.535782830065783 and parameters: {'n_estimators': 1200, 'max_depth': 15, 'min_samples_split': 10, 'min_samples_leaf': 21}. Best is trial 2 with value: -14.77638946519746.\n"
     ]
    },
    {
     "name": "stdout",
     "output_type": "stream",
     "text": [
      "[-14.62801507 -14.70907478 -14.27025864]\n"
     ]
    }
   ],
   "source": [
    "sampler = TPESampler(seed=42)\n",
    "study = optuna.create_study(direction=\"minimize\", sampler=sampler)\n",
    "study.optimize(objective, n_trials=5)"
   ]
  },
  {
   "cell_type": "code",
   "execution_count": 79,
   "id": "521853ac-b420-4cfa-971c-69fd10b675ad",
   "metadata": {},
   "outputs": [
    {
     "data": {
      "text/plain": [
       "{'n_estimators': 2000,\n",
       " 'max_depth': 20,\n",
       " 'min_samples_split': 2,\n",
       " 'min_samples_leaf': 39}"
      ]
     },
     "execution_count": 79,
     "metadata": {},
     "output_type": "execute_result"
    }
   ],
   "source": [
    "study.best_params"
   ]
  },
  {
   "cell_type": "code",
   "execution_count": 81,
   "id": "3306a173-3fb7-4620-a5dc-bdb549f35921",
   "metadata": {},
   "outputs": [
    {
     "data": {
      "text/html": [
       "<style>#sk-container-id-5 {color: black;}#sk-container-id-5 pre{padding: 0;}#sk-container-id-5 div.sk-toggleable {background-color: white;}#sk-container-id-5 label.sk-toggleable__label {cursor: pointer;display: block;width: 100%;margin-bottom: 0;padding: 0.3em;box-sizing: border-box;text-align: center;}#sk-container-id-5 label.sk-toggleable__label-arrow:before {content: \"▸\";float: left;margin-right: 0.25em;color: #696969;}#sk-container-id-5 label.sk-toggleable__label-arrow:hover:before {color: black;}#sk-container-id-5 div.sk-estimator:hover label.sk-toggleable__label-arrow:before {color: black;}#sk-container-id-5 div.sk-toggleable__content {max-height: 0;max-width: 0;overflow: hidden;text-align: left;background-color: #f0f8ff;}#sk-container-id-5 div.sk-toggleable__content pre {margin: 0.2em;color: black;border-radius: 0.25em;background-color: #f0f8ff;}#sk-container-id-5 input.sk-toggleable__control:checked~div.sk-toggleable__content {max-height: 200px;max-width: 100%;overflow: auto;}#sk-container-id-5 input.sk-toggleable__control:checked~label.sk-toggleable__label-arrow:before {content: \"▾\";}#sk-container-id-5 div.sk-estimator input.sk-toggleable__control:checked~label.sk-toggleable__label {background-color: #d4ebff;}#sk-container-id-5 div.sk-label input.sk-toggleable__control:checked~label.sk-toggleable__label {background-color: #d4ebff;}#sk-container-id-5 input.sk-hidden--visually {border: 0;clip: rect(1px 1px 1px 1px);clip: rect(1px, 1px, 1px, 1px);height: 1px;margin: -1px;overflow: hidden;padding: 0;position: absolute;width: 1px;}#sk-container-id-5 div.sk-estimator {font-family: monospace;background-color: #f0f8ff;border: 1px dotted black;border-radius: 0.25em;box-sizing: border-box;margin-bottom: 0.5em;}#sk-container-id-5 div.sk-estimator:hover {background-color: #d4ebff;}#sk-container-id-5 div.sk-parallel-item::after {content: \"\";width: 100%;border-bottom: 1px solid gray;flex-grow: 1;}#sk-container-id-5 div.sk-label:hover label.sk-toggleable__label {background-color: #d4ebff;}#sk-container-id-5 div.sk-serial::before {content: \"\";position: absolute;border-left: 1px solid gray;box-sizing: border-box;top: 0;bottom: 0;left: 50%;z-index: 0;}#sk-container-id-5 div.sk-serial {display: flex;flex-direction: column;align-items: center;background-color: white;padding-right: 0.2em;padding-left: 0.2em;position: relative;}#sk-container-id-5 div.sk-item {position: relative;z-index: 1;}#sk-container-id-5 div.sk-parallel {display: flex;align-items: stretch;justify-content: center;background-color: white;position: relative;}#sk-container-id-5 div.sk-item::before, #sk-container-id-5 div.sk-parallel-item::before {content: \"\";position: absolute;border-left: 1px solid gray;box-sizing: border-box;top: 0;bottom: 0;left: 50%;z-index: -1;}#sk-container-id-5 div.sk-parallel-item {display: flex;flex-direction: column;z-index: 1;position: relative;background-color: white;}#sk-container-id-5 div.sk-parallel-item:first-child::after {align-self: flex-end;width: 50%;}#sk-container-id-5 div.sk-parallel-item:last-child::after {align-self: flex-start;width: 50%;}#sk-container-id-5 div.sk-parallel-item:only-child::after {width: 0;}#sk-container-id-5 div.sk-dashed-wrapped {border: 1px dashed gray;margin: 0 0.4em 0.5em 0.4em;box-sizing: border-box;padding-bottom: 0.4em;background-color: white;}#sk-container-id-5 div.sk-label label {font-family: monospace;font-weight: bold;display: inline-block;line-height: 1.2em;}#sk-container-id-5 div.sk-label-container {text-align: center;}#sk-container-id-5 div.sk-container {/* jupyter's `normalize.less` sets `[hidden] { display: none; }` but bootstrap.min.css set `[hidden] { display: none !important; }` so we also need the `!important` here to be able to override the default hidden behavior on the sphinx rendered scikit-learn.org. See: https://github.com/scikit-learn/scikit-learn/issues/21755 */display: inline-block !important;position: relative;}#sk-container-id-5 div.sk-text-repr-fallback {display: none;}</style><div id=\"sk-container-id-5\" class=\"sk-top-container\"><div class=\"sk-text-repr-fallback\"><pre>RandomForestRegressor(max_depth=20, min_samples_leaf=39, n_estimators=2000)</pre><b>In a Jupyter environment, please rerun this cell to show the HTML representation or trust the notebook. <br />On GitHub, the HTML representation is unable to render, please try loading this page with nbviewer.org.</b></div><div class=\"sk-container\" hidden><div class=\"sk-item\"><div class=\"sk-estimator sk-toggleable\"><input class=\"sk-toggleable__control sk-hidden--visually\" id=\"sk-estimator-id-16\" type=\"checkbox\" checked><label for=\"sk-estimator-id-16\" class=\"sk-toggleable__label sk-toggleable__label-arrow\">RandomForestRegressor</label><div class=\"sk-toggleable__content\"><pre>RandomForestRegressor(max_depth=20, min_samples_leaf=39, n_estimators=2000)</pre></div></div></div></div></div>"
      ],
      "text/plain": [
       "RandomForestRegressor(max_depth=20, min_samples_leaf=39, n_estimators=2000)"
      ]
     },
     "execution_count": 81,
     "metadata": {},
     "output_type": "execute_result"
    }
   ],
   "source": [
    "rf_best = RandomForestRegressor(**study.best_params)\n",
    "rf_best.fit(X_train_preprocessed, y_train)"
   ]
  },
  {
   "cell_type": "code",
   "execution_count": 83,
   "id": "48bc7f15-d520-4efe-a25e-adf31979e4a2",
   "metadata": {},
   "outputs": [
    {
     "data": {
      "text/plain": [
       "14.763648091554758"
      ]
     },
     "execution_count": 83,
     "metadata": {},
     "output_type": "execute_result"
    }
   ],
   "source": [
    "mean_squared_error(rf_best.predict(X_val_preprocessed), y_val, squared=False)"
   ]
  },
  {
   "cell_type": "code",
   "execution_count": 84,
   "id": "f1b08ca0-254c-4d1f-b667-6d15811d513b",
   "metadata": {},
   "outputs": [
    {
     "data": {
      "text/plain": [
       "0.7830068013478972"
      ]
     },
     "execution_count": 84,
     "metadata": {},
     "output_type": "execute_result"
    }
   ],
   "source": [
    "r2_score(y_val, rf_best.predict(X_val_preprocessed))"
   ]
  },
  {
   "cell_type": "markdown",
   "id": "d19177c1-8c7b-42ae-837a-670bef6bc5cb",
   "metadata": {},
   "source": [
    "### Attempt 3: GradientBoosting.LightGBM"
   ]
  },
  {
   "cell_type": "code",
   "execution_count": null,
   "id": "d118fa47-8057-43af-a1af-d3153eacf8e4",
   "metadata": {},
   "outputs": [],
   "source": [
    "train_lgb_data = lgb.Dataset(X_train_preprocessed, label=y_train, free_raw_data=True)"
   ]
  },
  {
   "cell_type": "code",
   "execution_count": null,
   "id": "66c4a64f-b9e5-4626-b215-dcf6f359a985",
   "metadata": {},
   "outputs": [],
   "source": [
    "val_lgb_data = lgb.Dataset(X_val_preprocessed, label=y_val, reference=train_lgb_data, free_raw_data=True)"
   ]
  },
  {
   "cell_type": "code",
   "execution_count": null,
   "id": "8f83963b-6c80-4077-9b0a-6678998a9bb2",
   "metadata": {},
   "outputs": [],
   "source": [
    "params = {\n",
    "        \"objective\": \"regression\",\n",
    "        \"metric\": \"rmse\",\n",
    "        \"verbosity\": -1,\n",
    "        \"boosting_type\": \"gbdt\",\n",
    "        'max_depth': 3,\n",
    "        'max_bin': 3000\n",
    "    }"
   ]
  },
  {
   "cell_type": "code",
   "execution_count": null,
   "id": "ad815fe2-0641-488c-ae3a-f155cf5cee30",
   "metadata": {},
   "outputs": [],
   "source": [
    "model = lgb.train(\n",
    "        params,\n",
    "        train_lgb_data,\n",
    "        valid_sets=[train_lgb_data, val_lgb_data],\n",
    "        callbacks=[early_stopping(100), log_evaluation(100)],\n",
    "        num_boost_round=2000\n",
    "    )"
   ]
  },
  {
   "cell_type": "code",
   "execution_count": null,
   "id": "9b5f374e-1121-4677-986b-be6e6b1e2688",
   "metadata": {},
   "outputs": [],
   "source": [
    "model.best_score, model.params"
   ]
  },
  {
   "cell_type": "code",
   "execution_count": null,
   "id": "6d3f6e40-27ad-4091-aba8-dc7de1750433",
   "metadata": {},
   "outputs": [],
   "source": [
    "y_val_predicted = model.predict(X_val_preprocessed)"
   ]
  },
  {
   "cell_type": "code",
   "execution_count": null,
   "id": "4873dd3e-a416-49df-96f0-a584dd70b74c",
   "metadata": {},
   "outputs": [],
   "source": [
    "from sklearn.metrics import r2_score, mean_absolute_error"
   ]
  },
  {
   "cell_type": "code",
   "execution_count": null,
   "id": "10898900-c727-4880-af90-32b2e76fce35",
   "metadata": {},
   "outputs": [],
   "source": [
    "r2_score(y_val, y_val_predicted)"
   ]
  },
  {
   "cell_type": "code",
   "execution_count": null,
   "id": "6dfbd464-76b0-4b6d-8bb3-7012d022f8e0",
   "metadata": {},
   "outputs": [],
   "source": [
    "mean_absolute_error(y_val, y_val_predicted)"
   ]
  },
  {
   "cell_type": "markdown",
   "id": "0b13a4b6-0059-48ed-929c-ec8506c2d12c",
   "metadata": {},
   "source": [
    "### Attempt 4: GradientBoosting.XGBoost"
   ]
  },
  {
   "cell_type": "code",
   "execution_count": 1,
   "id": "12f7a906-c740-4949-b388-48997a13265e",
   "metadata": {},
   "outputs": [],
   "source": [
    "import xgboost\n"
   ]
  },
  {
   "cell_type": "code",
   "execution_count": 2,
   "id": "e0a2645a-7f47-4e41-8b94-6ac42fe1f959",
   "metadata": {},
   "outputs": [],
   "source": [
    "def objective(trial):\n",
    "\n",
    "    dtrain = xgb.DMatrix(X_train_preprocessed, label=y_train)\n",
    "    dtest = xgb.DMatrix(X_val_preprocessed, label=y_val)\n",
    "\n",
    "    param = {\n",
    "        \"silent\": 1,\n",
    "        \"objective\": \"reg:squarederror\",\n",
    "        \"eval_metric\": \"rmse\",\n",
    "        \"booster\": trial.suggest_categorical(\"booster\", [\"gbtree\", \"gblinear\", \"dart\"]),\n",
    "        \"lambda\": trial.suggest_loguniform(\"lambda\", 1e-8, 1.0),\n",
    "        \"alpha\": trial.suggest_loguniform(\"alpha\", 1e-8, 1.0),\n",
    "        \"max_depth\": trial.suggest_int(\"max_depth\", 1, 9),\n",
    "        \"eta\": trial.suggest_loguniform(\"eta\", 1e-8, 1.0),\n",
    "        \"gamma\": trial.suggest_loguniform(\"gamma\", 1e-8, 1.0),\n",
    "        \"grow_policy\": trial.suggest_categorical(\"grow_policy\", [\"depthwise\", \"lossguide\"])\n",
    "    }\n",
    "\n",
    "\n",
    "    pruning_callback = optuna.integration.XGBoostPruningCallback(trial, \"validation-rmse\")\n",
    "    bst = xgb.train(param, dtrain, evals=[(dtest, \"validation\")], callbacks=[pruning_callback])\n",
    "    preds = bst.predict(dtest)\n",
    "    rmse = mean_squared_error(y_val, preds, squared=False)\n",
    "    return rmse"
   ]
  },
  {
   "cell_type": "code",
   "execution_count": null,
   "id": "faa5d6a7-940b-40d8-894a-95668c711dc8",
   "metadata": {},
   "outputs": [],
   "source": [
    "    study_xgb = optuna.create_study(direction=\"minimize\")\n",
    "    study_xgb.optimize(objective, n_trials=500, timeout=600)\n",
    "\n",
    "    print(\"Number of finished trials: \", len(study_xgb.trials))\n",
    "    print(\"Best trial:\")\n",
    "    trial = study_xgb.best_trial\n",
    "\n",
    "    print(\"  Value: {}\".format(trial.value))\n",
    "    print(\"  Params: \")\n",
    "    for key, value in trial.params.items():\n",
    "        print(\"    {}: {}\".format(key, value))"
   ]
  }
 ],
 "metadata": {
  "kernelspec": {
   "display_name": "ml-zoomcamp-hw",
   "language": "python",
   "name": "ml-zoomcamp-hw"
  },
  "language_info": {
   "codemirror_mode": {
    "name": "ipython",
    "version": 3
   },
   "file_extension": ".py",
   "mimetype": "text/x-python",
   "name": "python",
   "nbconvert_exporter": "python",
   "pygments_lexer": "ipython3",
   "version": "3.10.13"
  }
 },
 "nbformat": 4,
 "nbformat_minor": 5
}
