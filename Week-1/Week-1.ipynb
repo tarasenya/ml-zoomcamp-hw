{
 "cells": [
  {
   "cell_type": "code",
   "execution_count": 83,
   "id": "6291676a",
   "metadata": {},
   "outputs": [
    {
     "name": "stdout",
     "output_type": "stream",
     "text": [
      "--2023-09-24 20:40:06--  https://raw.githubusercontent.com/alexeygrigorev/datasets/master/housing.csv\n",
      "Resolving raw.githubusercontent.com (raw.githubusercontent.com)... 2606:50c0:8000::154, 2606:50c0:8003::154, 2606:50c0:8002::154, ...\n",
      "Connecting to raw.githubusercontent.com (raw.githubusercontent.com)|2606:50c0:8000::154|:443... connected.\n",
      "HTTP request sent, awaiting response... 200 OK\n",
      "Length: 1423529 (1,4M) [text/plain]\n",
      "Saving to: ‘housing.csv.1’\n",
      "\n",
      "housing.csv.1       100%[===================>]   1,36M  --.-KB/s    in 0,1s    \n",
      "\n",
      "2023-09-24 20:40:07 (9,11 MB/s) - ‘housing.csv.1’ saved [1423529/1423529]\n",
      "\n"
     ]
    }
   ],
   "source": [
    "!wget https://raw.githubusercontent.com/alexeygrigorev/datasets/master/housing.csv"
   ]
  },
  {
   "cell_type": "code",
   "execution_count": 84,
   "id": "246e3209",
   "metadata": {},
   "outputs": [],
   "source": [
    "import pandas as pd\n",
    "import numpy as np\n",
    "from sklearn.linear_model import LinearRegression, Ridge\n",
    "from sklearn.metrics import mean_squared_error"
   ]
  },
  {
   "cell_type": "code",
   "execution_count": 85,
   "id": "3c2b7b01",
   "metadata": {},
   "outputs": [
    {
     "data": {
      "text/plain": [
       "<Axes: >"
      ]
     },
     "execution_count": 85,
     "metadata": {},
     "output_type": "execute_result"
    },
    {
     "data": {
      "image/png": "[encoded data removed]",
      "text/plain": [
       "<Figure size 640x480 with 1 Axes>"
      ]
     },
     "metadata": {},
     "output_type": "display_data"
    }
   ],
   "source": [
    "# EDA\n",
    "housing = pd.read_csv('housing.csv')\n",
    "housing.median_house_value.hist()"
   ]
  },
  {
   "cell_type": "markdown",
   "id": "cb3c962f",
   "metadata": {},
   "source": [
    "#### Preparing the dataset\n",
    "\n",
    "For this homework, we only want to use a subset of data.\n",
    "\n",
    "First, keep only the records where ocean_proximity is either '<1H OCEAN' or 'INLAND'\n",
    "\n",
    "Next, use only the following columns:\n",
    "\n",
    "    'latitude',\n",
    "    'longitude',\n",
    "    'housing_median_age',\n",
    "    'total_rooms',\n",
    "    'total_bedrooms',\n",
    "    'population',\n",
    "    'households',\n",
    "    'median_income',\n",
    "    'median_house_value'\n"
   ]
  },
  {
   "cell_type": "code",
   "execution_count": 86,
   "id": "962ea85b",
   "metadata": {},
   "outputs": [
    {
     "data": {
      "text/html": [
       "<div>\n",
       "<style scoped>\n",
       "    .dataframe tbody tr th:only-of-type {\n",
       "        vertical-align: middle;\n",
       "    }\n",
       "\n",
       "    .dataframe tbody tr th {\n",
       "        vertical-align: top;\n",
       "    }\n",
       "\n",
       "    .dataframe thead th {\n",
       "        text-align: right;\n",
       "    }\n",
       "</style>\n",
       "<table border=\"1\" class=\"dataframe\">\n",
       "  <thead>\n",
       "    <tr style=\"text-align: right;\">\n",
       "      <th></th>\n",
       "      <th>latitude</th>\n",
       "      <th>longitude</th>\n",
       "      <th>housing_median_age</th>\n",
       "      <th>total_rooms</th>\n",
       "      <th>total_bedrooms</th>\n",
       "      <th>population</th>\n",
       "      <th>households</th>\n",
       "      <th>median_income</th>\n",
       "      <th>median_house_value</th>\n",
       "    </tr>\n",
       "  </thead>\n",
       "  <tbody>\n",
       "    <tr>\n",
       "      <th>701</th>\n",
       "      <td>37.64</td>\n",
       "      <td>-121.97</td>\n",
       "      <td>32.0</td>\n",
       "      <td>1283.0</td>\n",
       "      <td>194.0</td>\n",
       "      <td>485.0</td>\n",
       "      <td>171.0</td>\n",
       "      <td>6.0574</td>\n",
       "      <td>431000.0</td>\n",
       "    </tr>\n",
       "    <tr>\n",
       "      <th>830</th>\n",
       "      <td>37.61</td>\n",
       "      <td>-121.99</td>\n",
       "      <td>9.0</td>\n",
       "      <td>3666.0</td>\n",
       "      <td>711.0</td>\n",
       "      <td>2341.0</td>\n",
       "      <td>703.0</td>\n",
       "      <td>4.6458</td>\n",
       "      <td>217000.0</td>\n",
       "    </tr>\n",
       "    <tr>\n",
       "      <th>859</th>\n",
       "      <td>37.57</td>\n",
       "      <td>-121.97</td>\n",
       "      <td>21.0</td>\n",
       "      <td>4342.0</td>\n",
       "      <td>783.0</td>\n",
       "      <td>2172.0</td>\n",
       "      <td>789.0</td>\n",
       "      <td>4.6146</td>\n",
       "      <td>247600.0</td>\n",
       "    </tr>\n",
       "    <tr>\n",
       "      <th>860</th>\n",
       "      <td>37.58</td>\n",
       "      <td>-121.96</td>\n",
       "      <td>15.0</td>\n",
       "      <td>3575.0</td>\n",
       "      <td>597.0</td>\n",
       "      <td>1777.0</td>\n",
       "      <td>559.0</td>\n",
       "      <td>5.7192</td>\n",
       "      <td>283500.0</td>\n",
       "    </tr>\n",
       "    <tr>\n",
       "      <th>861</th>\n",
       "      <td>37.58</td>\n",
       "      <td>-121.98</td>\n",
       "      <td>20.0</td>\n",
       "      <td>4126.0</td>\n",
       "      <td>1031.0</td>\n",
       "      <td>2079.0</td>\n",
       "      <td>975.0</td>\n",
       "      <td>3.6832</td>\n",
       "      <td>216900.0</td>\n",
       "    </tr>\n",
       "  </tbody>\n",
       "</table>\n",
       "</div>"
      ],
      "text/plain": [
       "     latitude  longitude  housing_median_age  total_rooms  total_bedrooms  \\\n",
       "701     37.64    -121.97                32.0       1283.0           194.0   \n",
       "830     37.61    -121.99                 9.0       3666.0           711.0   \n",
       "859     37.57    -121.97                21.0       4342.0           783.0   \n",
       "860     37.58    -121.96                15.0       3575.0           597.0   \n",
       "861     37.58    -121.98                20.0       4126.0          1031.0   \n",
       "\n",
       "     population  households  median_income  median_house_value  \n",
       "701       485.0       171.0         6.0574            431000.0  \n",
       "830      2341.0       703.0         4.6458            217000.0  \n",
       "859      2172.0       789.0         4.6146            247600.0  \n",
       "860      1777.0       559.0         5.7192            283500.0  \n",
       "861      2079.0       975.0         3.6832            216900.0  "
      ]
     },
     "execution_count": 86,
     "metadata": {},
     "output_type": "execute_result"
    }
   ],
   "source": [
    "ocean_proximity_labels  =set(['<1H OCEAN', 'INLAND'])\n",
    "columns_to_use = ['latitude','longitude','housing_median_age','total_rooms','total_bedrooms','population','households','median_income','median_house_value']\n",
    "housing_reduced = housing[housing.ocean_proximity.isin(ocean_proximity_labels)][columns_to_use]\n",
    "housing_reduced.head()"
   ]
  },
  {
   "cell_type": "markdown",
   "id": "48b70749",
   "metadata": {},
   "source": [
    "### Question 1\n",
    "There's one feature with missing values. What is it?"
   ]
  },
  {
   "cell_type": "code",
   "execution_count": 87,
   "id": "7943e430",
   "metadata": {},
   "outputs": [
    {
     "name": "stdout",
     "output_type": "stream",
     "text": [
      "<class 'pandas.core.frame.DataFrame'>\n",
      "Index: 15687 entries, 701 to 20639\n",
      "Data columns (total 9 columns):\n",
      " #   Column              Non-Null Count  Dtype  \n",
      "---  ------              --------------  -----  \n",
      " 0   latitude            15687 non-null  float64\n",
      " 1   longitude           15687 non-null  float64\n",
      " 2   housing_median_age  15687 non-null  float64\n",
      " 3   total_rooms         15687 non-null  float64\n",
      " 4   total_bedrooms      15530 non-null  float64\n",
      " 5   population          15687 non-null  float64\n",
      " 6   households          15687 non-null  float64\n",
      " 7   median_income       15687 non-null  float64\n",
      " 8   median_house_value  15687 non-null  float64\n",
      "dtypes: float64(9)\n",
      "memory usage: 1.2 MB\n"
     ]
    }
   ],
   "source": [
    "housing_reduced.info()"
   ]
  },
  {
   "cell_type": "code",
   "execution_count": 88,
   "id": "36645417",
   "metadata": {},
   "outputs": [
    {
     "name": "stdout",
     "output_type": "stream",
     "text": [
      "This column is total_bedrooms\n"
     ]
    }
   ],
   "source": [
    "print(f'This column is {housing_reduced.columns[housing_reduced.isna().sum() !=0][0]}')"
   ]
  },
  {
   "cell_type": "markdown",
   "id": "7c7ffbe7",
   "metadata": {},
   "source": [
    "### Question 2\n",
    "What's the median (50% percentile) for variable 'population'?"
   ]
  },
  {
   "cell_type": "code",
   "execution_count": 89,
   "id": "cdf95317",
   "metadata": {},
   "outputs": [
    {
     "name": "stdout",
     "output_type": "stream",
     "text": [
      "Median for population variable is 1195.0\n"
     ]
    }
   ],
   "source": [
    "print(f'Median for population variable is {housing_reduced.population.median()}')"
   ]
  },
  {
   "cell_type": "markdown",
   "id": "48e4febc",
   "metadata": {},
   "source": [
    "### Prepare and split the dataset\n",
    "\n",
    "    * Shuffle the dataset (the filtered one you created above), use seed 42.\n",
    "    * Split your data in train/val/test sets, with 60%/20%/20% distribution.\n",
    "    * Apply the log transformation to the median_house_value variable using the np.log1p() function.\n"
   ]
  },
  {
   "cell_type": "code",
   "execution_count": 90,
   "id": "2552c0f2",
   "metadata": {},
   "outputs": [],
   "source": [
    "# Shuffling and splitting\n",
    "n = len(housing_reduced)\n",
    "n_val = int(n * 0.2)\n",
    "n_test = int(n * 0.2)\n",
    "n_train = n - n_val - n_test\n",
    "\n",
    "idx = np.arange(n)\n",
    "\n",
    "np.random.seed(42)\n",
    "np.random.shuffle(idx)\n",
    "\n",
    "housing_reduced_train = housing_reduced.iloc[idx[:n_train]]\n",
    "housing_reduced_val = housing_reduced.iloc[idx[n_train:n_train+n_val]]\n",
    "housing_reduced_test = housing_reduced.iloc[idx[n_train+n_val:]]"
   ]
  },
  {
   "cell_type": "code",
   "execution_count": 91,
   "id": "7af66c09",
   "metadata": {},
   "outputs": [],
   "source": [
    "housing_reduced_train = housing_reduced_train.reset_index(drop=True)\n",
    "housing_reduced_val = housing_reduced_val.reset_index(drop=True)\n",
    "housing_reduced_test = housing_reduced_test.reset_index(drop=True)"
   ]
  },
  {
   "cell_type": "code",
   "execution_count": 92,
   "id": "19db3c97",
   "metadata": {},
   "outputs": [],
   "source": [
    "y_train = np.log1p(housing_reduced_train['median_house_value'].values)\n",
    "y_val = np.log1p(housing_reduced_val['median_house_value'].values)\n",
    "y_test = np.log1p(housing_reduced_test['median_house_value'].values)"
   ]
  },
  {
   "cell_type": "code",
   "execution_count": 93,
   "id": "0cec7161",
   "metadata": {},
   "outputs": [],
   "source": [
    "del housing_reduced_train['median_house_value']\n",
    "del housing_reduced_val['median_house_value']\n",
    "del housing_reduced_test['median_house_value']"
   ]
  },
  {
   "cell_type": "markdown",
   "id": "a8c5ba46",
   "metadata": {},
   "source": [
    "### Question 3\n",
    "\n",
    "    * We need to deal with missing values for the column from Q1.\n",
    "    * We have two options: fill it with 0 or with the mean of this variable.\n",
    "    * Try both options. For each, train a linear regression model without regularization using the code from the lessons.\n",
    "    * For computing the mean, use the training only!\n",
    "    * Use the validation dataset to evaluate the models and compare the RMSE of each option.\n",
    "    * Round the RMSE scores to 2 decimal digits using round(score, 2)\n",
    "    * Which option gives better RMSE?\n"
   ]
  },
  {
   "cell_type": "code",
   "execution_count": 94,
   "id": "504b2a99",
   "metadata": {},
   "outputs": [],
   "source": [
    "def fill_na(X, m):\n",
    "    X_copy = X.copy()\n",
    "    X_copy.total_bedrooms.fillna(m, inplace=True)\n",
    "    return X_copy"
   ]
  },
  {
   "cell_type": "code",
   "execution_count": 95,
   "id": "44230bca",
   "metadata": {},
   "outputs": [],
   "source": [
    "m = 0\n",
    "housing_reduced_train_0 = fill_na(housing_reduced_train, 0)\n",
    "housing_reduced_test_0 = fill_na(housing_reduced_test, 0)\n",
    "housing_reduced_val_0 = fill_na(housing_reduced_val, 0)"
   ]
  },
  {
   "cell_type": "code",
   "execution_count": 96,
   "id": "e082cb30",
   "metadata": {},
   "outputs": [],
   "source": [
    "m = housing_reduced_train.total_bedrooms.mean()\n",
    "housing_reduced_train_mean = fill_na(housing_reduced_train, m)\n",
    "housing_reduced_test_mean = fill_na(housing_reduced_test, m)\n",
    "housing_reduced_val_mean = fill_na(housing_reduced_val, m)"
   ]
  },
  {
   "cell_type": "code",
   "execution_count": 97,
   "id": "2e949526",
   "metadata": {},
   "outputs": [],
   "source": [
    "def train_and_validate_lin_reg(X_train, y_train, X_val, y_val):\n",
    "    lr = LinearRegression()\n",
    "    lr.fit(X_train, y_train)\n",
    "    y_val_predicted = lr.predict(X_val)\n",
    "    return round(mean_squared_error(y_val, y_val_predicted, squared=False), 2)"
   ]
  },
  {
   "cell_type": "code",
   "execution_count": 98,
   "id": "89b549b1",
   "metadata": {},
   "outputs": [],
   "source": [
    "rmse_0 = train_and_validate_lin_reg(housing_reduced_train_0, y_train, housing_reduced_val_0, y_val)"
   ]
  },
  {
   "cell_type": "code",
   "execution_count": 99,
   "id": "651d2db3",
   "metadata": {},
   "outputs": [],
   "source": [
    "rmse_mean = train_and_validate_lin_reg(housing_reduced_train_mean, y_train, housing_reduced_val_mean, y_val)"
   ]
  },
  {
   "cell_type": "code",
   "execution_count": 100,
   "id": "99b034af",
   "metadata": {},
   "outputs": [
    {
     "data": {
      "text/plain": [
       "(0.34, 0.34)"
      ]
     },
     "execution_count": 100,
     "metadata": {},
     "output_type": "execute_result"
    }
   ],
   "source": [
    "rmse_0, rmse_mean"
   ]
  },
  {
   "cell_type": "markdown",
   "id": "9c189441",
   "metadata": {},
   "source": [
    "There is no difference what filling strategy we use"
   ]
  },
  {
   "cell_type": "markdown",
   "id": "ec7cd215",
   "metadata": {},
   "source": [
    "### Question 4\n",
    "\n",
    "    * Now let's train a regularized linear regression.\n",
    "    * For this question, fill the NAs with 0.\n",
    "    * Try different values of r from this list: [0, 0.000001, 0.0001, 0.001, 0.01, 0.1, 1, 5, 10].\n",
    "    * Use RMSE to evaluate the model on the validation dataset.\n",
    "    * Round the RMSE scores to 2 decimal digits.\n",
    "    * Which r gives the best RMSE?\n",
    "\n",
    "If there are multiple options, select the smallest r."
   ]
  },
  {
   "cell_type": "code",
   "execution_count": 101,
   "id": "69cf4cc8",
   "metadata": {},
   "outputs": [],
   "source": [
    "def train_reg_and_return_rmse_on_val(X_train, y_train,X_val,y_val, r):\n",
    "    print(f'For {r}:')\n",
    "    ridge = Ridge(alpha=r)\n",
    "    ridge.fit(X_train, y_train)\n",
    "    print(round(mean_squared_error(ridge.predict(X_val), y_val,squared=False), 2))\n",
    "    return round(mean_squared_error(ridge.predict(X_val), y_val,squared=False), 2)"
   ]
  },
  {
   "cell_type": "code",
   "execution_count": 102,
   "id": "fb023e83",
   "metadata": {},
   "outputs": [
    {
     "name": "stdout",
     "output_type": "stream",
     "text": [
      "For 0:\n",
      "0.34\n",
      "For 1e-06:\n",
      "0.34\n",
      "For 0.0001:\n",
      "0.34\n",
      "For 0.001:\n",
      "0.34\n",
      "For 0.01:\n",
      "0.34\n",
      "For 0.1:\n",
      "0.34\n",
      "For 1:\n",
      "0.34\n",
      "For 5:\n",
      "0.34\n",
      "For 10:\n",
      "0.34\n"
     ]
    }
   ],
   "source": [
    "r_arr = [0, 0.000001, 0.0001, 0.001, 0.01, 0.1, 1, 5, 10]\n",
    "result_dict = dict.fromkeys(r_arr)\n",
    "for r in r_arr:\n",
    "    result_dict[r] = train_reg_and_return_rmse_on_val(housing_reduced_train_0, y_train, housing_reduced_val_0, y_val, r)\n",
    "    "
   ]
  },
  {
   "cell_type": "code",
   "execution_count": 103,
   "id": "8881b76b",
   "metadata": {},
   "outputs": [
    {
     "data": {
      "text/plain": [
       "{0: 0.34,\n",
       " 1e-06: 0.34,\n",
       " 0.0001: 0.34,\n",
       " 0.001: 0.34,\n",
       " 0.01: 0.34,\n",
       " 0.1: 0.34,\n",
       " 1: 0.34,\n",
       " 5: 0.34,\n",
       " 10: 0.34}"
      ]
     },
     "execution_count": 103,
     "metadata": {},
     "output_type": "execute_result"
    }
   ],
   "source": [
    "result_dict"
   ]
  },
  {
   "cell_type": "markdown",
   "id": "cb514011",
   "metadata": {},
   "source": [
    "RMSE does not chang, because all the coefficients are small and by using Ridge regression we impose the condition: coefficients are smaller that $1/\\alpha$"
   ]
  },
  {
   "cell_type": "markdown",
   "id": "f567a583",
   "metadata": {},
   "source": [
    "### Question 5\n",
    "\n",
    "    We used seed 42 for splitting the data. Let's find out how selecting the seed influences our score.\n",
    "    * Try different seed values: [0, 1, 2, 3, 4, 5, 6, 7, 8, 9].\n",
    "    * For each seed, do the train/validation/test split with 60%/20%/20% distribution.\n",
    "    * Fill the missing values with 0 and train a model without regularization.\n",
    "    * For each seed, evaluate the model on the validation dataset and collect the RMSE scores.\n",
    "    * What's the standard deviation of all the scores? To compute the standard deviation, use np.std.\n",
    "    * Round the result to 3 decimal digits (round(std, 3))\n",
    "\n",
    "What's the value of std?\n",
    "\n",
    "    * 0.5\n",
    "    * 0.05\n",
    "    * 0.005\n",
    "    * 0.0005\n"
   ]
  },
  {
   "cell_type": "code",
   "execution_count": 104,
   "id": "036a0904",
   "metadata": {},
   "outputs": [],
   "source": [
    "def procedure_for_a_seed(seed):\n",
    "    n = len(housing_reduced)\n",
    "    n_val = int(n * 0.2)\n",
    "    n_test = int(n * 0.2)\n",
    "    n_train = n - n_val - n_test\n",
    "\n",
    "    idx = np.arange(n)\n",
    "\n",
    "    np.random.seed(seed)\n",
    "    np.random.shuffle(idx)\n",
    "\n",
    "    housing_reduced_train = housing_reduced.iloc[idx[:n_train]]\n",
    "    housing_reduced_val = housing_reduced.iloc[idx[n_train:n_train+n_val]]\n",
    "    housing_reduced_test = housing_reduced.iloc[idx[n_train+n_val:]]\n",
    "    \n",
    "    housing_reduced_train = housing_reduced_train.reset_index(drop=True)\n",
    "    housing_reduced_val = housing_reduced_val.reset_index(drop=True)\n",
    "    housing_reduced_test = housing_reduced_test.reset_index(drop=True)\n",
    "    \n",
    "    y_train = np.log1p(housing_reduced_train['median_house_value'].values)\n",
    "    y_val = np.log1p(housing_reduced_val['median_house_value'].values)\n",
    "    y_test = np.log1p(housing_reduced_test['median_house_value'].values)\n",
    "    \n",
    "    del housing_reduced_train['median_house_value']\n",
    "    del housing_reduced_val['median_house_value']\n",
    "    del housing_reduced_test['median_house_value']\n",
    "    \n",
    "    housing_reduced_train_0 = fill_na(housing_reduced_train, 0)\n",
    "    housing_reduced_test_0 = fill_na(housing_reduced_test, 0)\n",
    "    housing_reduced_val_0 = fill_na(housing_reduced_val, 0)\n",
    "    \n",
    "    rmse_0 = train_and_validate_lin_reg(housing_reduced_train_0, y_train, housing_reduced_val_0, y_val)\n",
    "    \n",
    "    return rmse_0"
   ]
  },
  {
   "cell_type": "code",
   "execution_count": 105,
   "id": "3bab47a7",
   "metadata": {},
   "outputs": [],
   "source": [
    "rmse_scores = [procedure_for_a_seed(seed) for seed in [0, 1, 2, 3, 4, 5, 6, 7, 8, 9]]"
   ]
  },
  {
   "cell_type": "code",
   "execution_count": 106,
   "id": "2001c19d",
   "metadata": {},
   "outputs": [
    {
     "data": {
      "text/plain": [
       "0.006"
      ]
     },
     "execution_count": 106,
     "metadata": {},
     "output_type": "execute_result"
    }
   ],
   "source": [
    "round(np.std(rmse_scores), 3)"
   ]
  },
  {
   "cell_type": "markdown",
   "id": "c0c9cbaa",
   "metadata": {},
   "source": [
    "Hence the answer is 0.005"
   ]
  },
  {
   "cell_type": "markdown",
   "id": "c7e54643",
   "metadata": {},
   "source": [
    "### Question 6\n",
    "\n",
    "    * Split the dataset like previously, use seed 9.\n",
    "    * Combine train and validation datasets.\n",
    "    * Fill the missing values with 0 and train a model with r=0.001.\n",
    "    * What's the RMSE on the test dataset?\n"
   ]
  },
  {
   "cell_type": "code",
   "execution_count": 107,
   "id": "9472930b",
   "metadata": {},
   "outputs": [
    {
     "name": "stdout",
     "output_type": "stream",
     "text": [
      "For 0.001:\n",
      "0.33\n"
     ]
    }
   ],
   "source": [
    "n = len(housing_reduced)\n",
    "n_val = int(n * 0.2)\n",
    "n_test = int(n * 0.2)\n",
    "n_train = n - n_val - n_test\n",
    "\n",
    "idx = np.arange(n)\n",
    "\n",
    "np.random.seed(9)\n",
    "np.random.shuffle(idx)\n",
    "\n",
    "housing_reduced_train = housing_reduced.iloc[idx[:n_train]]\n",
    "housing_reduced_val = housing_reduced.iloc[idx[n_train:n_train+n_val]]\n",
    "housing_reduced_test = housing_reduced.iloc[idx[n_train+n_val:]]\n",
    "    \n",
    "housing_reduced_train = housing_reduced_train.reset_index(drop=True)\n",
    "housing_reduced_val = housing_reduced_val.reset_index(drop=True)\n",
    "housing_reduced_test = housing_reduced_test.reset_index(drop=True)\n",
    "    \n",
    "y_train = np.log1p(housing_reduced_train['median_house_value'].values)\n",
    "y_val = np.log1p(housing_reduced_val['median_house_value'].values)\n",
    "y_test = np.log1p(housing_reduced_test['median_house_value'].values)\n",
    "    \n",
    "del housing_reduced_train['median_house_value']\n",
    "del housing_reduced_val['median_house_value']\n",
    "del housing_reduced_test['median_house_value']\n",
    "    \n",
    "housing_reduced_train_0 = fill_na(housing_reduced_train, 0)\n",
    "housing_reduced_test_0 = fill_na(housing_reduced_test, 0)\n",
    "housing_reduced_val_0 = fill_na(housing_reduced_val, 0)\n",
    "    \n",
    "housing_reduced_train_val_0 = pd.concat([housing_reduced_train_0, housing_reduced_val_0])\n",
    "y_train_val = np.hstack([y_train, y_val])\n",
    "    \n",
    "rmse_0 = train_reg_and_return_rmse_on_val(housing_reduced_train_val_0, y_train_val, housing_reduced_test_0, y_test, r=0.001)"
   ]
  },
  {
   "cell_type": "code",
   "execution_count": null,
   "id": "fe5159a4",
   "metadata": {},
   "outputs": [],
   "source": []
  }
 ],
 "metadata": {
  "kernelspec": {
   "display_name": "ml-zoomcamp",
   "language": "python",
   "name": "ml-zoomcamp"
  },
  "language_info": {
   "codemirror_mode": {
    "name": "ipython",
    "version": 3
   },
   "file_extension": ".py",
   "mimetype": "text/x-python",
   "name": "python",
   "nbconvert_exporter": "python",
   "pygments_lexer": "ipython3",
   "version": "3.9.18"
  }
 },
 "nbformat": 4,
 "nbformat_minor": 5
}
