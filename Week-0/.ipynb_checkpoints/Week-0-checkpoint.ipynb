{
 "cells": [
  {
   "cell_type": "markdown",
   "id": "bf295e7c",
   "metadata": {},
   "source": [
    "### Question 1\n"
   ]
  },
  {
   "cell_type": "markdown",
   "id": "9af5dde5",
   "metadata": {},
   "source": [
    "What's the version of Pandas that you installed?\n",
    "\n"
   ]
  },
  {
   "cell_type": "code",
   "execution_count": 1,
   "id": "433d2b12",
   "metadata": {},
   "outputs": [
    {
     "name": "stdout",
     "output_type": "stream",
     "text": [
      "Pandas version is 2.0.3\n"
     ]
    }
   ],
   "source": [
    "import pandas as pd\n",
    "print(f'Pandas version is {pd.__version__}')"
   ]
  },
  {
   "cell_type": "markdown",
   "id": "ca0e4b33",
   "metadata": {},
   "source": [
    "### Question 2"
   ]
  },
  {
   "cell_type": "markdown",
   "id": "d80f70c5",
   "metadata": {},
   "source": [
    "For this homework, we'll use the California Housing Prices dataset. Download it from here.\n",
    "\n",
    "You can do it with wget:\n",
    "```console\n",
    "wget https://raw.githubusercontent.com/alexeygrigorev/datasets/master/housing.csv\n",
    "```    \n",
    "Or just open it with your browser and click \"Save as...\".\n",
    "\n",
    "Now read it with Pandas. How many columns are in the dataset?\n"
   ]
  },
  {
   "cell_type": "code",
   "execution_count": 2,
   "id": "b74f2410",
   "metadata": {},
   "outputs": [],
   "source": [
    "housing = pd.read_csv('https://raw.githubusercontent.com/alexeygrigorev/datasets/master/housing.csv')"
   ]
  },
  {
   "cell_type": "code",
   "execution_count": 4,
   "id": "1b72cfc2",
   "metadata": {},
   "outputs": [
    {
     "name": "stdout",
     "output_type": "stream",
     "text": [
      "There are 10 columns\n"
     ]
    }
   ],
   "source": [
    "print(f'There are {len(housing.columns)} columns')"
   ]
  },
  {
   "cell_type": "markdown",
   "id": "d785bbf5",
   "metadata": {},
   "source": [
    "### Question 3"
   ]
  },
  {
   "cell_type": "markdown",
   "id": "3d0ddd71",
   "metadata": {},
   "source": [
    "Which columns in the dataset have missing values?\n"
   ]
  },
  {
   "cell_type": "code",
   "execution_count": 6,
   "id": "3a7636d5",
   "metadata": {},
   "outputs": [
    {
     "name": "stdout",
     "output_type": "stream",
     "text": [
      "<class 'pandas.core.frame.DataFrame'>\n",
      "RangeIndex: 20640 entries, 0 to 20639\n",
      "Data columns (total 10 columns):\n",
      " #   Column              Non-Null Count  Dtype  \n",
      "---  ------              --------------  -----  \n",
      " 0   longitude           20640 non-null  float64\n",
      " 1   latitude            20640 non-null  float64\n",
      " 2   housing_median_age  20640 non-null  float64\n",
      " 3   total_rooms         20640 non-null  float64\n",
      " 4   total_bedrooms      20433 non-null  float64\n",
      " 5   population          20640 non-null  float64\n",
      " 6   households          20640 non-null  float64\n",
      " 7   median_income       20640 non-null  float64\n",
      " 8   median_house_value  20640 non-null  float64\n",
      " 9   ocean_proximity     20640 non-null  object \n",
      "dtypes: float64(9), object(1)\n",
      "memory usage: 1.6+ MB\n"
     ]
    }
   ],
   "source": [
    "housing.info()"
   ]
  },
  {
   "cell_type": "code",
   "execution_count": 10,
   "id": "61f51a9c",
   "metadata": {},
   "outputs": [
    {
     "data": {
      "text/plain": [
       "longitude               0\n",
       "latitude                0\n",
       "housing_median_age      0\n",
       "total_rooms             0\n",
       "total_bedrooms        207\n",
       "population              0\n",
       "households              0\n",
       "median_income           0\n",
       "median_house_value      0\n",
       "ocean_proximity         0\n",
       "dtype: int64"
      ]
     },
     "execution_count": 10,
     "metadata": {},
     "output_type": "execute_result"
    }
   ],
   "source": [
    "housing.isna().sum()"
   ]
  },
  {
   "cell_type": "markdown",
   "id": "fec7b9f5",
   "metadata": {},
   "source": [
    "total_bedrooms column has 207 missing values"
   ]
  },
  {
   "cell_type": "markdown",
   "id": "653d89fb",
   "metadata": {},
   "source": [
    "### Question 4\n",
    "How many unique values does the ocean_proximity column have?\n"
   ]
  },
  {
   "cell_type": "code",
   "execution_count": 15,
   "id": "3aaa9a4a",
   "metadata": {},
   "outputs": [
    {
     "name": "stdout",
     "output_type": "stream",
     "text": [
      "There are 5 unique values\n"
     ]
    }
   ],
   "source": [
    "print(f'There are {len(housing.ocean_proximity.unique())} unique values')"
   ]
  },
  {
   "cell_type": "markdown",
   "id": "e00c7519",
   "metadata": {},
   "source": [
    "### Question 5\n",
    "What's the average value of the median_house_value for the houses located near the bay?"
   ]
  },
  {
   "cell_type": "code",
   "execution_count": 20,
   "id": "04fa3f89",
   "metadata": {},
   "outputs": [],
   "source": [
    "near_bay_label = housing.ocean_proximity.unique()[0]\n",
    "av_value = housing[housing.ocean_proximity == near_bay_label]['median_house_value'].mean()"
   ]
  },
  {
   "cell_type": "code",
   "execution_count": 21,
   "id": "6ce5e722",
   "metadata": {},
   "outputs": [
    {
     "name": "stdout",
     "output_type": "stream",
     "text": [
      "Average value is 259212.31179039303\n"
     ]
    }
   ],
   "source": [
    "print(f'Average value is {av_value}')"
   ]
  },
  {
   "cell_type": "markdown",
   "id": "31f0aea8",
   "metadata": {},
   "source": [
    "### Question 6"
   ]
  },
  {
   "cell_type": "markdown",
   "id": "1cc97b3a",
   "metadata": {},
   "source": [
    "* Calculate the average of total_bedrooms column in the dataset.\n",
    "* Use the fillna method to fill the missing values in total_bedrooms with the mean value from the previous step.\n",
    "* Now, calculate the average of total_bedrooms again.\n",
    "* Has it changed?"
   ]
  },
  {
   "cell_type": "code",
   "execution_count": 22,
   "id": "f10a8ee9",
   "metadata": {},
   "outputs": [],
   "source": [
    "av_total_bedrooms = housing.total_bedrooms.mean()"
   ]
  },
  {
   "cell_type": "code",
   "execution_count": 27,
   "id": "661d2fac",
   "metadata": {},
   "outputs": [],
   "source": [
    "av_total_bedrooms_with_filled_na = housing.total_bedrooms.fillna(av_total_bedrooms).mean()"
   ]
  },
  {
   "cell_type": "code",
   "execution_count": 28,
   "id": "0ffb32b2",
   "metadata": {},
   "outputs": [
    {
     "data": {
      "text/plain": [
       "(537.8705525375618, 537.8705525375617)"
      ]
     },
     "execution_count": 28,
     "metadata": {},
     "output_type": "execute_result"
    }
   ],
   "source": [
    "av_total_bedrooms, av_total_bedrooms_with_filled_na"
   ]
  },
  {
   "cell_type": "markdown",
   "id": "8c586404",
   "metadata": {},
   "source": [
    "Miracle, no changes."
   ]
  },
  {
   "cell_type": "markdown",
   "id": "94027878",
   "metadata": {},
   "source": [
    "### Question 7\n"
   ]
  },
  {
   "cell_type": "markdown",
   "id": "3831346a",
   "metadata": {},
   "source": [
    "* Select all the options located on islands.\n",
    "* Select only columns housing_median_age, total_rooms, total_bedrooms.\n",
    "* Get the underlying NumPy array. Let's call it X.\n",
    "* Compute matrix-matrix multiplication between the transpose of X and X. To get the transpose, use X.T. Let's call the result XTX.\n",
    "* Compute the inverse of XTX.\n",
    "* Create an array y with values [950, 1300, 800, 1000, 1300].\n",
    "* Multiply the inverse of XTX with the transpose of X, and then multiply the result by y. Call the result w.\n",
    "* What's the value of the last element of w?"
   ]
  },
  {
   "cell_type": "code",
   "execution_count": 36,
   "id": "2a6d22ef",
   "metadata": {},
   "outputs": [],
   "source": [
    "island_label = housing.ocean_proximity.unique()[-1:][0]\n",
    "housinng_island = housing[housing.ocean_proximity == island_label]\n",
    "X = housinng_island[['housing_median_age','total_rooms', 'total_bedrooms']].to_numpy()"
   ]
  },
  {
   "cell_type": "code",
   "execution_count": 46,
   "id": "8585d171",
   "metadata": {},
   "outputs": [],
   "source": [
    "import numpy as np\n",
    "XTX = np.matmul(X.T, X)"
   ]
  },
  {
   "cell_type": "code",
   "execution_count": 47,
   "id": "7996f287",
   "metadata": {},
   "outputs": [],
   "source": [
    "inverse_XTX = np.linalg.inv(XTX)"
   ]
  },
  {
   "cell_type": "code",
   "execution_count": 41,
   "id": "1aad24a0",
   "metadata": {},
   "outputs": [],
   "source": [
    "y = np.array([950, 1300, 800, 1000, 1300])"
   ]
  },
  {
   "cell_type": "code",
   "execution_count": 51,
   "id": "8b417e76",
   "metadata": {},
   "outputs": [],
   "source": [
    "w = np.matmul(np.matmul(inverse_XTX, X.T), y)"
   ]
  },
  {
   "cell_type": "code",
   "execution_count": 55,
   "id": "b3384164",
   "metadata": {},
   "outputs": [
    {
     "name": "stdout",
     "output_type": "stream",
     "text": [
      "The last element is [5.69922946]\n"
     ]
    }
   ],
   "source": [
    "print(f'The last element is {w[-1:]}')"
   ]
  },
  {
   "cell_type": "code",
   "execution_count": null,
   "id": "56448e27",
   "metadata": {},
   "outputs": [],
   "source": []
  }
 ],
 "metadata": {
  "kernelspec": {
   "display_name": "ml-zoomcamp",
   "language": "python",
   "name": "ml-zoomcamp"
  },
  "language_info": {
   "codemirror_mode": {
    "name": "ipython",
    "version": 3
   },
   "file_extension": ".py",
   "mimetype": "text/x-python",
   "name": "python",
   "nbconvert_exporter": "python",
   "pygments_lexer": "ipython3",
   "version": "3.9.18"
  }
 },
 "nbformat": 4,
 "nbformat_minor": 5
}
